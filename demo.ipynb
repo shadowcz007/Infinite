{
 "cells": [
  {
   "cell_type": "code",
   "execution_count": 1,
   "id": "f2502353",
   "metadata": {},
   "outputs": [
    {
     "name": "stderr",
     "output_type": "stream",
     "text": [
      "C:\\Users\\38957\\anaconda3\\envs\\sd38\\lib\\site-packages\\_distutils_hack\\__init__.py:33: UserWarning: Setuptools is replacing distutils.\n",
      "  warnings.warn(\"Setuptools is replacing distutils.\")\n"
     ]
    }
   ],
   "source": [
    "from paddlenlp import Taskflow\n",
    "#summarizer = Taskflow(\"text_summarization\")"
   ]
  },
  {
   "cell_type": "code",
   "execution_count": 6,
   "id": "01542367",
   "metadata": {},
   "outputs": [
    {
     "data": {
      "text/plain": [
       "['微软裁员vr 员工并留下关于其metaverse 野心的问题',\n",
       " '“元宇宙”真的来了',\n",
       " '微软解雇超10, 000名员工',\n",
       " 'altspace vr 宣布将于3月关闭该平台',\n",
       " '微软发言人emily kaye 写道',\n",
       " '微软副总裁陈刚：从altspace vr 中学到了一切',\n",
       " '微软再裁员：wp7.1版裁员',\n",
       " 'mesh 虚拟角色还没有看到腿的引入']"
      ]
     },
     "execution_count": 6,
     "metadata": {},
     "output_type": "execute_result"
    }
   ],
   "source": [
    "summarizer([\"微软裁员 VR 员工并留下关于其 Metaverse 野心的问题\",\"微软的 Mesh 化身于去年 10 月首次亮相，但自 2021 年底以来，人们对“元宇宙”的兴奋已经大大消退。\",\"在微软采取行动解雇超过 10,000 名员工（占其全球员工总数的 5%）之后尘埃落定之后，很明显，微软不仅在其虚拟现实和混合现实设计上采取了不同的策略，而且还在缩减几个主要团队应该在刚刚起步的元宇宙中插上他们的虚拟旗帜。\",\"周五，以举办虚拟活动而闻名的长期社交 VR 平台AltspaceVR 宣布将于 3 月关闭该平台。Altspace 于 2015 年首次推出，微软在 2017 年收购了该团队。与其他早期的 VR 聊天系统一起，Altspace 被用于各种 VR 聚会，包括龙与地下城活动，远早于海岸奇才想到做同样的事情。在公司的公告中，留下的团队将转移到 Microsoft Mesh 上工作，该 Mesh 致力于将 VR 化身集成到 Teams中，该公司之前将其称为“通往元宇宙的门户”。\",\"在发给 Gizmodo 的电子邮件声明中，微软发言人 Emily Kaye 写道：\",\"“作为一家公司，微软致力于将物理和数字结合在一个开放、可访问和安全的虚拟世界中。我们从 AltspaceVR 中学到的东西为我们向 Microsoft Mesh 的转变奠定了基础，使其成为一个为所有相关人员（包括创作者、合作伙伴和客户）提供最广泛机会的平台。”\",\"微软本应成为 Meta最大的合作伙伴，试图实现他们对元宇宙的模糊目标，但最新一轮裁员是在 CEO 萨蒂亚纳德拉 (Satya Nadella) 做出“改变我们的硬件产品组合”的承诺后诞生的。\",\"在这一点上，微软产品组合中最大的 VR 项目仍然是Mesh。虽然他们自己的系统与 Horizo​​n Worlds 竞争，但似乎与 Meta avatars 具有相同的企业外观，但我们距离该公司在 2021 年初首次设想的在真实世界环境中操作全息图的 AR 仙境还很遥远。而且就像Horizo​​n Worlds一样，Mesh 虚拟角色还没有看到腿的引入。\"])"
   ]
  },
  {
   "cell_type": "code",
   "execution_count": 7,
   "id": "8407f2cf",
   "metadata": {},
   "outputs": [
    {
     "data": {
      "text/plain": [
       "['微软裁员vr 员工并留下关于其metaverse 野心的问题']"
      ]
     },
     "execution_count": 7,
     "metadata": {},
     "output_type": "execute_result"
    }
   ],
   "source": [
    "summarizer('''微软裁员 VR 员工并留下关于其 Metaverse 野心的问题\n",
    "微软的 Mesh 化身于去年 10 月首次亮相，但自 2021 年底以来，人们对“元宇宙”的兴奋已经大大消退。\n",
    "在微软采取行动解雇超过 10,000 名员工（占其全球员工总数的 5%）之后尘埃落定之后，很明显，微软不仅在其虚拟现实和混合现实设计上采取了不同的策略，而且还在缩减几个主要团队应该在刚刚起步的元宇宙中插上他们的虚拟旗帜。\n",
    "周五，以举办虚拟活动而闻名的长期社交 VR 平台AltspaceVR 宣布将于 3 月关闭该平台。Altspace 于 2015 年首次推出，微软在 2017 年收购了该团队。与其他早期的 VR 聊天系统一起，Altspace 被用于各种 VR 聚会，包括龙与地下城活动，远早于海岸奇才想到做同样的事情。在公司的公告中，留下的团队将转移到 Microsoft Mesh 上工作，该 Mesh 致力于将 VR 化身集成到 Teams中，该公司之前将其称为“通往元宇宙的门户”。\n",
    "在发给 Gizmodo 的电子邮件声明中，微软发言人 Emily Kaye 写道：\n",
    "“作为一家公司，微软致力于将物理和数字结合在一个开放、可访问和安全的虚拟世界中。我们从 AltspaceVR 中学到的东西为我们向 Microsoft Mesh 的转变奠定了基础，使其成为一个为所有相关人员（包括创作者、合作伙伴和客户）提供最广泛机会的平台。”\n",
    "微软本应成为 Meta最大的合作伙伴，试图实现他们对元宇宙的模糊目标，但最新一轮裁员是在 CEO 萨蒂亚纳德拉 (Satya Nadella) 做出“改变我们的硬件产品组合”的承诺后诞生的。\n",
    "在这一点上，微软产品组合中最大的 VR 项目仍然是Mesh。虽然他们自己的系统与 Horizo​​n Worlds 竞争，但似乎与 Meta avatars 具有相同的企业外观，但我们距离该公司在 2021 年初首次设想的在真实世界环境中操作全息图的 AR 仙境还很遥远。而且就像Horizo​​n Worlds一样，Mesh 虚拟角色还没有看到腿的引入。''')"
   ]
  },
  {
   "cell_type": "code",
   "execution_count": 46,
   "id": "c99a357f",
   "metadata": {},
   "outputs": [
    {
     "name": "stderr",
     "output_type": "stream",
     "text": [
      "\u001b[32m[2023-01-27 17:57:50,816] [    INFO]\u001b[0m - We are using <class 'paddlenlp.transformers.ernie.tokenizer.ErnieTokenizer'> to load 'utc-large'.\u001b[0m\n",
      "\u001b[32m[2023-01-27 17:57:50,817] [    INFO]\u001b[0m - Already cached C:\\Users\\38957\\.paddlenlp\\models\\utc-large\\vocab.txt\u001b[0m\n",
      "\u001b[32m[2023-01-27 17:57:50,831] [    INFO]\u001b[0m - tokenizer config file saved in C:\\Users\\38957\\.paddlenlp\\models\\utc-large\\tokenizer_config.json\u001b[0m\n",
      "\u001b[32m[2023-01-27 17:57:50,832] [    INFO]\u001b[0m - Special tokens file saved in C:\\Users\\38957\\.paddlenlp\\models\\utc-large\\special_tokens_map.json\u001b[0m\n",
      "\u001b[32m[2023-01-27 17:57:50,833] [    INFO]\u001b[0m - Assigning ['[O-MASK]'] to the additional_special_tokens key of the tokenizer\u001b[0m\n",
      "\u001b[32m[2023-01-27 17:57:50,834] [    INFO]\u001b[0m - Adding [O-MASK] to the vocabulary\u001b[0m\n"
     ]
    }
   ],
   "source": [
    "cls = Taskflow(\"zero_shot_text_classification\", schema=[\"介绍类信息\",\"主观评价类信息\", \"研究结论类信息\",\"展望未来类信息\",\"需求洞察类信息\"])"
   ]
  },
  {
   "cell_type": "code",
   "execution_count": 47,
   "id": "91bc1180",
   "metadata": {},
   "outputs": [],
   "source": [
    "text='''谁拥有生成式 AI 平台？\n",
    "我们开始看到技术堆栈的早期阶段出现在生成人工智能 (AI) 中。数以百计的新创业公司正涌入市场，开发基础模型、构建 AI 原生应用程序并建立基础设施/工具。\n",
    "换句话说，创造最大价值的公司——即训练生成式 AI 模型并将其应用于新应用程序——并没有获得大部分价值。预测接下来会发生什么要困难得多。但我们认为要了解的关键是堆栈的哪些部分是真正差异化和可防御的。这将对市场结构（即横向与纵向公司发展）和长期价值的驱动因素（例如利润率和保留率）产生重大影响。到目前为止，我们很难在现有企业的传统护城河之外的任何地方找到结构防御。\n",
    "我们非常看好生成式人工智能，相信它将对软件行业及其他行业产生巨大影响。这篇文章的目的是描绘出市场动态，并开始回答有关生成式 AI 商业模式的更广泛问题。\n",
    "高级技术堆栈：基础架构、模型和应用程序要了解生成式人工智能市场是如何形成的，我们首先需要定义堆栈今天的样子。这是我们的初步看法。\n",
    "堆栈可以分为三层：将生成的 AI 模型集成到面向用户的产品中的应用程序，运行自己的模型管道（“端到端应用程序”）或依赖第三方 API为 AI 产品提供动力的模型，可以作为专有 API 或开源检查点（反过来，这需要托管解决方案）提供为生成人工智能模型运行训练和推理工作负载的基础设施供应商（即云平台和硬件制造商）需要注意的是：这不是市场地图，而是分析市场的框架。在每个类别中，我们都列出了一些知名供应商的例子。我们没有尝试全面或列出所有已发布的惊人的生成 AI 应用程序。我们也不会在这里深入探讨 MLops 或 LLMops 工具，它们尚未高度标准化，将在以后的帖子中解决。\n",
    "第一波生成式 AI 应用程序开始形成规模，但在留存率和差异化方面举步维艰在之前的技术周期中，传统观点认为，要建立一家大型独立公司，您必须拥有最终客户——无论是个人消费者还是 B2B 买家。人们很容易相信生成人工智能领域最大的公司也将成为终端用户应用程序。到目前为止，还不清楚是不是这样。\n",
    "可以肯定的是，在纯粹的新颖性和大量用例的推动下，生成式 AI 应用程序的增长一直是惊人的。事实上，我们知道至少三个产品类别的年收入已经超过 1 亿美元：图像生成、文案撰写和代码编写。\n",
    "然而，仅靠增长还不足以建立经久不衰的软件公司。至关重要的是，增长必须是有利可图的——从某种意义上说，用户和客户一旦注册，就会产生利润（高毛利率）并长期坚持（高保留率）。在缺乏强大技术差异的情况下，B2B 和 B2C 应用程序通过网络效应、保留数据或构建日益复杂的工作流程来推动长期客户价值。\n",
    "在生成式人工智能中，这些假设不一定成立。在我们采访过的应用程序公司中，毛利率差异很大——在少数情况下高达 90%，但更常见的是低至 50-60%，这主要是受模型推理成本的驱动。Top-of-funnel 的增长非常惊人，但目前尚不清楚当前的客户获取策略是否具有可扩展性——我们已经看到付费获取的有效性和保留率开始下降。许多应用程序也相对没有差异化，因为它们依赖于类似的底层人工智能模型，并且没有发现竞争对手难以复制的明显网络效应或数据/工作流。\n",
    "因此，销售终端用户应用程序是建立可持续的生成式 AI 业务的唯一甚至最佳途径尚不明显。随着语言模型的竞争和效率的提高，利润率应该会提高（更多内容见下文）。随着 AI 游客离开市场，留存率应该会增加。有一个强有力的论据表明，垂直整合的应用程序在推动差异化方面具有优势。但是还有很多东西需要证明。\n",
    "展望未来，生成式 AI 应用程序公司面临的一些重大问题包括：垂直整合（“模型+应用程序”）。\n",
    "将 AI 模型作为服务使用，可以让应用程序开发人员与小团队快速迭代，并随着技术进步交换模型提供商。另一方面，一些开发人员认为产品就是模型，从头开始训练是建立防御能力的唯一方法——即通过专有产品数据不断地重新训练。但这是以更高的资本要求和更不灵活的产品团队为代价的。\n",
    "构建功能与应用程序。\n",
    "生成式 AI 产品有多种不同的形式：桌面应用程序、移动应用程序、Figma/Photoshop 插件、Chrome 扩展程序，甚至是 Discord 机器人。在用户已经工作的地方集成 AI 产品很容易，因为 UI 通常只是一个文本框。其中哪些将成为独立的公司——哪些将被微软或谷歌等已经将 AI 纳入其产品线的现有企业吸收？\n",
    "通过炒作周期进行管理。\n",
    "目前尚不清楚流失是当前批次的生成式 AI 产品固有的，还是早期市场的产物。或者，随着炒作的消退，对生成式人工智能的兴趣是否会下降。这些问题对应用程序公司具有重要意义，包括何时加速筹款；如何积极地投资于客户获取；优先考虑哪些用户细分；以及何时宣布产品市场契合度。\n",
    "模型提供商发明了生成式人工智能，但尚未达到大规模商业规模如果没有像谷歌、OpenAI 和 Stability 这样的地方所做的出色研究和工程工作，我们现在所说的生成式 AI 就不会存在。通过新颖的模型架构和扩展训练管道的巨大努力，我们都受益于当前大型语言模型 (LLM) 和图像生成模型令人惊叹的功能。\n",
    "然而，与使用量和口碑相比，与这些公司相关的收入仍然相对较小。在图像生成方面，Stable Diffusion 在用户界面、托管产品和微调方法的生态系统的支持下出现了爆炸性的社区增长。但 Stability 将他们的主要检查站作为他们业务的核心原则免费提供。在自然语言模型中，OpenAI 以 GPT-3/3.5 和 ChatGPT 占据主导地位。但到目前为止，基于 OpenAI 构建的杀手级应用相对较少，而且价格已经下降了一次。\n",
    "这可能只是暂时的现象。Stability 是一家尚未专注于货币化的新公司。OpenAI 有潜力成为一项庞大的业务，随着越来越多的杀手级应用程序的构建，它在所有 NLP 类别的收入中占据很大一部分——特别是如果它们顺利集成到 Microsoft 的产品组合中。鉴于这些模型的大量使用，大规模的收入可能并不遥远。\n",
    "但也有反作用力。作为开源发布的模型可以由任何人托管，包括不承担与大规模模型培训相关的费用（高达数千万或数亿美元）的外部公司。目前尚不清楚是否有任何闭源模型可以无限期地保持其优势。例如，我们开始看到由 Anthropic、Cohere 和 Character.ai 等公司构建的 LLM 更接近 OpenAI 的性能水平，在类似的数据集（即互联网）上训练并使用类似的模型架构。Stable Diffusion 的例子表明，如果开源模型达到足够的性能水平和社区支持，那么专有替代品可能会发现难以竞争。\n",
    "到目前为止，对于模型提供商来说，最明显的收获可能是商业化可能与托管有关。对专有 API（例如来自 OpenAI）的需求正在迅速增长。开源模型（例如 Hugging Face 和 Replicate）的托管服务正在成为方便共享和集成模型的有用中心——甚至在模型生产者和消费者之间产生一些间接的网络效应。还有一个强有力的假设是，可以通过与企业客户的微调和托管协议来获利。\n",
    "不过，除此之外，模型提供商还面临许多重大问题：商品化。\n",
    "人们普遍认为，随着时间的推移，人工智能模型的性能会趋于一致。与应用程序开发人员交谈，很明显这还没有发生，在文本和图像模型方面都有强大的领导者。它们的优势不是基于独特的模型架构，而是基于高资本要求、专有产品交互数据和稀缺的 AI 人才。这会成为一个持久的优势吗？\n",
    "毕业风险。\n",
    "依赖模型提供商是应用程序公司起步甚至发展业务的好方法。但是，一旦达到规模，他们就有动力构建和/或托管自己的模型。许多模型提供商的客户分布高度倾斜，少数应用程序占了大部分收入。如果/当这些客户转向内部 AI 开发时会发生什么？\n",
    "钱重要吗？\n",
    "生成式 AI 的前景如此广阔——也可能如此有害——以至于许多模型提供商组织了公益公司 (B corps)，发行了上限利润份额，或以其他方式将公益明确纳入其使命。这丝毫没有阻碍他们的筹款活动。\n",
    "但是，围绕大多数模型提供商是否真的想要获取价值以及他们是否应该获取价值，有一个合理的讨论。\n",
    "基础设施供应商触及一切，并获得回报生成式 AI 中的几乎所有内容都在某个时刻通过云托管 GPU（或 TPU）。无论是运行训练工作负载的模型提供商/研究实验室、运行推理/微调的托管公司，还是进行两者某种组合的应用程序公司——FLOPS都是生成式 AI 的命脉。很长一段时间以来，最具颠覆性的计算技术的进步第一次受到大规模计算的限制。\n",
    "因此，生成人工智能市场的大量资金最终流向了基础设施公司。给出一些非常粗略的数字：我们估计，平均而言，应用程序公司将大约 20-40% 的收入用于推理和针对每个客户的微调。这通常直接支付给计算实例的云提供商或第三方模型提供商——后者又将大约一半的收入用于云基础设施。因此，有理由猜测今天生成人工智能总收入的 10-20% 流向了云提供商。\n",
    "最重要的是，训练自己模型的初创公司已经筹集了数十亿美元的风险投资——其中大部分（早期高达 80-90%）通常也用于云提供商。许多上市科技公司每年花费数亿美元用于模型培训，要么与外部云提供商合作，要么直接与硬件制造商合作。\n",
    "用技术术语来说，这就是我们所说的“大量资金”——尤其是对于新兴市场而言。其中大部分用于三大云：亚马逊网络服务 (AWS)、谷歌云平台 (GCP) 和 Microsoft Azure。这些云提供商每年在资本支出上的总支出超过1000 亿美元，以确保他们拥有最全面、可靠且具有成本竞争力的平台。\n",
    "特别是在生成式 AI 中，他们还受益于供应限制，因为他们可以优先使用稀缺硬件（例如 Nvidia A100 和 H100 GPU）。\n",
    "不过，有趣的是，我们开始看到可信的竞争出现。像甲骨文这样的挑战者已经通过大笔资本支出和销售激励措施取得了进展。一些初创公司，如 Coreweave 和 Lambda Labs，凭借专门针对大型模型开发人员的解决方案迅速成长。他们在成本、可用性和个性化支持方面展开竞争。它们还公开了更细粒度的资源抽象（即容器），而由于 GPU 虚拟化限制，大型云仅提供 VM 实例。\n",
    "在幕后，运行绝大多数 AI 工作负载的可能是迄今为止生成 AI 领域的最大赢家：Nvidia。该公司报告称，其 2023 财年第三季度的数据中心 GPU 收入为 38亿美元，其中相当一部分用于生成 AI 用例。\n",
    "通过数十年来对 GPU 架构的投资、强大的软件生态系统以及在学术界的深入使用，他们围绕这项业务建立了强大的护城河。\n",
    "最近的一项分析发现，Nvidia GPU 在研究论文中的引用次数是顶级 AI 芯片初创公司总和的 90 倍。\n",
    "确实存在其他硬件选项，包括 Google Tensor Processing Units (TPU)；AMD 本能 GPU；AWS Inferentia 和 Trainium 芯片；以及 Cerebras、Sambanova 和 Graphcore 等初创公司的 AI 加速器。迟到的英特尔也以其高端 Habana 芯片和 Ponte Vecchio GPU 进入市场。但到目前为止，这些新芯片中很少有占据显着的市场份额。值得关注的两个例外是谷歌，其 TPU 在 Stable Diffusion 社区和一些大型 GCP 交易中获得了关注，而台积电被认为制造了此处列出的所有芯片，包括 Nvidia GPU（英特尔混合使用其自己的晶圆厂和台积电来制造芯片）。\n",
    "换句话说，基础设施是堆栈中有利可图、持久且看似可防御的层。基础设施公司需要回答的重大问题包括：坚持无状态工作负载。\n",
    "无论您在哪里租用 Nvidia GPU，它们都是一样的。大多数 AI 工作负载是无状态的，因为模型推理不需要附加的数据库或存储（模型权重本身除外）。这意味着 AI 工作负载可能比传统应用程序工作负载更易于跨云移植。在这种情况下，云提供商如何创造粘性并防止客户跳到最便宜的选择？\n",
    "在芯片稀缺的终结中幸存下来。\n",
    "云提供商和 Nvidia 本身的定价得到了最理想 GPU 稀缺供应的支持。一位供应商告诉我们，A100 的标价自发布以来实际上已经上涨，这对于计算硬件来说是非常不寻常的。当通过增加产量和/或采用新硬件平台最终消除这种供应限制时，这将如何影响云提供商？\n",
    "挑战者云能否突围？\n",
    "我们坚信，垂直云将通过更专业的产品从三巨头那里夺取市场份额。到目前为止，在 AI 领域，挑战者已经通过适度的技术差异化和 Nvidia 的支持获得了有意义的牵引力——对 Nvidia 来说，现有的云提供商既是最大的客户，也是新兴的竞争对手。长期的问题是，这是否足以克服三巨头的规模优势？\n",
    "那么……价值将在哪里累积？\n",
    "当然，我们还不知道。但根据我们拥有的生成式 AI 的早期数据，结合我们与早期 AI/ML 公司的经验，我们的直觉如下。\n",
    "今天，生成式人工智能似乎没有任何系统性的护城河。作为一阶近似，应用程序缺乏很强的产品差异化，因为它们使用相似的模型；模型面临不明确的长期差异，因为它们是在具有相似架构的相似数据集上训练的；云提供商缺乏深度的技术差异化，因为他们运行相同的 GPU；甚至硬件公司也在同一家工厂生产芯片。\n",
    "当然，还有标准的护城河：规模护城河（“我拥有或可以筹集到比你更多的钱！”）、供应链护城河（“我有 GPU，你没有！”）、生态系统护城河（“每个人都已经在使用我的软件了！”）、算法护城河（“我们比你聪明！”）、分销护城河（“我已经有一个销售团队和比你更多的客户！”）和数据管道护城河（“我'我在互联网上的爬行比你还多！”）。但从长远来看，这些护城河都不会持久。现在判断强大、直接的网络效应是否在堆栈的任何层中占据主导地位还为时过早。\n",
    "根据可用数据，尚不清楚生成式 AI 是否会出现长期的、赢者通吃的动态。\n",
    "这很奇怪。但对我们来说，这是个好消息。这个市场的潜在规模很难把握——介于所有软件和所有人类努力之间- 所以我们期待在堆栈的各个级别都有很多很多玩家和健康的竞争。我们还期望横向和纵向公司都能成功，最终市场和最终用户决定采用最佳方法。例如，如果最终产品的主要差异化是 AI 本身，那么垂直化（即将面向用户的应用程序与本土模型紧密耦合）很可能会胜出。而如果 AI 是更大的长尾特征集的一部分，那么它更有可能发生水平化。当然，随着时间的推移，我们还应该看到更多传统护城河的建立——我们甚至可能会看到新型护城河站稳脚跟。\n",
    "无论如何，我们可以肯定的是，生成式 AI 会改变游戏规则。我们都在实时学习规则，将会释放出巨大的价值，因此技术领域将变得非常非常不同。我们为此而来！'''"
   ]
  },
  {
   "cell_type": "code",
   "execution_count": 48,
   "id": "417d2dbf",
   "metadata": {
    "scrolled": false
   },
   "outputs": [],
   "source": [
    "res=cls(text.split('\\n'))"
   ]
  },
  {
   "cell_type": "code",
   "execution_count": 49,
   "id": "b4d2a54b",
   "metadata": {
    "scrolled": false
   },
   "outputs": [
    {
     "name": "stdout",
     "output_type": "stream",
     "text": [
      "[{'label': '展望未来类信息', 'score': 0.9965916182161427}]\n",
      "我们非常看好生成式人工智能，相信它将对软件行业及其他行业产生巨大影响。这篇文章的目的是描绘出市场动态，并开始回答有关生成式 AI 商业模式的更广泛问题。\n",
      "-----------------\n",
      "[{'label': '展望未来类信息', 'score': 0.9995421739629323}]\n",
      "展望未来，生成式 AI 应用程序公司面临的一些重大问题包括：垂直整合（“模型+应用程序”）。\n",
      "-----------------\n",
      "[{'label': '展望未来类信息', 'score': 0.9970528104635423}]\n",
      "生成式 AI 产品有多种不同的形式：桌面应用程序、移动应用程序、Figma/Photoshop 插件、Chrome 扩展程序，甚至是 Discord 机器人。在用户已经工作的地方集成 AI 产品很容易，因为 UI 通常只是一个文本框。其中哪些将成为独立的公司——哪些将被微软或谷歌等已经将 AI 纳入其产品线的现有企业吸收？\n",
      "-----------------\n",
      "[{'label': '展望未来类信息', 'score': 0.9941120414843845}]\n",
      "这可能只是暂时的现象。Stability 是一家尚未专注于货币化的新公司。OpenAI 有潜力成为一项庞大的业务，随着越来越多的杀手级应用程序的构建，它在所有 NLP 类别的收入中占据很大一部分——特别是如果它们顺利集成到 Microsoft 的产品组合中。鉴于这些模型的大量使用，大规模的收入可能并不遥远。\n",
      "-----------------\n",
      "[{'label': '展望未来类信息', 'score': 0.9901883114551138}]\n",
      "但也有反作用力。作为开源发布的模型可以由任何人托管，包括不承担与大规模模型培训相关的费用（高达数千万或数亿美元）的外部公司。目前尚不清楚是否有任何闭源模型可以无限期地保持其优势。例如，我们开始看到由 Anthropic、Cohere 和 Character.ai 等公司构建的 LLM 更接近 OpenAI 的性能水平，在类似的数据集（即互联网）上训练并使用类似的模型架构。Stable Diffusion 的例子表明，如果开源模型达到足够的性能水平和社区支持，那么专有替代品可能会发现难以竞争。\n",
      "-----------------\n",
      "[{'label': '展望未来类信息', 'score': 0.9953750653335404}]\n",
      "换句话说，基础设施是堆栈中有利可图、持久且看似可防御的层。基础设施公司需要回答的重大问题包括：坚持无状态工作负载。\n",
      "-----------------\n",
      "[{'label': '展望未来类信息', 'score': 0.9961063963075303}]\n",
      "根据可用数据，尚不清楚生成式 AI 是否会出现长期的、赢者通吃的动态。\n",
      "-----------------\n",
      "[{'label': '展望未来类信息', 'score': 0.9986363882682353}]\n",
      "这很奇怪。但对我们来说，这是个好消息。这个市场的潜在规模很难把握——介于所有软件和所有人类努力之间- 所以我们期待在堆栈的各个级别都有很多很多玩家和健康的竞争。我们还期望横向和纵向公司都能成功，最终市场和最终用户决定采用最佳方法。例如，如果最终产品的主要差异化是 AI 本身，那么垂直化（即将面向用户的应用程序与本土模型紧密耦合）很可能会胜出。而如果 AI 是更大的长尾特征集的一部分，那么它更有可能发生水平化。当然，随着时间的推移，我们还应该看到更多传统护城河的建立——我们甚至可能会看到新型护城河站稳脚跟。\n",
      "-----------------\n"
     ]
    }
   ],
   "source": [
    "texts=[]\n",
    "for r in res:\n",
    "    if len(r['predictions'])>0 and r['predictions'][0]['score']>0.99:\n",
    "        print(r['predictions'])\n",
    "        print(r['text_a'])\n",
    "        texts.append(r['text_a'])\n",
    "        print('-----------------')"
   ]
  },
  {
   "cell_type": "code",
   "execution_count": 45,
   "id": "36d9dca0",
   "metadata": {},
   "outputs": [
    {
     "name": "stdout",
     "output_type": "stream",
     "text": [
      "我们非常看好生成式人工智能，相信它将对软件行业及其他行业产生巨大影响。这篇文章的目的是描绘出市场动态，并开始回答有关生成式 AI 商业模式的更广泛问题。\n",
      "然而，仅靠增长还不足以建立经久不衰的软件公司。至关重要的是，增长必须是有利可图的——从某种意义上说，用户和客户一旦注册，就会产生利润（高毛利率）并长期坚持（高保留率）。在缺乏强大技术差异的情况下，B2B 和 B2C 应用程序通过网络效应、保留数据或构建日益复杂的工作流程来推动长期客户价值。\n",
      "展望未来，生成式 AI 应用程序公司面临的一些重大问题包括：垂直整合（“模型+应用程序”）。\n",
      "生成式 AI 产品有多种不同的形式：桌面应用程序、移动应用程序、Figma/Photoshop 插件、Chrome 扩展程序，甚至是 Discord 机器人。在用户已经工作的地方集成 AI 产品很容易，因为 UI 通常只是一个文本框。其中哪些将成为独立的公司——哪些将被微软或谷歌等已经将 AI 纳入其产品线的现有企业吸收？\n",
      "目前尚不清楚流失是当前批次的生成式 AI 产品固有的，还是早期市场的产物。或者，随着炒作的消退，对生成式人工智能的兴趣是否会下降。这些问题对应用程序公司具有重要意义，包括何时加速筹款；如何积极地投资于客户获取；优先考虑哪些用户细分；以及何时宣布产品市场契合度。\n",
      "换句话说，基础设施是堆栈中有利可图、持久且看似可防御的层。基础设施公司需要回答的重大问题包括：坚持无状态工作负载。\n",
      "我们坚信，垂直云将通过更专业的产品从三巨头那里夺取市场份额。到目前为止，在 AI 领域，挑战者已经通过适度的技术差异化和 Nvidia 的支持获得了有意义的牵引力——对 Nvidia 来说，现有的云提供商既是最大的客户，也是新兴的竞争对手。长期的问题是，这是否足以克服三巨头的规模优势？\n",
      "根据可用数据，尚不清楚生成式 AI 是否会出现长期的、赢者通吃的动态。\n",
      "这很奇怪。但对我们来说，这是个好消息。这个市场的潜在规模很难把握——介于所有软件和所有人类努力之间- 所以我们期待在堆栈的各个级别都有很多很多玩家和健康的竞争。我们还期望横向和纵向公司都能成功，最终市场和最终用户决定采用最佳方法。例如，如果最终产品的主要差异化是 AI 本身，那么垂直化（即将面向用户的应用程序与本土模型紧密耦合）很可能会胜出。而如果 AI 是更大的长尾特征集的一部分，那么它更有可能发生水平化。当然，随着时间的推移，我们还应该看到更多传统护城河的建立——我们甚至可能会看到新型护城河站稳脚跟。\n",
      "无论如何，我们可以肯定的是，生成式 AI 会改变游戏规则。我们都在实时学习规则，将会释放出巨大的价值，因此技术领域将变得非常非常不同。我们为此而来！\n"
     ]
    }
   ],
   "source": [
    "print(\"\\n\".join(texts))"
   ]
  },
  {
   "cell_type": "code",
   "execution_count": 25,
   "id": "734028c5",
   "metadata": {},
   "outputs": [],
   "source": [
    "#截屏\n",
    "from PIL import ImageGrab #安装Pillow包就可以\n",
    "img = ImageGrab.grab(bbox=(620,380, 900,960)) #四个数字分别是要截屏的四个角\n",
    "img.save('jieping.png') #保存图片\n",
    "def shotscreen():\n",
    "    img = ImageGrab.grab(bbox=(620,380, 900,960)) #四个数字分别是要截屏的四个角\n",
    "    img.save('jieping.png') #保存图片"
   ]
  },
  {
   "cell_type": "code",
   "execution_count": 1,
   "id": "d88996ed",
   "metadata": {},
   "outputs": [
    {
     "name": "stderr",
     "output_type": "stream",
     "text": [
      "NOTE: Redirects are currently not supported in Windows or MacOs.\n"
     ]
    },
    {
     "data": {
      "application/json": {
       "ascii": false,
       "bar_format": null,
       "colour": null,
       "elapsed": 0.02293229103088379,
       "initial": 0,
       "n": 0,
       "ncols": null,
       "nrows": 29,
       "postfix": null,
       "prefix": "Fetching 15 files",
       "rate": null,
       "total": 15,
       "unit": "it",
       "unit_divisor": 1000,
       "unit_scale": false
      },
      "application/vnd.jupyter.widget-view+json": {
       "model_id": "a24935dd34f440d4ab29a46e1dc07ddc",
       "version_major": 2,
       "version_minor": 0
      },
      "text/plain": [
       "Fetching 15 files:   0%|          | 0/15 [00:00<?, ?it/s]"
      ]
     },
     "metadata": {},
     "output_type": "display_data"
    },
    {
     "data": {
      "text/plain": [
       "StableDiffusionPipeline {\n",
       "  \"_class_name\": \"StableDiffusionPipeline\",\n",
       "  \"_diffusers_version\": \"0.6.0\",\n",
       "  \"feature_extractor\": [\n",
       "    \"transformers\",\n",
       "    \"CLIPFeatureExtractor\"\n",
       "  ],\n",
       "  \"safety_checker\": [\n",
       "    \"stable_diffusion\",\n",
       "    \"StableDiffusionSafetyChecker\"\n",
       "  ],\n",
       "  \"scheduler\": [\n",
       "    \"diffusers\",\n",
       "    \"PNDMScheduler\"\n",
       "  ],\n",
       "  \"text_encoder\": [\n",
       "    \"transformers\",\n",
       "    \"CLIPTextModel\"\n",
       "  ],\n",
       "  \"tokenizer\": [\n",
       "    \"transformers\",\n",
       "    \"CLIPTokenizer\"\n",
       "  ],\n",
       "  \"unet\": [\n",
       "    \"diffusers\",\n",
       "    \"UNet2DConditionModel\"\n",
       "  ],\n",
       "  \"vae\": [\n",
       "    \"diffusers\",\n",
       "    \"AutoencoderKL\"\n",
       "  ]\n",
       "}"
      ]
     },
     "execution_count": 1,
     "metadata": {},
     "output_type": "execute_result"
    }
   ],
   "source": [
    "from diffusers import StableDiffusionPipeline\n",
    "import torch\n",
    "# ,safety_checker=None\n",
    "torch.backends.cudnn.benchmark = True\n",
    "sd_zh_pipe = StableDiffusionPipeline.from_pretrained(\"IDEA-CCNL/Taiyi-Stable-Diffusion-1B-Chinese-EN-v0.1\", torch_dtype=torch.float16)\n",
    "sd_zh_pipe.to('cuda')\n",
    "# sd_zh_pipe = StableDiffusionPipeline.from_pretrained(\"IDEA-CCNL/Taiyi-Stable-Diffusion-1B-Chinese-EN-v0.1\").to(\"cuda\")"
   ]
  },
  {
   "cell_type": "code",
   "execution_count": 26,
   "id": "abd2d86a",
   "metadata": {},
   "outputs": [
    {
     "name": "stderr",
     "output_type": "stream",
     "text": [
      "Using CPU. Note: This module is much faster with a GPU.\n"
     ]
    }
   ],
   "source": [
    "import easyocr\n",
    "reader = easyocr.Reader(['ch_sim','en'],gpu=False) # this needs to run only once to load the model into memory\n",
    "result = reader.readtext('jieping.png')"
   ]
  },
  {
   "cell_type": "code",
   "execution_count": 2,
   "id": "45a5f9b8",
   "metadata": {},
   "outputs": [],
   "source": [
    "def create_image(text):\n",
    "    images=sd_zh_pipe(text, guidance_scale=10.0,num_images_per_prompt=1).images\n",
    "    name='result_'+str(int(time.time()))+'.png'\n",
    "    images[0].save('chat-bubble-master/sd/'+name)\n",
    "    return name"
   ]
  },
  {
   "cell_type": "code",
   "execution_count": 90,
   "id": "9cd31174",
   "metadata": {},
   "outputs": [],
   "source": [
    "pre_text='1'\n",
    "loading=False\n",
    "def write_result():\n",
    "    global pre_text\n",
    "    global loading\n",
    "    shotscreen()\n",
    "    result = reader.readtext('jieping.png')\n",
    "    res=[]\n",
    "    #print(result)\n",
    "    badwords=['OOUUC']\n",
    "    for t in result:\n",
    "        text=t[1].replace(';',':')\n",
    "        #print(text)\n",
    "        texts=text.split(':')\n",
    "        if(len(texts)==1):\n",
    "            if(len(res)>0):\n",
    "                res[-1]+=texts[0]\n",
    "            else:\n",
    "                res.append(texts[0])\n",
    "        if(len(texts)==2):\n",
    "            res.append(texts[1])\n",
    "    #print(2,len(res)>0, pre_text)\n",
    "    if(len(res)>0 and res[-1]!=pre_text and loading==False):\n",
    "        loading=True\n",
    "        #print(2)\n",
    "        img_file_name=create_image(res[-1])\n",
    "        with open('chat-bubble-master/sd/text.txt','w',encoding='utf-8') as f:\n",
    "            f.write(res[-1]+'[image]'+img_file_name)\n",
    "            pre_text=res[-1]\n",
    "            loading=False"
   ]
  },
  {
   "cell_type": "code",
   "execution_count": 91,
   "id": "155481cd",
   "metadata": {
    "scrolled": true
   },
   "outputs": [
    {
     "data": {
      "application/json": {
       "ascii": false,
       "bar_format": null,
       "colour": null,
       "elapsed": 0.013962745666503906,
       "initial": 0,
       "n": 0,
       "ncols": null,
       "nrows": 36,
       "postfix": null,
       "prefix": "",
       "rate": null,
       "total": 51,
       "unit": "it",
       "unit_divisor": 1000,
       "unit_scale": false
      },
      "application/vnd.jupyter.widget-view+json": {
       "model_id": "b296818c75e0496f9f93a9ef811c1225",
       "version_major": 2,
       "version_minor": 0
      },
      "text/plain": [
       "  0%|          | 0/51 [00:00<?, ?it/s]"
      ]
     },
     "metadata": {},
     "output_type": "display_data"
    },
    {
     "data": {
      "application/json": {
       "ascii": false,
       "bar_format": null,
       "colour": null,
       "elapsed": 0.01495981216430664,
       "initial": 0,
       "n": 0,
       "ncols": null,
       "nrows": 36,
       "postfix": null,
       "prefix": "",
       "rate": null,
       "total": 51,
       "unit": "it",
       "unit_divisor": 1000,
       "unit_scale": false
      },
      "application/vnd.jupyter.widget-view+json": {
       "model_id": "5b3ce5e54c374c7c8efcc77296b702f7",
       "version_major": 2,
       "version_minor": 0
      },
      "text/plain": [
       "  0%|          | 0/51 [00:00<?, ?it/s]"
      ]
     },
     "metadata": {},
     "output_type": "display_data"
    },
    {
     "data": {
      "application/json": {
       "ascii": false,
       "bar_format": null,
       "colour": null,
       "elapsed": 0.014961719512939453,
       "initial": 0,
       "n": 0,
       "ncols": null,
       "nrows": 36,
       "postfix": null,
       "prefix": "",
       "rate": null,
       "total": 51,
       "unit": "it",
       "unit_divisor": 1000,
       "unit_scale": false
      },
      "application/vnd.jupyter.widget-view+json": {
       "model_id": "0dfc2d85f63247399aabbcedceb20179",
       "version_major": 2,
       "version_minor": 0
      },
      "text/plain": [
       "  0%|          | 0/51 [00:00<?, ?it/s]"
      ]
     },
     "metadata": {},
     "output_type": "display_data"
    },
    {
     "name": "stderr",
     "output_type": "stream",
     "text": [
      "The following part of your input was truncated because CLIP can only handle sequences up to 77 tokens: ['�� [ 连麦 。 禁止主擂诱导观众私下交易直橘及连夷时禁止出现违法违规 。 色情低裕 。 诱导欺诈 。 抽烟酽谮等内客 。 请莲慎判断 。 理性消费 。# 免财产及人身损失发现违规行为请及时投诉 。 主题 无人直擂实验 <|endoftext|>']\n"
     ]
    },
    {
     "data": {
      "application/json": {
       "ascii": false,
       "bar_format": null,
       "colour": null,
       "elapsed": 0.013966798782348633,
       "initial": 0,
       "n": 0,
       "ncols": null,
       "nrows": 36,
       "postfix": null,
       "prefix": "",
       "rate": null,
       "total": 51,
       "unit": "it",
       "unit_divisor": 1000,
       "unit_scale": false
      },
      "application/vnd.jupyter.widget-view+json": {
       "model_id": "d5ff2561a7d14fcabdd1a35aa8e89466",
       "version_major": 2,
       "version_minor": 0
      },
      "text/plain": [
       "  0%|          | 0/51 [00:00<?, ?it/s]"
      ]
     },
     "metadata": {},
     "output_type": "display_data"
    },
    {
     "name": "stderr",
     "output_type": "stream",
     "text": [
      "The following part of your input was truncated because CLIP can only handle sequences up to 77 tokens: ['连夷时禁止出现违法违规色情低俗 。 诱导欺诈 。 抽烟酽o等内客 。 请莲慎判断 。 理性消费避魁 * 产及人身损失发现违规行为请及时投诉 。 主题 无人直擂实验 <|endoftext|>']\n"
     ]
    },
    {
     "data": {
      "application/json": {
       "ascii": false,
       "bar_format": null,
       "colour": null,
       "elapsed": 0.015956401824951172,
       "initial": 0,
       "n": 0,
       "ncols": null,
       "nrows": 36,
       "postfix": null,
       "prefix": "",
       "rate": null,
       "total": 51,
       "unit": "it",
       "unit_divisor": 1000,
       "unit_scale": false
      },
      "application/vnd.jupyter.widget-view+json": {
       "model_id": "5fb2b3f254a64c8f96b4314388dcc307",
       "version_major": 2,
       "version_minor": 0
      },
      "text/plain": [
       "  0%|          | 0/51 [00:00<?, ?it/s]"
      ]
     },
     "metadata": {},
     "output_type": "display_data"
    },
    {
     "name": "stderr",
     "output_type": "stream",
     "text": [
      "The following part of your input was truncated because CLIP can only handle sequences up to 77 tokens: ['�� [ 连麦 。 禁止主擂诱导观众私下交易直橘及连夷时禁止出现违法违规 。 色情低裕 。 诱导欺诈 。 抽烟酽谮等内客 。 请莲慎判断 。 理性消费 。# 免财产及人身损失发现违规行为请及时投诉 。 主题 无人直擂实验 <|endoftext|>']\n"
     ]
    },
    {
     "data": {
      "application/json": {
       "ascii": false,
       "bar_format": null,
       "colour": null,
       "elapsed": 0.014960765838623047,
       "initial": 0,
       "n": 0,
       "ncols": null,
       "nrows": 36,
       "postfix": null,
       "prefix": "",
       "rate": null,
       "total": 51,
       "unit": "it",
       "unit_divisor": 1000,
       "unit_scale": false
      },
      "application/vnd.jupyter.widget-view+json": {
       "model_id": "3db5da47f5194f049e4d00ff1b57270e",
       "version_major": 2,
       "version_minor": 0
      },
      "text/plain": [
       "  0%|          | 0/51 [00:00<?, ?it/s]"
      ]
     },
     "metadata": {},
     "output_type": "display_data"
    },
    {
     "data": {
      "application/json": {
       "ascii": false,
       "bar_format": null,
       "colour": null,
       "elapsed": 0.014959335327148438,
       "initial": 0,
       "n": 0,
       "ncols": null,
       "nrows": 36,
       "postfix": null,
       "prefix": "",
       "rate": null,
       "total": 51,
       "unit": "it",
       "unit_divisor": 1000,
       "unit_scale": false
      },
      "application/vnd.jupyter.widget-view+json": {
       "model_id": "1dddc74991504c048da52d895a447bfa",
       "version_major": 2,
       "version_minor": 0
      },
      "text/plain": [
       "  0%|          | 0/51 [00:00<?, ?it/s]"
      ]
     },
     "metadata": {},
     "output_type": "display_data"
    },
    {
     "data": {
      "application/json": {
       "ascii": false,
       "bar_format": null,
       "colour": null,
       "elapsed": 0.017615556716918945,
       "initial": 0,
       "n": 0,
       "ncols": null,
       "nrows": 36,
       "postfix": null,
       "prefix": "",
       "rate": null,
       "total": 51,
       "unit": "it",
       "unit_divisor": 1000,
       "unit_scale": false
      },
      "application/vnd.jupyter.widget-view+json": {
       "model_id": "c7963b93fac5421592ddc488d49717fb",
       "version_major": 2,
       "version_minor": 0
      },
      "text/plain": [
       "  0%|          | 0/51 [00:00<?, ?it/s]"
      ]
     },
     "metadata": {},
     "output_type": "display_data"
    },
    {
     "data": {
      "application/json": {
       "ascii": false,
       "bar_format": null,
       "colour": null,
       "elapsed": 0.015956640243530273,
       "initial": 0,
       "n": 0,
       "ncols": null,
       "nrows": 36,
       "postfix": null,
       "prefix": "",
       "rate": null,
       "total": 51,
       "unit": "it",
       "unit_divisor": 1000,
       "unit_scale": false
      },
      "application/vnd.jupyter.widget-view+json": {
       "model_id": "83e0c1905fef4d1590761ad9b283f837",
       "version_major": 2,
       "version_minor": 0
      },
      "text/plain": [
       "  0%|          | 0/51 [00:00<?, ?it/s]"
      ]
     },
     "metadata": {},
     "output_type": "display_data"
    },
    {
     "data": {
      "application/json": {
       "ascii": false,
       "bar_format": null,
       "colour": null,
       "elapsed": 0.014960527420043945,
       "initial": 0,
       "n": 0,
       "ncols": null,
       "nrows": 36,
       "postfix": null,
       "prefix": "",
       "rate": null,
       "total": 51,
       "unit": "it",
       "unit_divisor": 1000,
       "unit_scale": false
      },
      "application/vnd.jupyter.widget-view+json": {
       "model_id": "3d6d0015373a49b0820d494f895b90ce",
       "version_major": 2,
       "version_minor": 0
      },
      "text/plain": [
       "  0%|          | 0/51 [00:00<?, ?it/s]"
      ]
     },
     "metadata": {},
     "output_type": "display_data"
    },
    {
     "data": {
      "application/json": {
       "ascii": false,
       "bar_format": null,
       "colour": null,
       "elapsed": 0.015958070755004883,
       "initial": 0,
       "n": 0,
       "ncols": null,
       "nrows": 36,
       "postfix": null,
       "prefix": "",
       "rate": null,
       "total": 51,
       "unit": "it",
       "unit_divisor": 1000,
       "unit_scale": false
      },
      "application/vnd.jupyter.widget-view+json": {
       "model_id": "74421525be0e4e3ba039485c2eb2700d",
       "version_major": 2,
       "version_minor": 0
      },
      "text/plain": [
       "  0%|          | 0/51 [00:00<?, ?it/s]"
      ]
     },
     "metadata": {},
     "output_type": "display_data"
    },
    {
     "data": {
      "application/json": {
       "ascii": false,
       "bar_format": null,
       "colour": null,
       "elapsed": 0.015974998474121094,
       "initial": 0,
       "n": 0,
       "ncols": null,
       "nrows": 36,
       "postfix": null,
       "prefix": "",
       "rate": null,
       "total": 51,
       "unit": "it",
       "unit_divisor": 1000,
       "unit_scale": false
      },
      "application/vnd.jupyter.widget-view+json": {
       "model_id": "406f45eb6f404b929ac04a0f9b5489c5",
       "version_major": 2,
       "version_minor": 0
      },
      "text/plain": [
       "  0%|          | 0/51 [00:00<?, ?it/s]"
      ]
     },
     "metadata": {},
     "output_type": "display_data"
    },
    {
     "data": {
      "application/json": {
       "ascii": false,
       "bar_format": null,
       "colour": null,
       "elapsed": 0.01595759391784668,
       "initial": 0,
       "n": 0,
       "ncols": null,
       "nrows": 36,
       "postfix": null,
       "prefix": "",
       "rate": null,
       "total": 51,
       "unit": "it",
       "unit_divisor": 1000,
       "unit_scale": false
      },
      "application/vnd.jupyter.widget-view+json": {
       "model_id": "8d923055602e4d8b923d4da46a12204a",
       "version_major": 2,
       "version_minor": 0
      },
      "text/plain": [
       "  0%|          | 0/51 [00:00<?, ?it/s]"
      ]
     },
     "metadata": {},
     "output_type": "display_data"
    },
    {
     "data": {
      "application/json": {
       "ascii": false,
       "bar_format": null,
       "colour": null,
       "elapsed": 0.017952680587768555,
       "initial": 0,
       "n": 0,
       "ncols": null,
       "nrows": 36,
       "postfix": null,
       "prefix": "",
       "rate": null,
       "total": 51,
       "unit": "it",
       "unit_divisor": 1000,
       "unit_scale": false
      },
      "application/vnd.jupyter.widget-view+json": {
       "model_id": "9f8c8e632aa446ca86adc9a843ed796e",
       "version_major": 2,
       "version_minor": 0
      },
      "text/plain": [
       "  0%|          | 0/51 [00:00<?, ?it/s]"
      ]
     },
     "metadata": {},
     "output_type": "display_data"
    },
    {
     "data": {
      "application/json": {
       "ascii": false,
       "bar_format": null,
       "colour": null,
       "elapsed": 0.014959335327148438,
       "initial": 0,
       "n": 0,
       "ncols": null,
       "nrows": 36,
       "postfix": null,
       "prefix": "",
       "rate": null,
       "total": 51,
       "unit": "it",
       "unit_divisor": 1000,
       "unit_scale": false
      },
      "application/vnd.jupyter.widget-view+json": {
       "model_id": "c2f6a1d0800a4b05bafcb16471b1434a",
       "version_major": 2,
       "version_minor": 0
      },
      "text/plain": [
       "  0%|          | 0/51 [00:00<?, ?it/s]"
      ]
     },
     "metadata": {},
     "output_type": "display_data"
    },
    {
     "data": {
      "application/json": {
       "ascii": false,
       "bar_format": null,
       "colour": null,
       "elapsed": 0.015957355499267578,
       "initial": 0,
       "n": 0,
       "ncols": null,
       "nrows": 36,
       "postfix": null,
       "prefix": "",
       "rate": null,
       "total": 51,
       "unit": "it",
       "unit_divisor": 1000,
       "unit_scale": false
      },
      "application/vnd.jupyter.widget-view+json": {
       "model_id": "e8a587d9ecd949269596166ee849f8a0",
       "version_major": 2,
       "version_minor": 0
      },
      "text/plain": [
       "  0%|          | 0/51 [00:00<?, ?it/s]"
      ]
     },
     "metadata": {},
     "output_type": "display_data"
    },
    {
     "name": "stdout",
     "output_type": "stream",
     "text": [
      "1\n",
      "1\n",
      "1\n",
      "1\n",
      "1\n"
     ]
    },
    {
     "data": {
      "text/html": [
       "<pre style=\"white-space:pre;overflow-x:auto;line-height:normal;font-family:Menlo,'DejaVu Sans Mono',consolas,'Courier New',monospace\"><span style=\"color: #800000; text-decoration-color: #800000\">╭─────────────────────────────── </span><span style=\"color: #800000; text-decoration-color: #800000; font-weight: bold\">Traceback </span><span style=\"color: #bf7f7f; text-decoration-color: #bf7f7f; font-weight: bold\">(most recent call last)</span><span style=\"color: #800000; text-decoration-color: #800000\"> ────────────────────────────────╮</span>\n",
       "<span style=\"color: #800000; text-decoration-color: #800000\">│</span> <span style=\"color: #808000; text-decoration-color: #808000\">C:\\Users\\38957\\AppData\\Local\\Temp\\ipykernel_97688\\2803048521.py</span>:<span style=\"color: #0000ff; text-decoration-color: #0000ff\">7</span> in <span style=\"color: #00ff00; text-decoration-color: #00ff00\">&lt;module&gt;</span>                    <span style=\"color: #800000; text-decoration-color: #800000\">│</span>\n",
       "<span style=\"color: #800000; text-decoration-color: #800000\">│</span>                                                                                                  <span style=\"color: #800000; text-decoration-color: #800000\">│</span>\n",
       "<span style=\"color: #800000; text-decoration-color: #800000\">│</span> <span style=\"color: #800000; text-decoration-color: #800000; font-style: italic\">[Errno 2] No such file or directory: </span>                                                            <span style=\"color: #800000; text-decoration-color: #800000\">│</span>\n",
       "<span style=\"color: #800000; text-decoration-color: #800000\">│</span> <span style=\"color: #800000; text-decoration-color: #800000; font-style: italic\">'C:\\\\Users\\\\38957\\\\AppData\\\\Local\\\\Temp\\\\ipykernel_97688\\\\2803048521.py'</span>                         <span style=\"color: #800000; text-decoration-color: #800000\">│</span>\n",
       "<span style=\"color: #800000; text-decoration-color: #800000\">╰──────────────────────────────────────────────────────────────────────────────────────────────────╯</span>\n",
       "<span style=\"color: #ff0000; text-decoration-color: #ff0000; font-weight: bold\">KeyboardInterrupt</span>\n",
       "</pre>\n"
      ],
      "text/plain": [
       "\u001b[31m╭─\u001b[0m\u001b[31m──────────────────────────────\u001b[0m\u001b[31m \u001b[0m\u001b[1;31mTraceback \u001b[0m\u001b[1;2;31m(most recent call last)\u001b[0m\u001b[31m \u001b[0m\u001b[31m───────────────────────────────\u001b[0m\u001b[31m─╮\u001b[0m\n",
       "\u001b[31m│\u001b[0m \u001b[33mC:\\Users\\38957\\AppData\\Local\\Temp\\ipykernel_97688\\2803048521.py\u001b[0m:\u001b[94m7\u001b[0m in \u001b[92m<module>\u001b[0m                    \u001b[31m│\u001b[0m\n",
       "\u001b[31m│\u001b[0m                                                                                                  \u001b[31m│\u001b[0m\n",
       "\u001b[31m│\u001b[0m \u001b[3;31m[Errno 2] No such file or directory: \u001b[0m                                                            \u001b[31m│\u001b[0m\n",
       "\u001b[31m│\u001b[0m \u001b[3;31m'C:\\\\Users\\\\38957\\\\AppData\\\\Local\\\\Temp\\\\ipykernel_97688\\\\2803048521.py'\u001b[0m                         \u001b[31m│\u001b[0m\n",
       "\u001b[31m╰──────────────────────────────────────────────────────────────────────────────────────────────────╯\u001b[0m\n",
       "\u001b[1;91mKeyboardInterrupt\u001b[0m\n"
      ]
     },
     "metadata": {},
     "output_type": "display_data"
    }
   ],
   "source": [
    "import time\n",
    "while True:\n",
    "    try:\n",
    "        write_result()\n",
    "    except:\n",
    "        print(1)\n",
    "    time.sleep(1)"
   ]
  },
  {
   "cell_type": "code",
   "execution_count": 21,
   "id": "d63616b7",
   "metadata": {},
   "outputs": [
    {
     "data": {
      "application/json": {
       "ascii": false,
       "bar_format": null,
       "colour": null,
       "elapsed": 0.01396322250366211,
       "initial": 0,
       "n": 0,
       "ncols": null,
       "nrows": 36,
       "postfix": null,
       "prefix": "",
       "rate": null,
       "total": 51,
       "unit": "it",
       "unit_divisor": 1000,
       "unit_scale": false
      },
      "application/vnd.jupyter.widget-view+json": {
       "model_id": "27c462c90aa94f46bba41f79e6ad245b",
       "version_major": 2,
       "version_minor": 0
      },
      "text/plain": [
       "  0%|          | 0/51 [00:00<?, ?it/s]"
      ]
     },
     "metadata": {},
     "output_type": "display_data"
    }
   ],
   "source": [
    "images=sd_zh_pipe('小桥流水人家，Van Gogh style', guidance_scale=10.0,num_images_per_prompt=1).images"
   ]
  },
  {
   "cell_type": "code",
   "execution_count": null,
   "id": "7065589d",
   "metadata": {},
   "outputs": [],
   "source": [
    "text='a man and a woman hugging in the sky, by Cyril Rolando, flowing blue hair, shining crescent moon, charli bowater and artgeem, standing in moonlight, libra, characters merged, dating app icon, water is made of stardust, high detailed drawing, low angel, holding gift, fairy cgsociety, desenho'\n",
    "\n",
    "for i in range(0,20):\n",
    "    images=sd_zh_pipe(text, guidance_scale=10.0,num_images_per_prompt=1).images\n",
    "    name='result_'+str(i)+'.png'\n",
    "    images[0].save('images/'+name)"
   ]
  },
  {
   "cell_type": "code",
   "execution_count": 9,
   "id": "c595e73c",
   "metadata": {},
   "outputs": [
    {
     "data": {
      "application/json": {
       "ascii": false,
       "bar_format": null,
       "colour": null,
       "elapsed": 0.014959335327148438,
       "initial": 0,
       "n": 0,
       "ncols": null,
       "nrows": 29,
       "postfix": null,
       "prefix": "",
       "rate": null,
       "total": 51,
       "unit": "it",
       "unit_divisor": 1000,
       "unit_scale": false
      },
      "application/vnd.jupyter.widget-view+json": {
       "model_id": "d8df30d8afbf47e4bad65dc75e20dba1",
       "version_major": 2,
       "version_minor": 0
      },
      "text/plain": [
       "  0%|          | 0/51 [00:00<?, ?it/s]"
      ]
     },
     "metadata": {},
     "output_type": "display_data"
    },
    {
     "data": {
      "application/json": {
       "ascii": false,
       "bar_format": null,
       "colour": null,
       "elapsed": 0.01595759391784668,
       "initial": 0,
       "n": 0,
       "ncols": null,
       "nrows": 29,
       "postfix": null,
       "prefix": "",
       "rate": null,
       "total": 51,
       "unit": "it",
       "unit_divisor": 1000,
       "unit_scale": false
      },
      "application/vnd.jupyter.widget-view+json": {
       "model_id": "a42900b0a5f84e64935ee5704302cef7",
       "version_major": 2,
       "version_minor": 0
      },
      "text/plain": [
       "  0%|          | 0/51 [00:00<?, ?it/s]"
      ]
     },
     "metadata": {},
     "output_type": "display_data"
    },
    {
     "data": {
      "application/json": {
       "ascii": false,
       "bar_format": null,
       "colour": null,
       "elapsed": 0.014960050582885742,
       "initial": 0,
       "n": 0,
       "ncols": null,
       "nrows": 29,
       "postfix": null,
       "prefix": "",
       "rate": null,
       "total": 51,
       "unit": "it",
       "unit_divisor": 1000,
       "unit_scale": false
      },
      "application/vnd.jupyter.widget-view+json": {
       "model_id": "2f9801b71fcb4d2590de5f31ae346343",
       "version_major": 2,
       "version_minor": 0
      },
      "text/plain": [
       "  0%|          | 0/51 [00:00<?, ?it/s]"
      ]
     },
     "metadata": {},
     "output_type": "display_data"
    },
    {
     "data": {
      "application/json": {
       "ascii": false,
       "bar_format": null,
       "colour": null,
       "elapsed": 0.015956878662109375,
       "initial": 0,
       "n": 0,
       "ncols": null,
       "nrows": 29,
       "postfix": null,
       "prefix": "",
       "rate": null,
       "total": 51,
       "unit": "it",
       "unit_divisor": 1000,
       "unit_scale": false
      },
      "application/vnd.jupyter.widget-view+json": {
       "model_id": "71ba68cba1904e818665c26b19647500",
       "version_major": 2,
       "version_minor": 0
      },
      "text/plain": [
       "  0%|          | 0/51 [00:00<?, ?it/s]"
      ]
     },
     "metadata": {},
     "output_type": "display_data"
    },
    {
     "data": {
      "application/json": {
       "ascii": false,
       "bar_format": null,
       "colour": null,
       "elapsed": 0.013962745666503906,
       "initial": 0,
       "n": 0,
       "ncols": null,
       "nrows": 29,
       "postfix": null,
       "prefix": "",
       "rate": null,
       "total": 51,
       "unit": "it",
       "unit_divisor": 1000,
       "unit_scale": false
      },
      "application/vnd.jupyter.widget-view+json": {
       "model_id": "c72373ba3a5942ef9ada1916748370ec",
       "version_major": 2,
       "version_minor": 0
      },
      "text/plain": [
       "  0%|          | 0/51 [00:00<?, ?it/s]"
      ]
     },
     "metadata": {},
     "output_type": "display_data"
    },
    {
     "data": {
      "application/json": {
       "ascii": false,
       "bar_format": null,
       "colour": null,
       "elapsed": 0.013962745666503906,
       "initial": 0,
       "n": 0,
       "ncols": null,
       "nrows": 29,
       "postfix": null,
       "prefix": "",
       "rate": null,
       "total": 51,
       "unit": "it",
       "unit_divisor": 1000,
       "unit_scale": false
      },
      "application/vnd.jupyter.widget-view+json": {
       "model_id": "8177b14738f94d52897998ed30e1d7e7",
       "version_major": 2,
       "version_minor": 0
      },
      "text/plain": [
       "  0%|          | 0/51 [00:00<?, ?it/s]"
      ]
     },
     "metadata": {},
     "output_type": "display_data"
    },
    {
     "data": {
      "application/json": {
       "ascii": false,
       "bar_format": null,
       "colour": null,
       "elapsed": 0.014959573745727539,
       "initial": 0,
       "n": 0,
       "ncols": null,
       "nrows": 29,
       "postfix": null,
       "prefix": "",
       "rate": null,
       "total": 51,
       "unit": "it",
       "unit_divisor": 1000,
       "unit_scale": false
      },
      "application/vnd.jupyter.widget-view+json": {
       "model_id": "5ed2745ab6fd4680aa6a279cb881c54c",
       "version_major": 2,
       "version_minor": 0
      },
      "text/plain": [
       "  0%|          | 0/51 [00:00<?, ?it/s]"
      ]
     },
     "metadata": {},
     "output_type": "display_data"
    },
    {
     "data": {
      "application/json": {
       "ascii": false,
       "bar_format": null,
       "colour": null,
       "elapsed": 0.014960289001464844,
       "initial": 0,
       "n": 0,
       "ncols": null,
       "nrows": 29,
       "postfix": null,
       "prefix": "",
       "rate": null,
       "total": 51,
       "unit": "it",
       "unit_divisor": 1000,
       "unit_scale": false
      },
      "application/vnd.jupyter.widget-view+json": {
       "model_id": "f64d4d37981446acbe425d9db3f3143c",
       "version_major": 2,
       "version_minor": 0
      },
      "text/plain": [
       "  0%|          | 0/51 [00:00<?, ?it/s]"
      ]
     },
     "metadata": {},
     "output_type": "display_data"
    },
    {
     "name": "stderr",
     "output_type": "stream",
     "text": [
      "Potential NSFW content was detected in one or more images. A black image will be returned instead. Try again with a different prompt and/or seed.\n"
     ]
    },
    {
     "data": {
      "application/json": {
       "ascii": false,
       "bar_format": null,
       "colour": null,
       "elapsed": 0.014960050582885742,
       "initial": 0,
       "n": 0,
       "ncols": null,
       "nrows": 29,
       "postfix": null,
       "prefix": "",
       "rate": null,
       "total": 51,
       "unit": "it",
       "unit_divisor": 1000,
       "unit_scale": false
      },
      "application/vnd.jupyter.widget-view+json": {
       "model_id": "6bb3d57adbbd47abb459e9d95ec13046",
       "version_major": 2,
       "version_minor": 0
      },
      "text/plain": [
       "  0%|          | 0/51 [00:00<?, ?it/s]"
      ]
     },
     "metadata": {},
     "output_type": "display_data"
    },
    {
     "data": {
      "application/json": {
       "ascii": false,
       "bar_format": null,
       "colour": null,
       "elapsed": 0.014958381652832031,
       "initial": 0,
       "n": 0,
       "ncols": null,
       "nrows": 29,
       "postfix": null,
       "prefix": "",
       "rate": null,
       "total": 51,
       "unit": "it",
       "unit_divisor": 1000,
       "unit_scale": false
      },
      "application/vnd.jupyter.widget-view+json": {
       "model_id": "f967e3e6e98b43a089f1e50f1c6c3764",
       "version_major": 2,
       "version_minor": 0
      },
      "text/plain": [
       "  0%|          | 0/51 [00:00<?, ?it/s]"
      ]
     },
     "metadata": {},
     "output_type": "display_data"
    },
    {
     "data": {
      "application/json": {
       "ascii": false,
       "bar_format": null,
       "colour": null,
       "elapsed": 0.01595759391784668,
       "initial": 0,
       "n": 0,
       "ncols": null,
       "nrows": 29,
       "postfix": null,
       "prefix": "",
       "rate": null,
       "total": 51,
       "unit": "it",
       "unit_divisor": 1000,
       "unit_scale": false
      },
      "application/vnd.jupyter.widget-view+json": {
       "model_id": "9ea0a0240fdd4ec79eaf79719b7410ce",
       "version_major": 2,
       "version_minor": 0
      },
      "text/plain": [
       "  0%|          | 0/51 [00:00<?, ?it/s]"
      ]
     },
     "metadata": {},
     "output_type": "display_data"
    },
    {
     "data": {
      "application/json": {
       "ascii": false,
       "bar_format": null,
       "colour": null,
       "elapsed": 0.014963150024414062,
       "initial": 0,
       "n": 0,
       "ncols": null,
       "nrows": 29,
       "postfix": null,
       "prefix": "",
       "rate": null,
       "total": 51,
       "unit": "it",
       "unit_divisor": 1000,
       "unit_scale": false
      },
      "application/vnd.jupyter.widget-view+json": {
       "model_id": "4daa55ec45444b019adc8d105ca95c77",
       "version_major": 2,
       "version_minor": 0
      },
      "text/plain": [
       "  0%|          | 0/51 [00:00<?, ?it/s]"
      ]
     },
     "metadata": {},
     "output_type": "display_data"
    },
    {
     "data": {
      "application/json": {
       "ascii": false,
       "bar_format": null,
       "colour": null,
       "elapsed": 0.01695418357849121,
       "initial": 0,
       "n": 0,
       "ncols": null,
       "nrows": 29,
       "postfix": null,
       "prefix": "",
       "rate": null,
       "total": 51,
       "unit": "it",
       "unit_divisor": 1000,
       "unit_scale": false
      },
      "application/vnd.jupyter.widget-view+json": {
       "model_id": "a2489e5be3e643c58080f819555cc1cd",
       "version_major": 2,
       "version_minor": 0
      },
      "text/plain": [
       "  0%|          | 0/51 [00:00<?, ?it/s]"
      ]
     },
     "metadata": {},
     "output_type": "display_data"
    },
    {
     "data": {
      "application/json": {
       "ascii": false,
       "bar_format": null,
       "colour": null,
       "elapsed": 0.01795172691345215,
       "initial": 0,
       "n": 0,
       "ncols": null,
       "nrows": 29,
       "postfix": null,
       "prefix": "",
       "rate": null,
       "total": 51,
       "unit": "it",
       "unit_divisor": 1000,
       "unit_scale": false
      },
      "application/vnd.jupyter.widget-view+json": {
       "model_id": "f8599c5e230f4888b1852aee77104e9c",
       "version_major": 2,
       "version_minor": 0
      },
      "text/plain": [
       "  0%|          | 0/51 [00:00<?, ?it/s]"
      ]
     },
     "metadata": {},
     "output_type": "display_data"
    },
    {
     "data": {
      "application/json": {
       "ascii": false,
       "bar_format": null,
       "colour": null,
       "elapsed": 0.014959096908569336,
       "initial": 0,
       "n": 0,
       "ncols": null,
       "nrows": 29,
       "postfix": null,
       "prefix": "",
       "rate": null,
       "total": 51,
       "unit": "it",
       "unit_divisor": 1000,
       "unit_scale": false
      },
      "application/vnd.jupyter.widget-view+json": {
       "model_id": "7a645634dee843aca0e08f7f21f40541",
       "version_major": 2,
       "version_minor": 0
      },
      "text/plain": [
       "  0%|          | 0/51 [00:00<?, ?it/s]"
      ]
     },
     "metadata": {},
     "output_type": "display_data"
    },
    {
     "data": {
      "application/json": {
       "ascii": false,
       "bar_format": null,
       "colour": null,
       "elapsed": 0.017953872680664062,
       "initial": 0,
       "n": 0,
       "ncols": null,
       "nrows": 29,
       "postfix": null,
       "prefix": "",
       "rate": null,
       "total": 51,
       "unit": "it",
       "unit_divisor": 1000,
       "unit_scale": false
      },
      "application/vnd.jupyter.widget-view+json": {
       "model_id": "5c11500453884c2b9eb5cde28bd14eb0",
       "version_major": 2,
       "version_minor": 0
      },
      "text/plain": [
       "  0%|          | 0/51 [00:00<?, ?it/s]"
      ]
     },
     "metadata": {},
     "output_type": "display_data"
    },
    {
     "data": {
      "application/json": {
       "ascii": false,
       "bar_format": null,
       "colour": null,
       "elapsed": 0.016986846923828125,
       "initial": 0,
       "n": 0,
       "ncols": null,
       "nrows": 29,
       "postfix": null,
       "prefix": "",
       "rate": null,
       "total": 51,
       "unit": "it",
       "unit_divisor": 1000,
       "unit_scale": false
      },
      "application/vnd.jupyter.widget-view+json": {
       "model_id": "0f650502980d469990eb6cc397ce5074",
       "version_major": 2,
       "version_minor": 0
      },
      "text/plain": [
       "  0%|          | 0/51 [00:00<?, ?it/s]"
      ]
     },
     "metadata": {},
     "output_type": "display_data"
    },
    {
     "data": {
      "application/json": {
       "ascii": false,
       "bar_format": null,
       "colour": null,
       "elapsed": 0.014960050582885742,
       "initial": 0,
       "n": 0,
       "ncols": null,
       "nrows": 29,
       "postfix": null,
       "prefix": "",
       "rate": null,
       "total": 51,
       "unit": "it",
       "unit_divisor": 1000,
       "unit_scale": false
      },
      "application/vnd.jupyter.widget-view+json": {
       "model_id": "6102b425f4df4c9dbb06ee3562db077f",
       "version_major": 2,
       "version_minor": 0
      },
      "text/plain": [
       "  0%|          | 0/51 [00:00<?, ?it/s]"
      ]
     },
     "metadata": {},
     "output_type": "display_data"
    },
    {
     "data": {
      "application/json": {
       "ascii": false,
       "bar_format": null,
       "colour": null,
       "elapsed": 0.013962745666503906,
       "initial": 0,
       "n": 0,
       "ncols": null,
       "nrows": 29,
       "postfix": null,
       "prefix": "",
       "rate": null,
       "total": 51,
       "unit": "it",
       "unit_divisor": 1000,
       "unit_scale": false
      },
      "application/vnd.jupyter.widget-view+json": {
       "model_id": "4f02db27d8824fd78f5f75835d965671",
       "version_major": 2,
       "version_minor": 0
      },
      "text/plain": [
       "  0%|          | 0/51 [00:00<?, ?it/s]"
      ]
     },
     "metadata": {},
     "output_type": "display_data"
    },
    {
     "data": {
      "application/json": {
       "ascii": false,
       "bar_format": null,
       "colour": null,
       "elapsed": 0.015994787216186523,
       "initial": 0,
       "n": 0,
       "ncols": null,
       "nrows": 29,
       "postfix": null,
       "prefix": "",
       "rate": null,
       "total": 51,
       "unit": "it",
       "unit_divisor": 1000,
       "unit_scale": false
      },
      "application/vnd.jupyter.widget-view+json": {
       "model_id": "4f1deb4e5dbd4704bfd4f5845b1cac81",
       "version_major": 2,
       "version_minor": 0
      },
      "text/plain": [
       "  0%|          | 0/51 [00:00<?, ?it/s]"
      ]
     },
     "metadata": {},
     "output_type": "display_data"
    },
    {
     "data": {
      "application/json": {
       "ascii": false,
       "bar_format": null,
       "colour": null,
       "elapsed": 0.014963388442993164,
       "initial": 0,
       "n": 0,
       "ncols": null,
       "nrows": 29,
       "postfix": null,
       "prefix": "",
       "rate": null,
       "total": 51,
       "unit": "it",
       "unit_divisor": 1000,
       "unit_scale": false
      },
      "application/vnd.jupyter.widget-view+json": {
       "model_id": "c537c9dc961f4d7f9cc448cb02366372",
       "version_major": 2,
       "version_minor": 0
      },
      "text/plain": [
       "  0%|          | 0/51 [00:00<?, ?it/s]"
      ]
     },
     "metadata": {},
     "output_type": "display_data"
    },
    {
     "data": {
      "application/json": {
       "ascii": false,
       "bar_format": null,
       "colour": null,
       "elapsed": 0.016954898834228516,
       "initial": 0,
       "n": 0,
       "ncols": null,
       "nrows": 29,
       "postfix": null,
       "prefix": "",
       "rate": null,
       "total": 51,
       "unit": "it",
       "unit_divisor": 1000,
       "unit_scale": false
      },
      "application/vnd.jupyter.widget-view+json": {
       "model_id": "3c383646d84f4b30957f7e0de334c0df",
       "version_major": 2,
       "version_minor": 0
      },
      "text/plain": [
       "  0%|          | 0/51 [00:00<?, ?it/s]"
      ]
     },
     "metadata": {},
     "output_type": "display_data"
    },
    {
     "data": {
      "application/json": {
       "ascii": false,
       "bar_format": null,
       "colour": null,
       "elapsed": 0.013930797576904297,
       "initial": 0,
       "n": 0,
       "ncols": null,
       "nrows": 29,
       "postfix": null,
       "prefix": "",
       "rate": null,
       "total": 51,
       "unit": "it",
       "unit_divisor": 1000,
       "unit_scale": false
      },
      "application/vnd.jupyter.widget-view+json": {
       "model_id": "bf9f1539dab14818b370657d4bb7f429",
       "version_major": 2,
       "version_minor": 0
      },
      "text/plain": [
       "  0%|          | 0/51 [00:00<?, ?it/s]"
      ]
     },
     "metadata": {},
     "output_type": "display_data"
    },
    {
     "data": {
      "application/json": {
       "ascii": false,
       "bar_format": null,
       "colour": null,
       "elapsed": 0.014960527420043945,
       "initial": 0,
       "n": 0,
       "ncols": null,
       "nrows": 29,
       "postfix": null,
       "prefix": "",
       "rate": null,
       "total": 51,
       "unit": "it",
       "unit_divisor": 1000,
       "unit_scale": false
      },
      "application/vnd.jupyter.widget-view+json": {
       "model_id": "99530870d051459287647263cb766ac8",
       "version_major": 2,
       "version_minor": 0
      },
      "text/plain": [
       "  0%|          | 0/51 [00:00<?, ?it/s]"
      ]
     },
     "metadata": {},
     "output_type": "display_data"
    },
    {
     "data": {
      "application/json": {
       "ascii": false,
       "bar_format": null,
       "colour": null,
       "elapsed": 0.012971639633178711,
       "initial": 0,
       "n": 0,
       "ncols": null,
       "nrows": 29,
       "postfix": null,
       "prefix": "",
       "rate": null,
       "total": 51,
       "unit": "it",
       "unit_divisor": 1000,
       "unit_scale": false
      },
      "application/vnd.jupyter.widget-view+json": {
       "model_id": "137c53f79adf40948e0be357db69c16b",
       "version_major": 2,
       "version_minor": 0
      },
      "text/plain": [
       "  0%|          | 0/51 [00:00<?, ?it/s]"
      ]
     },
     "metadata": {},
     "output_type": "display_data"
    },
    {
     "data": {
      "application/json": {
       "ascii": false,
       "bar_format": null,
       "colour": null,
       "elapsed": 0.014959096908569336,
       "initial": 0,
       "n": 0,
       "ncols": null,
       "nrows": 29,
       "postfix": null,
       "prefix": "",
       "rate": null,
       "total": 51,
       "unit": "it",
       "unit_divisor": 1000,
       "unit_scale": false
      },
      "application/vnd.jupyter.widget-view+json": {
       "model_id": "4cc1594c2dfa4b71be7d472468fd6415",
       "version_major": 2,
       "version_minor": 0
      },
      "text/plain": [
       "  0%|          | 0/51 [00:00<?, ?it/s]"
      ]
     },
     "metadata": {},
     "output_type": "display_data"
    },
    {
     "data": {
      "application/json": {
       "ascii": false,
       "bar_format": null,
       "colour": null,
       "elapsed": 0.013962745666503906,
       "initial": 0,
       "n": 0,
       "ncols": null,
       "nrows": 29,
       "postfix": null,
       "prefix": "",
       "rate": null,
       "total": 51,
       "unit": "it",
       "unit_divisor": 1000,
       "unit_scale": false
      },
      "application/vnd.jupyter.widget-view+json": {
       "model_id": "14ff53202d9942d48e7e277b7d20ed8f",
       "version_major": 2,
       "version_minor": 0
      },
      "text/plain": [
       "  0%|          | 0/51 [00:00<?, ?it/s]"
      ]
     },
     "metadata": {},
     "output_type": "display_data"
    },
    {
     "data": {
      "application/json": {
       "ascii": false,
       "bar_format": null,
       "colour": null,
       "elapsed": 0.013965368270874023,
       "initial": 0,
       "n": 0,
       "ncols": null,
       "nrows": 29,
       "postfix": null,
       "prefix": "",
       "rate": null,
       "total": 51,
       "unit": "it",
       "unit_divisor": 1000,
       "unit_scale": false
      },
      "application/vnd.jupyter.widget-view+json": {
       "model_id": "51e529c0741946df927d430770596163",
       "version_major": 2,
       "version_minor": 0
      },
      "text/plain": [
       "  0%|          | 0/51 [00:00<?, ?it/s]"
      ]
     },
     "metadata": {},
     "output_type": "display_data"
    },
    {
     "data": {
      "application/json": {
       "ascii": false,
       "bar_format": null,
       "colour": null,
       "elapsed": 0.01494598388671875,
       "initial": 0,
       "n": 0,
       "ncols": null,
       "nrows": 29,
       "postfix": null,
       "prefix": "",
       "rate": null,
       "total": 51,
       "unit": "it",
       "unit_divisor": 1000,
       "unit_scale": false
      },
      "application/vnd.jupyter.widget-view+json": {
       "model_id": "02b712d4afc94a838c34dfe9b51f011e",
       "version_major": 2,
       "version_minor": 0
      },
      "text/plain": [
       "  0%|          | 0/51 [00:00<?, ?it/s]"
      ]
     },
     "metadata": {},
     "output_type": "display_data"
    },
    {
     "data": {
      "application/json": {
       "ascii": false,
       "bar_format": null,
       "colour": null,
       "elapsed": 0.015957355499267578,
       "initial": 0,
       "n": 0,
       "ncols": null,
       "nrows": 29,
       "postfix": null,
       "prefix": "",
       "rate": null,
       "total": 51,
       "unit": "it",
       "unit_divisor": 1000,
       "unit_scale": false
      },
      "application/vnd.jupyter.widget-view+json": {
       "model_id": "98d5743ed77c441eaf2bc15ffd824663",
       "version_major": 2,
       "version_minor": 0
      },
      "text/plain": [
       "  0%|          | 0/51 [00:00<?, ?it/s]"
      ]
     },
     "metadata": {},
     "output_type": "display_data"
    },
    {
     "data": {
      "application/json": {
       "ascii": false,
       "bar_format": null,
       "colour": null,
       "elapsed": 0.013962745666503906,
       "initial": 0,
       "n": 0,
       "ncols": null,
       "nrows": 29,
       "postfix": null,
       "prefix": "",
       "rate": null,
       "total": 51,
       "unit": "it",
       "unit_divisor": 1000,
       "unit_scale": false
      },
      "application/vnd.jupyter.widget-view+json": {
       "model_id": "07b394e6f26c40a78c75b74b36c88315",
       "version_major": 2,
       "version_minor": 0
      },
      "text/plain": [
       "  0%|          | 0/51 [00:00<?, ?it/s]"
      ]
     },
     "metadata": {},
     "output_type": "display_data"
    },
    {
     "data": {
      "application/json": {
       "ascii": false,
       "bar_format": null,
       "colour": null,
       "elapsed": 0.014959573745727539,
       "initial": 0,
       "n": 0,
       "ncols": null,
       "nrows": 29,
       "postfix": null,
       "prefix": "",
       "rate": null,
       "total": 51,
       "unit": "it",
       "unit_divisor": 1000,
       "unit_scale": false
      },
      "application/vnd.jupyter.widget-view+json": {
       "model_id": "14ff9859e3ca42a8b0b22147d87ded6b",
       "version_major": 2,
       "version_minor": 0
      },
      "text/plain": [
       "  0%|          | 0/51 [00:00<?, ?it/s]"
      ]
     },
     "metadata": {},
     "output_type": "display_data"
    },
    {
     "data": {
      "application/json": {
       "ascii": false,
       "bar_format": null,
       "colour": null,
       "elapsed": 0.012965202331542969,
       "initial": 0,
       "n": 0,
       "ncols": null,
       "nrows": 29,
       "postfix": null,
       "prefix": "",
       "rate": null,
       "total": 51,
       "unit": "it",
       "unit_divisor": 1000,
       "unit_scale": false
      },
      "application/vnd.jupyter.widget-view+json": {
       "model_id": "a17c880cd85946e3acbaa81955308f3e",
       "version_major": 2,
       "version_minor": 0
      },
      "text/plain": [
       "  0%|          | 0/51 [00:00<?, ?it/s]"
      ]
     },
     "metadata": {},
     "output_type": "display_data"
    },
    {
     "data": {
      "application/json": {
       "ascii": false,
       "bar_format": null,
       "colour": null,
       "elapsed": 0.014954090118408203,
       "initial": 0,
       "n": 0,
       "ncols": null,
       "nrows": 29,
       "postfix": null,
       "prefix": "",
       "rate": null,
       "total": 51,
       "unit": "it",
       "unit_divisor": 1000,
       "unit_scale": false
      },
      "application/vnd.jupyter.widget-view+json": {
       "model_id": "6e9559d2d80d4b9f95506db4bf65cf00",
       "version_major": 2,
       "version_minor": 0
      },
      "text/plain": [
       "  0%|          | 0/51 [00:00<?, ?it/s]"
      ]
     },
     "metadata": {},
     "output_type": "display_data"
    },
    {
     "data": {
      "application/json": {
       "ascii": false,
       "bar_format": null,
       "colour": null,
       "elapsed": 0.013966083526611328,
       "initial": 0,
       "n": 0,
       "ncols": null,
       "nrows": 29,
       "postfix": null,
       "prefix": "",
       "rate": null,
       "total": 51,
       "unit": "it",
       "unit_divisor": 1000,
       "unit_scale": false
      },
      "application/vnd.jupyter.widget-view+json": {
       "model_id": "4edbc9e7d3754f699ec25eb0cff38fc4",
       "version_major": 2,
       "version_minor": 0
      },
      "text/plain": [
       "  0%|          | 0/51 [00:00<?, ?it/s]"
      ]
     },
     "metadata": {},
     "output_type": "display_data"
    },
    {
     "data": {
      "application/json": {
       "ascii": false,
       "bar_format": null,
       "colour": null,
       "elapsed": 0.013963699340820312,
       "initial": 0,
       "n": 0,
       "ncols": null,
       "nrows": 29,
       "postfix": null,
       "prefix": "",
       "rate": null,
       "total": 51,
       "unit": "it",
       "unit_divisor": 1000,
       "unit_scale": false
      },
      "application/vnd.jupyter.widget-view+json": {
       "model_id": "5e597f6c8c5d47ebb8e1dd622956bff7",
       "version_major": 2,
       "version_minor": 0
      },
      "text/plain": [
       "  0%|          | 0/51 [00:00<?, ?it/s]"
      ]
     },
     "metadata": {},
     "output_type": "display_data"
    },
    {
     "data": {
      "application/json": {
       "ascii": false,
       "bar_format": null,
       "colour": null,
       "elapsed": 0.01496267318725586,
       "initial": 0,
       "n": 0,
       "ncols": null,
       "nrows": 29,
       "postfix": null,
       "prefix": "",
       "rate": null,
       "total": 51,
       "unit": "it",
       "unit_divisor": 1000,
       "unit_scale": false
      },
      "application/vnd.jupyter.widget-view+json": {
       "model_id": "86f68342a3f14ebabba0a4960b41d7a4",
       "version_major": 2,
       "version_minor": 0
      },
      "text/plain": [
       "  0%|          | 0/51 [00:00<?, ?it/s]"
      ]
     },
     "metadata": {},
     "output_type": "display_data"
    },
    {
     "data": {
      "application/json": {
       "ascii": false,
       "bar_format": null,
       "colour": null,
       "elapsed": 0.013965368270874023,
       "initial": 0,
       "n": 0,
       "ncols": null,
       "nrows": 29,
       "postfix": null,
       "prefix": "",
       "rate": null,
       "total": 51,
       "unit": "it",
       "unit_divisor": 1000,
       "unit_scale": false
      },
      "application/vnd.jupyter.widget-view+json": {
       "model_id": "18ee749296804582ad456bc54942e019",
       "version_major": 2,
       "version_minor": 0
      },
      "text/plain": [
       "  0%|          | 0/51 [00:00<?, ?it/s]"
      ]
     },
     "metadata": {},
     "output_type": "display_data"
    },
    {
     "data": {
      "application/json": {
       "ascii": false,
       "bar_format": null,
       "colour": null,
       "elapsed": 0.013962984085083008,
       "initial": 0,
       "n": 0,
       "ncols": null,
       "nrows": 29,
       "postfix": null,
       "prefix": "",
       "rate": null,
       "total": 51,
       "unit": "it",
       "unit_divisor": 1000,
       "unit_scale": false
      },
      "application/vnd.jupyter.widget-view+json": {
       "model_id": "d37a2ccc596941849e02de6098bd6de7",
       "version_major": 2,
       "version_minor": 0
      },
      "text/plain": [
       "  0%|          | 0/51 [00:00<?, ?it/s]"
      ]
     },
     "metadata": {},
     "output_type": "display_data"
    },
    {
     "data": {
      "application/json": {
       "ascii": false,
       "bar_format": null,
       "colour": null,
       "elapsed": 0.014959573745727539,
       "initial": 0,
       "n": 0,
       "ncols": null,
       "nrows": 29,
       "postfix": null,
       "prefix": "",
       "rate": null,
       "total": 51,
       "unit": "it",
       "unit_divisor": 1000,
       "unit_scale": false
      },
      "application/vnd.jupyter.widget-view+json": {
       "model_id": "e96c0460875b499da00e84134e726038",
       "version_major": 2,
       "version_minor": 0
      },
      "text/plain": [
       "  0%|          | 0/51 [00:00<?, ?it/s]"
      ]
     },
     "metadata": {},
     "output_type": "display_data"
    },
    {
     "data": {
      "application/json": {
       "ascii": false,
       "bar_format": null,
       "colour": null,
       "elapsed": 0.014959573745727539,
       "initial": 0,
       "n": 0,
       "ncols": null,
       "nrows": 29,
       "postfix": null,
       "prefix": "",
       "rate": null,
       "total": 51,
       "unit": "it",
       "unit_divisor": 1000,
       "unit_scale": false
      },
      "application/vnd.jupyter.widget-view+json": {
       "model_id": "ba1c5a3792cb4329944f1db0ae80bd77",
       "version_major": 2,
       "version_minor": 0
      },
      "text/plain": [
       "  0%|          | 0/51 [00:00<?, ?it/s]"
      ]
     },
     "metadata": {},
     "output_type": "display_data"
    },
    {
     "data": {
      "application/json": {
       "ascii": false,
       "bar_format": null,
       "colour": null,
       "elapsed": 0.01396322250366211,
       "initial": 0,
       "n": 0,
       "ncols": null,
       "nrows": 29,
       "postfix": null,
       "prefix": "",
       "rate": null,
       "total": 51,
       "unit": "it",
       "unit_divisor": 1000,
       "unit_scale": false
      },
      "application/vnd.jupyter.widget-view+json": {
       "model_id": "98a3f6ca436249029873ee3a79ebc664",
       "version_major": 2,
       "version_minor": 0
      },
      "text/plain": [
       "  0%|          | 0/51 [00:00<?, ?it/s]"
      ]
     },
     "metadata": {},
     "output_type": "display_data"
    },
    {
     "data": {
      "application/json": {
       "ascii": false,
       "bar_format": null,
       "colour": null,
       "elapsed": 0.01495981216430664,
       "initial": 0,
       "n": 0,
       "ncols": null,
       "nrows": 29,
       "postfix": null,
       "prefix": "",
       "rate": null,
       "total": 51,
       "unit": "it",
       "unit_divisor": 1000,
       "unit_scale": false
      },
      "application/vnd.jupyter.widget-view+json": {
       "model_id": "01925a826c3e43c7b1818ca9de1c4caf",
       "version_major": 2,
       "version_minor": 0
      },
      "text/plain": [
       "  0%|          | 0/51 [00:00<?, ?it/s]"
      ]
     },
     "metadata": {},
     "output_type": "display_data"
    },
    {
     "data": {
      "application/json": {
       "ascii": false,
       "bar_format": null,
       "colour": null,
       "elapsed": 0.013962984085083008,
       "initial": 0,
       "n": 0,
       "ncols": null,
       "nrows": 29,
       "postfix": null,
       "prefix": "",
       "rate": null,
       "total": 51,
       "unit": "it",
       "unit_divisor": 1000,
       "unit_scale": false
      },
      "application/vnd.jupyter.widget-view+json": {
       "model_id": "61b6b56f181042dfb495b8acb7af0da4",
       "version_major": 2,
       "version_minor": 0
      },
      "text/plain": [
       "  0%|          | 0/51 [00:00<?, ?it/s]"
      ]
     },
     "metadata": {},
     "output_type": "display_data"
    },
    {
     "data": {
      "application/json": {
       "ascii": false,
       "bar_format": null,
       "colour": null,
       "elapsed": 0.013945817947387695,
       "initial": 0,
       "n": 0,
       "ncols": null,
       "nrows": 29,
       "postfix": null,
       "prefix": "",
       "rate": null,
       "total": 51,
       "unit": "it",
       "unit_divisor": 1000,
       "unit_scale": false
      },
      "application/vnd.jupyter.widget-view+json": {
       "model_id": "15f01c713e15489da815c23b08b8b418",
       "version_major": 2,
       "version_minor": 0
      },
      "text/plain": [
       "  0%|          | 0/51 [00:00<?, ?it/s]"
      ]
     },
     "metadata": {},
     "output_type": "display_data"
    },
    {
     "data": {
      "application/json": {
       "ascii": false,
       "bar_format": null,
       "colour": null,
       "elapsed": 0.013962507247924805,
       "initial": 0,
       "n": 0,
       "ncols": null,
       "nrows": 29,
       "postfix": null,
       "prefix": "",
       "rate": null,
       "total": 51,
       "unit": "it",
       "unit_divisor": 1000,
       "unit_scale": false
      },
      "application/vnd.jupyter.widget-view+json": {
       "model_id": "55f402073f83416496e6c0e2103b880b",
       "version_major": 2,
       "version_minor": 0
      },
      "text/plain": [
       "  0%|          | 0/51 [00:00<?, ?it/s]"
      ]
     },
     "metadata": {},
     "output_type": "display_data"
    },
    {
     "data": {
      "application/json": {
       "ascii": false,
       "bar_format": null,
       "colour": null,
       "elapsed": 0.014960289001464844,
       "initial": 0,
       "n": 0,
       "ncols": null,
       "nrows": 29,
       "postfix": null,
       "prefix": "",
       "rate": null,
       "total": 51,
       "unit": "it",
       "unit_divisor": 1000,
       "unit_scale": false
      },
      "application/vnd.jupyter.widget-view+json": {
       "model_id": "eba668a704894cf69088883cc02798f8",
       "version_major": 2,
       "version_minor": 0
      },
      "text/plain": [
       "  0%|          | 0/51 [00:00<?, ?it/s]"
      ]
     },
     "metadata": {},
     "output_type": "display_data"
    },
    {
     "data": {
      "application/json": {
       "ascii": false,
       "bar_format": null,
       "colour": null,
       "elapsed": 0.013000249862670898,
       "initial": 0,
       "n": 0,
       "ncols": null,
       "nrows": 29,
       "postfix": null,
       "prefix": "",
       "rate": null,
       "total": 51,
       "unit": "it",
       "unit_divisor": 1000,
       "unit_scale": false
      },
      "application/vnd.jupyter.widget-view+json": {
       "model_id": "667e6b4b8e4244e3a7f86a37e5fd692e",
       "version_major": 2,
       "version_minor": 0
      },
      "text/plain": [
       "  0%|          | 0/51 [00:00<?, ?it/s]"
      ]
     },
     "metadata": {},
     "output_type": "display_data"
    },
    {
     "data": {
      "application/json": {
       "ascii": false,
       "bar_format": null,
       "colour": null,
       "elapsed": 0.013926029205322266,
       "initial": 0,
       "n": 0,
       "ncols": null,
       "nrows": 29,
       "postfix": null,
       "prefix": "",
       "rate": null,
       "total": 51,
       "unit": "it",
       "unit_divisor": 1000,
       "unit_scale": false
      },
      "application/vnd.jupyter.widget-view+json": {
       "model_id": "7069fe3e476541dbaf65d5f1921e81e1",
       "version_major": 2,
       "version_minor": 0
      },
      "text/plain": [
       "  0%|          | 0/51 [00:00<?, ?it/s]"
      ]
     },
     "metadata": {},
     "output_type": "display_data"
    },
    {
     "data": {
      "application/json": {
       "ascii": false,
       "bar_format": null,
       "colour": null,
       "elapsed": 0.013944625854492188,
       "initial": 0,
       "n": 0,
       "ncols": null,
       "nrows": 29,
       "postfix": null,
       "prefix": "",
       "rate": null,
       "total": 51,
       "unit": "it",
       "unit_divisor": 1000,
       "unit_scale": false
      },
      "application/vnd.jupyter.widget-view+json": {
       "model_id": "619bb1be5673423d979b0394c37fce5a",
       "version_major": 2,
       "version_minor": 0
      },
      "text/plain": [
       "  0%|          | 0/51 [00:00<?, ?it/s]"
      ]
     },
     "metadata": {},
     "output_type": "display_data"
    },
    {
     "data": {
      "application/json": {
       "ascii": false,
       "bar_format": null,
       "colour": null,
       "elapsed": 0.015956878662109375,
       "initial": 0,
       "n": 0,
       "ncols": null,
       "nrows": 29,
       "postfix": null,
       "prefix": "",
       "rate": null,
       "total": 51,
       "unit": "it",
       "unit_divisor": 1000,
       "unit_scale": false
      },
      "application/vnd.jupyter.widget-view+json": {
       "model_id": "7aa9e4a8b8a1474c9926491dcde2573c",
       "version_major": 2,
       "version_minor": 0
      },
      "text/plain": [
       "  0%|          | 0/51 [00:00<?, ?it/s]"
      ]
     },
     "metadata": {},
     "output_type": "display_data"
    },
    {
     "data": {
      "application/json": {
       "ascii": false,
       "bar_format": null,
       "colour": null,
       "elapsed": 0.01595592498779297,
       "initial": 0,
       "n": 0,
       "ncols": null,
       "nrows": 29,
       "postfix": null,
       "prefix": "",
       "rate": null,
       "total": 51,
       "unit": "it",
       "unit_divisor": 1000,
       "unit_scale": false
      },
      "application/vnd.jupyter.widget-view+json": {
       "model_id": "01d0206931b24dca81a64adf1f7adb55",
       "version_major": 2,
       "version_minor": 0
      },
      "text/plain": [
       "  0%|          | 0/51 [00:00<?, ?it/s]"
      ]
     },
     "metadata": {},
     "output_type": "display_data"
    },
    {
     "data": {
      "application/json": {
       "ascii": false,
       "bar_format": null,
       "colour": null,
       "elapsed": 0.013962507247924805,
       "initial": 0,
       "n": 0,
       "ncols": null,
       "nrows": 29,
       "postfix": null,
       "prefix": "",
       "rate": null,
       "total": 51,
       "unit": "it",
       "unit_divisor": 1000,
       "unit_scale": false
      },
      "application/vnd.jupyter.widget-view+json": {
       "model_id": "ed4aaee8b02249ccb7ff365da7ef332f",
       "version_major": 2,
       "version_minor": 0
      },
      "text/plain": [
       "  0%|          | 0/51 [00:00<?, ?it/s]"
      ]
     },
     "metadata": {},
     "output_type": "display_data"
    },
    {
     "data": {
      "application/json": {
       "ascii": false,
       "bar_format": null,
       "colour": null,
       "elapsed": 0.013997793197631836,
       "initial": 0,
       "n": 0,
       "ncols": null,
       "nrows": 29,
       "postfix": null,
       "prefix": "",
       "rate": null,
       "total": 51,
       "unit": "it",
       "unit_divisor": 1000,
       "unit_scale": false
      },
      "application/vnd.jupyter.widget-view+json": {
       "model_id": "25ddcb932e1a47efa6dc8df28fa3cfcb",
       "version_major": 2,
       "version_minor": 0
      },
      "text/plain": [
       "  0%|          | 0/51 [00:00<?, ?it/s]"
      ]
     },
     "metadata": {},
     "output_type": "display_data"
    },
    {
     "data": {
      "application/json": {
       "ascii": false,
       "bar_format": null,
       "colour": null,
       "elapsed": 0.014925479888916016,
       "initial": 0,
       "n": 0,
       "ncols": null,
       "nrows": 29,
       "postfix": null,
       "prefix": "",
       "rate": null,
       "total": 51,
       "unit": "it",
       "unit_divisor": 1000,
       "unit_scale": false
      },
      "application/vnd.jupyter.widget-view+json": {
       "model_id": "3e9f3dd87cdc4fb7b432d5dc8a0a10c9",
       "version_major": 2,
       "version_minor": 0
      },
      "text/plain": [
       "  0%|          | 0/51 [00:00<?, ?it/s]"
      ]
     },
     "metadata": {},
     "output_type": "display_data"
    },
    {
     "data": {
      "application/json": {
       "ascii": false,
       "bar_format": null,
       "colour": null,
       "elapsed": 0.013959646224975586,
       "initial": 0,
       "n": 0,
       "ncols": null,
       "nrows": 29,
       "postfix": null,
       "prefix": "",
       "rate": null,
       "total": 51,
       "unit": "it",
       "unit_divisor": 1000,
       "unit_scale": false
      },
      "application/vnd.jupyter.widget-view+json": {
       "model_id": "2da77723fb404e00bfa16e37fe2181ec",
       "version_major": 2,
       "version_minor": 0
      },
      "text/plain": [
       "  0%|          | 0/51 [00:00<?, ?it/s]"
      ]
     },
     "metadata": {},
     "output_type": "display_data"
    },
    {
     "data": {
      "application/json": {
       "ascii": false,
       "bar_format": null,
       "colour": null,
       "elapsed": 0.012967824935913086,
       "initial": 0,
       "n": 0,
       "ncols": null,
       "nrows": 29,
       "postfix": null,
       "prefix": "",
       "rate": null,
       "total": 51,
       "unit": "it",
       "unit_divisor": 1000,
       "unit_scale": false
      },
      "application/vnd.jupyter.widget-view+json": {
       "model_id": "45f48dad7ff24256bffcba07d4d7deb8",
       "version_major": 2,
       "version_minor": 0
      },
      "text/plain": [
       "  0%|          | 0/51 [00:00<?, ?it/s]"
      ]
     },
     "metadata": {},
     "output_type": "display_data"
    },
    {
     "data": {
      "application/json": {
       "ascii": false,
       "bar_format": null,
       "colour": null,
       "elapsed": 0.013962507247924805,
       "initial": 0,
       "n": 0,
       "ncols": null,
       "nrows": 29,
       "postfix": null,
       "prefix": "",
       "rate": null,
       "total": 51,
       "unit": "it",
       "unit_divisor": 1000,
       "unit_scale": false
      },
      "application/vnd.jupyter.widget-view+json": {
       "model_id": "2478484c77014d00ad670bd78adef7cd",
       "version_major": 2,
       "version_minor": 0
      },
      "text/plain": [
       "  0%|          | 0/51 [00:00<?, ?it/s]"
      ]
     },
     "metadata": {},
     "output_type": "display_data"
    },
    {
     "data": {
      "application/json": {
       "ascii": false,
       "bar_format": null,
       "colour": null,
       "elapsed": 0.013961553573608398,
       "initial": 0,
       "n": 0,
       "ncols": null,
       "nrows": 29,
       "postfix": null,
       "prefix": "",
       "rate": null,
       "total": 51,
       "unit": "it",
       "unit_divisor": 1000,
       "unit_scale": false
      },
      "application/vnd.jupyter.widget-view+json": {
       "model_id": "e473a69933b64e50a7c9dfe404ff2d29",
       "version_major": 2,
       "version_minor": 0
      },
      "text/plain": [
       "  0%|          | 0/51 [00:00<?, ?it/s]"
      ]
     },
     "metadata": {},
     "output_type": "display_data"
    },
    {
     "data": {
      "application/json": {
       "ascii": false,
       "bar_format": null,
       "colour": null,
       "elapsed": 0.01296377182006836,
       "initial": 0,
       "n": 0,
       "ncols": null,
       "nrows": 29,
       "postfix": null,
       "prefix": "",
       "rate": null,
       "total": 51,
       "unit": "it",
       "unit_divisor": 1000,
       "unit_scale": false
      },
      "application/vnd.jupyter.widget-view+json": {
       "model_id": "d980e5dc687848538e61f88e8627e2ba",
       "version_major": 2,
       "version_minor": 0
      },
      "text/plain": [
       "  0%|          | 0/51 [00:00<?, ?it/s]"
      ]
     },
     "metadata": {},
     "output_type": "display_data"
    },
    {
     "data": {
      "application/json": {
       "ascii": false,
       "bar_format": null,
       "colour": null,
       "elapsed": 0.01695418357849121,
       "initial": 0,
       "n": 0,
       "ncols": null,
       "nrows": 29,
       "postfix": null,
       "prefix": "",
       "rate": null,
       "total": 51,
       "unit": "it",
       "unit_divisor": 1000,
       "unit_scale": false
      },
      "application/vnd.jupyter.widget-view+json": {
       "model_id": "7ffdfc1af9ff4cbfa2de253ecbfaa06f",
       "version_major": 2,
       "version_minor": 0
      },
      "text/plain": [
       "  0%|          | 0/51 [00:00<?, ?it/s]"
      ]
     },
     "metadata": {},
     "output_type": "display_data"
    },
    {
     "data": {
      "application/json": {
       "ascii": false,
       "bar_format": null,
       "colour": null,
       "elapsed": 0.013963937759399414,
       "initial": 0,
       "n": 0,
       "ncols": null,
       "nrows": 29,
       "postfix": null,
       "prefix": "",
       "rate": null,
       "total": 51,
       "unit": "it",
       "unit_divisor": 1000,
       "unit_scale": false
      },
      "application/vnd.jupyter.widget-view+json": {
       "model_id": "db3bccbc42c54057b9ae4d182dd20b25",
       "version_major": 2,
       "version_minor": 0
      },
      "text/plain": [
       "  0%|          | 0/51 [00:00<?, ?it/s]"
      ]
     },
     "metadata": {},
     "output_type": "display_data"
    },
    {
     "data": {
      "application/json": {
       "ascii": false,
       "bar_format": null,
       "colour": null,
       "elapsed": 0.01399850845336914,
       "initial": 0,
       "n": 0,
       "ncols": null,
       "nrows": 29,
       "postfix": null,
       "prefix": "",
       "rate": null,
       "total": 51,
       "unit": "it",
       "unit_divisor": 1000,
       "unit_scale": false
      },
      "application/vnd.jupyter.widget-view+json": {
       "model_id": "fc1e3644de374694b0634d15b459c883",
       "version_major": 2,
       "version_minor": 0
      },
      "text/plain": [
       "  0%|          | 0/51 [00:00<?, ?it/s]"
      ]
     },
     "metadata": {},
     "output_type": "display_data"
    },
    {
     "data": {
      "application/json": {
       "ascii": false,
       "bar_format": null,
       "colour": null,
       "elapsed": 0.013998985290527344,
       "initial": 0,
       "n": 0,
       "ncols": null,
       "nrows": 29,
       "postfix": null,
       "prefix": "",
       "rate": null,
       "total": 51,
       "unit": "it",
       "unit_divisor": 1000,
       "unit_scale": false
      },
      "application/vnd.jupyter.widget-view+json": {
       "model_id": "6c5e74b66a804ee4a067b28d3c22eade",
       "version_major": 2,
       "version_minor": 0
      },
      "text/plain": [
       "  0%|          | 0/51 [00:00<?, ?it/s]"
      ]
     },
     "metadata": {},
     "output_type": "display_data"
    },
    {
     "data": {
      "application/json": {
       "ascii": false,
       "bar_format": null,
       "colour": null,
       "elapsed": 0.015957355499267578,
       "initial": 0,
       "n": 0,
       "ncols": null,
       "nrows": 29,
       "postfix": null,
       "prefix": "",
       "rate": null,
       "total": 51,
       "unit": "it",
       "unit_divisor": 1000,
       "unit_scale": false
      },
      "application/vnd.jupyter.widget-view+json": {
       "model_id": "2274e155b7a240e88220075333794cfa",
       "version_major": 2,
       "version_minor": 0
      },
      "text/plain": [
       "  0%|          | 0/51 [00:00<?, ?it/s]"
      ]
     },
     "metadata": {},
     "output_type": "display_data"
    },
    {
     "data": {
      "application/json": {
       "ascii": false,
       "bar_format": null,
       "colour": null,
       "elapsed": 0.012965679168701172,
       "initial": 0,
       "n": 0,
       "ncols": null,
       "nrows": 29,
       "postfix": null,
       "prefix": "",
       "rate": null,
       "total": 51,
       "unit": "it",
       "unit_divisor": 1000,
       "unit_scale": false
      },
      "application/vnd.jupyter.widget-view+json": {
       "model_id": "d710f42e917f4f2ea719ea93a34b6d99",
       "version_major": 2,
       "version_minor": 0
      },
      "text/plain": [
       "  0%|          | 0/51 [00:00<?, ?it/s]"
      ]
     },
     "metadata": {},
     "output_type": "display_data"
    },
    {
     "data": {
      "application/json": {
       "ascii": false,
       "bar_format": null,
       "colour": null,
       "elapsed": 0.014960050582885742,
       "initial": 0,
       "n": 0,
       "ncols": null,
       "nrows": 29,
       "postfix": null,
       "prefix": "",
       "rate": null,
       "total": 51,
       "unit": "it",
       "unit_divisor": 1000,
       "unit_scale": false
      },
      "application/vnd.jupyter.widget-view+json": {
       "model_id": "4254c25ffb4348658c62dae0a20d65cf",
       "version_major": 2,
       "version_minor": 0
      },
      "text/plain": [
       "  0%|          | 0/51 [00:00<?, ?it/s]"
      ]
     },
     "metadata": {},
     "output_type": "display_data"
    },
    {
     "data": {
      "application/json": {
       "ascii": false,
       "bar_format": null,
       "colour": null,
       "elapsed": 0.013961076736450195,
       "initial": 0,
       "n": 0,
       "ncols": null,
       "nrows": 29,
       "postfix": null,
       "prefix": "",
       "rate": null,
       "total": 51,
       "unit": "it",
       "unit_divisor": 1000,
       "unit_scale": false
      },
      "application/vnd.jupyter.widget-view+json": {
       "model_id": "98519801014a40389d3b136ad9a4aa6e",
       "version_major": 2,
       "version_minor": 0
      },
      "text/plain": [
       "  0%|          | 0/51 [00:00<?, ?it/s]"
      ]
     },
     "metadata": {},
     "output_type": "display_data"
    },
    {
     "data": {
      "application/json": {
       "ascii": false,
       "bar_format": null,
       "colour": null,
       "elapsed": 0.014991998672485352,
       "initial": 0,
       "n": 0,
       "ncols": null,
       "nrows": 29,
       "postfix": null,
       "prefix": "",
       "rate": null,
       "total": 51,
       "unit": "it",
       "unit_divisor": 1000,
       "unit_scale": false
      },
      "application/vnd.jupyter.widget-view+json": {
       "model_id": "38903c9bf4054750a63e0c2c22709fec",
       "version_major": 2,
       "version_minor": 0
      },
      "text/plain": [
       "  0%|          | 0/51 [00:00<?, ?it/s]"
      ]
     },
     "metadata": {},
     "output_type": "display_data"
    },
    {
     "data": {
      "application/json": {
       "ascii": false,
       "bar_format": null,
       "colour": null,
       "elapsed": 0.013961315155029297,
       "initial": 0,
       "n": 0,
       "ncols": null,
       "nrows": 29,
       "postfix": null,
       "prefix": "",
       "rate": null,
       "total": 51,
       "unit": "it",
       "unit_divisor": 1000,
       "unit_scale": false
      },
      "application/vnd.jupyter.widget-view+json": {
       "model_id": "ddd61a15381342a4ae200df893c533a8",
       "version_major": 2,
       "version_minor": 0
      },
      "text/plain": [
       "  0%|          | 0/51 [00:00<?, ?it/s]"
      ]
     },
     "metadata": {},
     "output_type": "display_data"
    },
    {
     "data": {
      "application/json": {
       "ascii": false,
       "bar_format": null,
       "colour": null,
       "elapsed": 0.013962745666503906,
       "initial": 0,
       "n": 0,
       "ncols": null,
       "nrows": 29,
       "postfix": null,
       "prefix": "",
       "rate": null,
       "total": 51,
       "unit": "it",
       "unit_divisor": 1000,
       "unit_scale": false
      },
      "application/vnd.jupyter.widget-view+json": {
       "model_id": "95a67e36d1f84f1a9fcdeed75601e12f",
       "version_major": 2,
       "version_minor": 0
      },
      "text/plain": [
       "  0%|          | 0/51 [00:00<?, ?it/s]"
      ]
     },
     "metadata": {},
     "output_type": "display_data"
    },
    {
     "data": {
      "application/json": {
       "ascii": false,
       "bar_format": null,
       "colour": null,
       "elapsed": 0.01293039321899414,
       "initial": 0,
       "n": 0,
       "ncols": null,
       "nrows": 29,
       "postfix": null,
       "prefix": "",
       "rate": null,
       "total": 51,
       "unit": "it",
       "unit_divisor": 1000,
       "unit_scale": false
      },
      "application/vnd.jupyter.widget-view+json": {
       "model_id": "aca84fd9340a4663b5b903f41086a050",
       "version_major": 2,
       "version_minor": 0
      },
      "text/plain": [
       "  0%|          | 0/51 [00:00<?, ?it/s]"
      ]
     },
     "metadata": {},
     "output_type": "display_data"
    },
    {
     "data": {
      "application/json": {
       "ascii": false,
       "bar_format": null,
       "colour": null,
       "elapsed": 0.014470577239990234,
       "initial": 0,
       "n": 0,
       "ncols": null,
       "nrows": 29,
       "postfix": null,
       "prefix": "",
       "rate": null,
       "total": 51,
       "unit": "it",
       "unit_divisor": 1000,
       "unit_scale": false
      },
      "application/vnd.jupyter.widget-view+json": {
       "model_id": "7ffce3cf314449a6bbf05971ff94a58d",
       "version_major": 2,
       "version_minor": 0
      },
      "text/plain": [
       "  0%|          | 0/51 [00:00<?, ?it/s]"
      ]
     },
     "metadata": {},
     "output_type": "display_data"
    },
    {
     "data": {
      "application/json": {
       "ascii": false,
       "bar_format": null,
       "colour": null,
       "elapsed": 0.013962030410766602,
       "initial": 0,
       "n": 0,
       "ncols": null,
       "nrows": 29,
       "postfix": null,
       "prefix": "",
       "rate": null,
       "total": 51,
       "unit": "it",
       "unit_divisor": 1000,
       "unit_scale": false
      },
      "application/vnd.jupyter.widget-view+json": {
       "model_id": "08b0e7ebc711444da7335d21ee073acd",
       "version_major": 2,
       "version_minor": 0
      },
      "text/plain": [
       "  0%|          | 0/51 [00:00<?, ?it/s]"
      ]
     },
     "metadata": {},
     "output_type": "display_data"
    },
    {
     "data": {
      "application/json": {
       "ascii": false,
       "bar_format": null,
       "colour": null,
       "elapsed": 0.013962507247924805,
       "initial": 0,
       "n": 0,
       "ncols": null,
       "nrows": 29,
       "postfix": null,
       "prefix": "",
       "rate": null,
       "total": 51,
       "unit": "it",
       "unit_divisor": 1000,
       "unit_scale": false
      },
      "application/vnd.jupyter.widget-view+json": {
       "model_id": "7c23d302063847cf98523430653fad11",
       "version_major": 2,
       "version_minor": 0
      },
      "text/plain": [
       "  0%|          | 0/51 [00:00<?, ?it/s]"
      ]
     },
     "metadata": {},
     "output_type": "display_data"
    },
    {
     "data": {
      "application/json": {
       "ascii": false,
       "bar_format": null,
       "colour": null,
       "elapsed": 0.014960289001464844,
       "initial": 0,
       "n": 0,
       "ncols": null,
       "nrows": 29,
       "postfix": null,
       "prefix": "",
       "rate": null,
       "total": 51,
       "unit": "it",
       "unit_divisor": 1000,
       "unit_scale": false
      },
      "application/vnd.jupyter.widget-view+json": {
       "model_id": "d9a613080d324fb59ce55a1b7fa46b17",
       "version_major": 2,
       "version_minor": 0
      },
      "text/plain": [
       "  0%|          | 0/51 [00:00<?, ?it/s]"
      ]
     },
     "metadata": {},
     "output_type": "display_data"
    },
    {
     "data": {
      "application/json": {
       "ascii": false,
       "bar_format": null,
       "colour": null,
       "elapsed": 0.013963460922241211,
       "initial": 0,
       "n": 0,
       "ncols": null,
       "nrows": 29,
       "postfix": null,
       "prefix": "",
       "rate": null,
       "total": 51,
       "unit": "it",
       "unit_divisor": 1000,
       "unit_scale": false
      },
      "application/vnd.jupyter.widget-view+json": {
       "model_id": "aa6d39d4c198443e8c1bc1c344c1c7fc",
       "version_major": 2,
       "version_minor": 0
      },
      "text/plain": [
       "  0%|          | 0/51 [00:00<?, ?it/s]"
      ]
     },
     "metadata": {},
     "output_type": "display_data"
    },
    {
     "data": {
      "application/json": {
       "ascii": false,
       "bar_format": null,
       "colour": null,
       "elapsed": 0.014926671981811523,
       "initial": 0,
       "n": 0,
       "ncols": null,
       "nrows": 29,
       "postfix": null,
       "prefix": "",
       "rate": null,
       "total": 51,
       "unit": "it",
       "unit_divisor": 1000,
       "unit_scale": false
      },
      "application/vnd.jupyter.widget-view+json": {
       "model_id": "811450cf307e4ff48f1814fe20fb1d21",
       "version_major": 2,
       "version_minor": 0
      },
      "text/plain": [
       "  0%|          | 0/51 [00:00<?, ?it/s]"
      ]
     },
     "metadata": {},
     "output_type": "display_data"
    },
    {
     "data": {
      "application/json": {
       "ascii": false,
       "bar_format": null,
       "colour": null,
       "elapsed": 0.01393747329711914,
       "initial": 0,
       "n": 0,
       "ncols": null,
       "nrows": 29,
       "postfix": null,
       "prefix": "",
       "rate": null,
       "total": 51,
       "unit": "it",
       "unit_divisor": 1000,
       "unit_scale": false
      },
      "application/vnd.jupyter.widget-view+json": {
       "model_id": "3111612a004242428c00d857c0e04819",
       "version_major": 2,
       "version_minor": 0
      },
      "text/plain": [
       "  0%|          | 0/51 [00:00<?, ?it/s]"
      ]
     },
     "metadata": {},
     "output_type": "display_data"
    },
    {
     "data": {
      "application/json": {
       "ascii": false,
       "bar_format": null,
       "colour": null,
       "elapsed": 0.013930320739746094,
       "initial": 0,
       "n": 0,
       "ncols": null,
       "nrows": 29,
       "postfix": null,
       "prefix": "",
       "rate": null,
       "total": 51,
       "unit": "it",
       "unit_divisor": 1000,
       "unit_scale": false
      },
      "application/vnd.jupyter.widget-view+json": {
       "model_id": "82b85273470645e9b92dbac751be3906",
       "version_major": 2,
       "version_minor": 0
      },
      "text/plain": [
       "  0%|          | 0/51 [00:00<?, ?it/s]"
      ]
     },
     "metadata": {},
     "output_type": "display_data"
    },
    {
     "data": {
      "application/json": {
       "ascii": false,
       "bar_format": null,
       "colour": null,
       "elapsed": 0.01399540901184082,
       "initial": 0,
       "n": 0,
       "ncols": null,
       "nrows": 29,
       "postfix": null,
       "prefix": "",
       "rate": null,
       "total": 51,
       "unit": "it",
       "unit_divisor": 1000,
       "unit_scale": false
      },
      "application/vnd.jupyter.widget-view+json": {
       "model_id": "8c79b6ee03134337aa126ec68dbb7584",
       "version_major": 2,
       "version_minor": 0
      },
      "text/plain": [
       "  0%|          | 0/51 [00:00<?, ?it/s]"
      ]
     },
     "metadata": {},
     "output_type": "display_data"
    },
    {
     "data": {
      "application/json": {
       "ascii": false,
       "bar_format": null,
       "colour": null,
       "elapsed": 0.014015436172485352,
       "initial": 0,
       "n": 0,
       "ncols": null,
       "nrows": 29,
       "postfix": null,
       "prefix": "",
       "rate": null,
       "total": 51,
       "unit": "it",
       "unit_divisor": 1000,
       "unit_scale": false
      },
      "application/vnd.jupyter.widget-view+json": {
       "model_id": "2de79f55a1214e1da836513278637a8c",
       "version_major": 2,
       "version_minor": 0
      },
      "text/plain": [
       "  0%|          | 0/51 [00:00<?, ?it/s]"
      ]
     },
     "metadata": {},
     "output_type": "display_data"
    },
    {
     "data": {
      "application/json": {
       "ascii": false,
       "bar_format": null,
       "colour": null,
       "elapsed": 0.014019250869750977,
       "initial": 0,
       "n": 0,
       "ncols": null,
       "nrows": 29,
       "postfix": null,
       "prefix": "",
       "rate": null,
       "total": 51,
       "unit": "it",
       "unit_divisor": 1000,
       "unit_scale": false
      },
      "application/vnd.jupyter.widget-view+json": {
       "model_id": "645a634e8d3d4f458950f9eb273d2611",
       "version_major": 2,
       "version_minor": 0
      },
      "text/plain": [
       "  0%|          | 0/51 [00:00<?, ?it/s]"
      ]
     },
     "metadata": {},
     "output_type": "display_data"
    },
    {
     "data": {
      "application/json": {
       "ascii": false,
       "bar_format": null,
       "colour": null,
       "elapsed": 0.013961315155029297,
       "initial": 0,
       "n": 0,
       "ncols": null,
       "nrows": 29,
       "postfix": null,
       "prefix": "",
       "rate": null,
       "total": 51,
       "unit": "it",
       "unit_divisor": 1000,
       "unit_scale": false
      },
      "application/vnd.jupyter.widget-view+json": {
       "model_id": "67124bf8d7654f0f970f399a59b98740",
       "version_major": 2,
       "version_minor": 0
      },
      "text/plain": [
       "  0%|          | 0/51 [00:00<?, ?it/s]"
      ]
     },
     "metadata": {},
     "output_type": "display_data"
    },
    {
     "data": {
      "application/json": {
       "ascii": false,
       "bar_format": null,
       "colour": null,
       "elapsed": 0.013949871063232422,
       "initial": 0,
       "n": 0,
       "ncols": null,
       "nrows": 29,
       "postfix": null,
       "prefix": "",
       "rate": null,
       "total": 51,
       "unit": "it",
       "unit_divisor": 1000,
       "unit_scale": false
      },
      "application/vnd.jupyter.widget-view+json": {
       "model_id": "ad4aef74825e4bf3b82411b0f7ff1757",
       "version_major": 2,
       "version_minor": 0
      },
      "text/plain": [
       "  0%|          | 0/51 [00:00<?, ?it/s]"
      ]
     },
     "metadata": {},
     "output_type": "display_data"
    },
    {
     "data": {
      "application/json": {
       "ascii": false,
       "bar_format": null,
       "colour": null,
       "elapsed": 0.012959480285644531,
       "initial": 0,
       "n": 0,
       "ncols": null,
       "nrows": 29,
       "postfix": null,
       "prefix": "",
       "rate": null,
       "total": 51,
       "unit": "it",
       "unit_divisor": 1000,
       "unit_scale": false
      },
      "application/vnd.jupyter.widget-view+json": {
       "model_id": "9ca1443916ee44a59fa2283cb62840d2",
       "version_major": 2,
       "version_minor": 0
      },
      "text/plain": [
       "  0%|          | 0/51 [00:00<?, ?it/s]"
      ]
     },
     "metadata": {},
     "output_type": "display_data"
    },
    {
     "name": "stderr",
     "output_type": "stream",
     "text": [
      "Potential NSFW content was detected in one or more images. A black image will be returned instead. Try again with a different prompt and/or seed.\n"
     ]
    },
    {
     "data": {
      "application/json": {
       "ascii": false,
       "bar_format": null,
       "colour": null,
       "elapsed": 0.014928579330444336,
       "initial": 0,
       "n": 0,
       "ncols": null,
       "nrows": 29,
       "postfix": null,
       "prefix": "",
       "rate": null,
       "total": 51,
       "unit": "it",
       "unit_divisor": 1000,
       "unit_scale": false
      },
      "application/vnd.jupyter.widget-view+json": {
       "model_id": "9f740a68bb7a48f0bc1f745b07c93478",
       "version_major": 2,
       "version_minor": 0
      },
      "text/plain": [
       "  0%|          | 0/51 [00:00<?, ?it/s]"
      ]
     },
     "metadata": {},
     "output_type": "display_data"
    },
    {
     "data": {
      "application/json": {
       "ascii": false,
       "bar_format": null,
       "colour": null,
       "elapsed": 0.01598954200744629,
       "initial": 0,
       "n": 0,
       "ncols": null,
       "nrows": 29,
       "postfix": null,
       "prefix": "",
       "rate": null,
       "total": 51,
       "unit": "it",
       "unit_divisor": 1000,
       "unit_scale": false
      },
      "application/vnd.jupyter.widget-view+json": {
       "model_id": "b39b80887f8e4aeaa7d5a23cc3bee9a9",
       "version_major": 2,
       "version_minor": 0
      },
      "text/plain": [
       "  0%|          | 0/51 [00:00<?, ?it/s]"
      ]
     },
     "metadata": {},
     "output_type": "display_data"
    },
    {
     "data": {
      "application/json": {
       "ascii": false,
       "bar_format": null,
       "colour": null,
       "elapsed": 0.0139617919921875,
       "initial": 0,
       "n": 0,
       "ncols": null,
       "nrows": 29,
       "postfix": null,
       "prefix": "",
       "rate": null,
       "total": 51,
       "unit": "it",
       "unit_divisor": 1000,
       "unit_scale": false
      },
      "application/vnd.jupyter.widget-view+json": {
       "model_id": "c510279bdde44e0a84ddb73ee5844813",
       "version_major": 2,
       "version_minor": 0
      },
      "text/plain": [
       "  0%|          | 0/51 [00:00<?, ?it/s]"
      ]
     },
     "metadata": {},
     "output_type": "display_data"
    },
    {
     "data": {
      "application/json": {
       "ascii": false,
       "bar_format": null,
       "colour": null,
       "elapsed": 0.015007734298706055,
       "initial": 0,
       "n": 0,
       "ncols": null,
       "nrows": 29,
       "postfix": null,
       "prefix": "",
       "rate": null,
       "total": 51,
       "unit": "it",
       "unit_divisor": 1000,
       "unit_scale": false
      },
      "application/vnd.jupyter.widget-view+json": {
       "model_id": "7c6efa2ad23c4a4282ff8d8cfbcec37e",
       "version_major": 2,
       "version_minor": 0
      },
      "text/plain": [
       "  0%|          | 0/51 [00:00<?, ?it/s]"
      ]
     },
     "metadata": {},
     "output_type": "display_data"
    },
    {
     "data": {
      "application/json": {
       "ascii": false,
       "bar_format": null,
       "colour": null,
       "elapsed": 0.013994216918945312,
       "initial": 0,
       "n": 0,
       "ncols": null,
       "nrows": 29,
       "postfix": null,
       "prefix": "",
       "rate": null,
       "total": 51,
       "unit": "it",
       "unit_divisor": 1000,
       "unit_scale": false
      },
      "application/vnd.jupyter.widget-view+json": {
       "model_id": "79cac0ca1427427ab98786a60d1d9d36",
       "version_major": 2,
       "version_minor": 0
      },
      "text/plain": [
       "  0%|          | 0/51 [00:00<?, ?it/s]"
      ]
     },
     "metadata": {},
     "output_type": "display_data"
    },
    {
     "data": {
      "application/json": {
       "ascii": false,
       "bar_format": null,
       "colour": null,
       "elapsed": 0.016955137252807617,
       "initial": 0,
       "n": 0,
       "ncols": null,
       "nrows": 29,
       "postfix": null,
       "prefix": "",
       "rate": null,
       "total": 51,
       "unit": "it",
       "unit_divisor": 1000,
       "unit_scale": false
      },
      "application/vnd.jupyter.widget-view+json": {
       "model_id": "c55acae8ca1549a5b54b24b3a7be2c15",
       "version_major": 2,
       "version_minor": 0
      },
      "text/plain": [
       "  0%|          | 0/51 [00:00<?, ?it/s]"
      ]
     },
     "metadata": {},
     "output_type": "display_data"
    },
    {
     "data": {
      "application/json": {
       "ascii": false,
       "bar_format": null,
       "colour": null,
       "elapsed": 0.01495981216430664,
       "initial": 0,
       "n": 0,
       "ncols": null,
       "nrows": 29,
       "postfix": null,
       "prefix": "",
       "rate": null,
       "total": 51,
       "unit": "it",
       "unit_divisor": 1000,
       "unit_scale": false
      },
      "application/vnd.jupyter.widget-view+json": {
       "model_id": "64c2754b323c4a61a620a65d70c74b58",
       "version_major": 2,
       "version_minor": 0
      },
      "text/plain": [
       "  0%|          | 0/51 [00:00<?, ?it/s]"
      ]
     },
     "metadata": {},
     "output_type": "display_data"
    },
    {
     "data": {
      "application/json": {
       "ascii": false,
       "bar_format": null,
       "colour": null,
       "elapsed": 0.014960050582885742,
       "initial": 0,
       "n": 0,
       "ncols": null,
       "nrows": 29,
       "postfix": null,
       "prefix": "",
       "rate": null,
       "total": 51,
       "unit": "it",
       "unit_divisor": 1000,
       "unit_scale": false
      },
      "application/vnd.jupyter.widget-view+json": {
       "model_id": "d74fb6a99a5f4be9b3bb162f30588073",
       "version_major": 2,
       "version_minor": 0
      },
      "text/plain": [
       "  0%|          | 0/51 [00:00<?, ?it/s]"
      ]
     },
     "metadata": {},
     "output_type": "display_data"
    },
    {
     "data": {
      "application/json": {
       "ascii": false,
       "bar_format": null,
       "colour": null,
       "elapsed": 0.01795196533203125,
       "initial": 0,
       "n": 0,
       "ncols": null,
       "nrows": 29,
       "postfix": null,
       "prefix": "",
       "rate": null,
       "total": 51,
       "unit": "it",
       "unit_divisor": 1000,
       "unit_scale": false
      },
      "application/vnd.jupyter.widget-view+json": {
       "model_id": "1c14c981e9564c59bf316a238d5648bc",
       "version_major": 2,
       "version_minor": 0
      },
      "text/plain": [
       "  0%|          | 0/51 [00:00<?, ?it/s]"
      ]
     },
     "metadata": {},
     "output_type": "display_data"
    },
    {
     "data": {
      "application/json": {
       "ascii": false,
       "bar_format": null,
       "colour": null,
       "elapsed": 0.014960527420043945,
       "initial": 0,
       "n": 0,
       "ncols": null,
       "nrows": 29,
       "postfix": null,
       "prefix": "",
       "rate": null,
       "total": 51,
       "unit": "it",
       "unit_divisor": 1000,
       "unit_scale": false
      },
      "application/vnd.jupyter.widget-view+json": {
       "model_id": "d83c8e84e951477d929fd6608bc42674",
       "version_major": 2,
       "version_minor": 0
      },
      "text/plain": [
       "  0%|          | 0/51 [00:00<?, ?it/s]"
      ]
     },
     "metadata": {},
     "output_type": "display_data"
    },
    {
     "data": {
      "application/json": {
       "ascii": false,
       "bar_format": null,
       "colour": null,
       "elapsed": 0.012998104095458984,
       "initial": 0,
       "n": 0,
       "ncols": null,
       "nrows": 29,
       "postfix": null,
       "prefix": "",
       "rate": null,
       "total": 51,
       "unit": "it",
       "unit_divisor": 1000,
       "unit_scale": false
      },
      "application/vnd.jupyter.widget-view+json": {
       "model_id": "e90e9062b07045019d706abd089888ae",
       "version_major": 2,
       "version_minor": 0
      },
      "text/plain": [
       "  0%|          | 0/51 [00:00<?, ?it/s]"
      ]
     },
     "metadata": {},
     "output_type": "display_data"
    },
    {
     "data": {
      "application/json": {
       "ascii": false,
       "bar_format": null,
       "colour": null,
       "elapsed": 0.013962507247924805,
       "initial": 0,
       "n": 0,
       "ncols": null,
       "nrows": 29,
       "postfix": null,
       "prefix": "",
       "rate": null,
       "total": 51,
       "unit": "it",
       "unit_divisor": 1000,
       "unit_scale": false
      },
      "application/vnd.jupyter.widget-view+json": {
       "model_id": "96185549fd37489b8166718ef736e3ff",
       "version_major": 2,
       "version_minor": 0
      },
      "text/plain": [
       "  0%|          | 0/51 [00:00<?, ?it/s]"
      ]
     },
     "metadata": {},
     "output_type": "display_data"
    },
    {
     "data": {
      "application/json": {
       "ascii": false,
       "bar_format": null,
       "colour": null,
       "elapsed": 0.012931585311889648,
       "initial": 0,
       "n": 0,
       "ncols": null,
       "nrows": 29,
       "postfix": null,
       "prefix": "",
       "rate": null,
       "total": 51,
       "unit": "it",
       "unit_divisor": 1000,
       "unit_scale": false
      },
      "application/vnd.jupyter.widget-view+json": {
       "model_id": "14827bff50d7492f807e007bda99698d",
       "version_major": 2,
       "version_minor": 0
      },
      "text/plain": [
       "  0%|          | 0/51 [00:00<?, ?it/s]"
      ]
     },
     "metadata": {},
     "output_type": "display_data"
    },
    {
     "data": {
      "application/json": {
       "ascii": false,
       "bar_format": null,
       "colour": null,
       "elapsed": 0.012928247451782227,
       "initial": 0,
       "n": 0,
       "ncols": null,
       "nrows": 29,
       "postfix": null,
       "prefix": "",
       "rate": null,
       "total": 51,
       "unit": "it",
       "unit_divisor": 1000,
       "unit_scale": false
      },
      "application/vnd.jupyter.widget-view+json": {
       "model_id": "297e43b515c949dcbd9c62802d9479e4",
       "version_major": 2,
       "version_minor": 0
      },
      "text/plain": [
       "  0%|          | 0/51 [00:00<?, ?it/s]"
      ]
     },
     "metadata": {},
     "output_type": "display_data"
    },
    {
     "data": {
      "application/json": {
       "ascii": false,
       "bar_format": null,
       "colour": null,
       "elapsed": 0.015956878662109375,
       "initial": 0,
       "n": 0,
       "ncols": null,
       "nrows": 29,
       "postfix": null,
       "prefix": "",
       "rate": null,
       "total": 51,
       "unit": "it",
       "unit_divisor": 1000,
       "unit_scale": false
      },
      "application/vnd.jupyter.widget-view+json": {
       "model_id": "6186defdc4774d3687a7bed0bdaad234",
       "version_major": 2,
       "version_minor": 0
      },
      "text/plain": [
       "  0%|          | 0/51 [00:00<?, ?it/s]"
      ]
     },
     "metadata": {},
     "output_type": "display_data"
    },
    {
     "data": {
      "application/json": {
       "ascii": false,
       "bar_format": null,
       "colour": null,
       "elapsed": 0.013964653015136719,
       "initial": 0,
       "n": 0,
       "ncols": null,
       "nrows": 29,
       "postfix": null,
       "prefix": "",
       "rate": null,
       "total": 51,
       "unit": "it",
       "unit_divisor": 1000,
       "unit_scale": false
      },
      "application/vnd.jupyter.widget-view+json": {
       "model_id": "a4e83c1a1b11406c86ed1053ed201cf0",
       "version_major": 2,
       "version_minor": 0
      },
      "text/plain": [
       "  0%|          | 0/51 [00:00<?, ?it/s]"
      ]
     },
     "metadata": {},
     "output_type": "display_data"
    },
    {
     "data": {
      "application/json": {
       "ascii": false,
       "bar_format": null,
       "colour": null,
       "elapsed": 0.01595759391784668,
       "initial": 0,
       "n": 0,
       "ncols": null,
       "nrows": 29,
       "postfix": null,
       "prefix": "",
       "rate": null,
       "total": 51,
       "unit": "it",
       "unit_divisor": 1000,
       "unit_scale": false
      },
      "application/vnd.jupyter.widget-view+json": {
       "model_id": "1b60c3a2496c47ca88330bb69cdb7625",
       "version_major": 2,
       "version_minor": 0
      },
      "text/plain": [
       "  0%|          | 0/51 [00:00<?, ?it/s]"
      ]
     },
     "metadata": {},
     "output_type": "display_data"
    },
    {
     "data": {
      "application/json": {
       "ascii": false,
       "bar_format": null,
       "colour": null,
       "elapsed": 0.01395726203918457,
       "initial": 0,
       "n": 0,
       "ncols": null,
       "nrows": 29,
       "postfix": null,
       "prefix": "",
       "rate": null,
       "total": 51,
       "unit": "it",
       "unit_divisor": 1000,
       "unit_scale": false
      },
      "application/vnd.jupyter.widget-view+json": {
       "model_id": "36e04f6282994ed5ac34b59cd47b45b1",
       "version_major": 2,
       "version_minor": 0
      },
      "text/plain": [
       "  0%|          | 0/51 [00:00<?, ?it/s]"
      ]
     },
     "metadata": {},
     "output_type": "display_data"
    },
    {
     "data": {
      "application/json": {
       "ascii": false,
       "bar_format": null,
       "colour": null,
       "elapsed": 0.013962745666503906,
       "initial": 0,
       "n": 0,
       "ncols": null,
       "nrows": 29,
       "postfix": null,
       "prefix": "",
       "rate": null,
       "total": 51,
       "unit": "it",
       "unit_divisor": 1000,
       "unit_scale": false
      },
      "application/vnd.jupyter.widget-view+json": {
       "model_id": "85185733e6b34057984bb429eee34e63",
       "version_major": 2,
       "version_minor": 0
      },
      "text/plain": [
       "  0%|          | 0/51 [00:00<?, ?it/s]"
      ]
     },
     "metadata": {},
     "output_type": "display_data"
    },
    {
     "data": {
      "application/json": {
       "ascii": false,
       "bar_format": null,
       "colour": null,
       "elapsed": 0.013962030410766602,
       "initial": 0,
       "n": 0,
       "ncols": null,
       "nrows": 29,
       "postfix": null,
       "prefix": "",
       "rate": null,
       "total": 51,
       "unit": "it",
       "unit_divisor": 1000,
       "unit_scale": false
      },
      "application/vnd.jupyter.widget-view+json": {
       "model_id": "7db9bcf7234b4a77bdd702963f8a2d37",
       "version_major": 2,
       "version_minor": 0
      },
      "text/plain": [
       "  0%|          | 0/51 [00:00<?, ?it/s]"
      ]
     },
     "metadata": {},
     "output_type": "display_data"
    },
    {
     "data": {
      "application/json": {
       "ascii": false,
       "bar_format": null,
       "colour": null,
       "elapsed": 0.013962984085083008,
       "initial": 0,
       "n": 0,
       "ncols": null,
       "nrows": 29,
       "postfix": null,
       "prefix": "",
       "rate": null,
       "total": 51,
       "unit": "it",
       "unit_divisor": 1000,
       "unit_scale": false
      },
      "application/vnd.jupyter.widget-view+json": {
       "model_id": "88eee7da389c4d68a7376fa07b0bbe5f",
       "version_major": 2,
       "version_minor": 0
      },
      "text/plain": [
       "  0%|          | 0/51 [00:00<?, ?it/s]"
      ]
     },
     "metadata": {},
     "output_type": "display_data"
    },
    {
     "data": {
      "application/json": {
       "ascii": false,
       "bar_format": null,
       "colour": null,
       "elapsed": 0.013962507247924805,
       "initial": 0,
       "n": 0,
       "ncols": null,
       "nrows": 29,
       "postfix": null,
       "prefix": "",
       "rate": null,
       "total": 51,
       "unit": "it",
       "unit_divisor": 1000,
       "unit_scale": false
      },
      "application/vnd.jupyter.widget-view+json": {
       "model_id": "b6ced627cea3492e8bbb4288c9e6b9e8",
       "version_major": 2,
       "version_minor": 0
      },
      "text/plain": [
       "  0%|          | 0/51 [00:00<?, ?it/s]"
      ]
     },
     "metadata": {},
     "output_type": "display_data"
    },
    {
     "data": {
      "application/json": {
       "ascii": false,
       "bar_format": null,
       "colour": null,
       "elapsed": 0.013962745666503906,
       "initial": 0,
       "n": 0,
       "ncols": null,
       "nrows": 29,
       "postfix": null,
       "prefix": "",
       "rate": null,
       "total": 51,
       "unit": "it",
       "unit_divisor": 1000,
       "unit_scale": false
      },
      "application/vnd.jupyter.widget-view+json": {
       "model_id": "16412c21430849f0a0cc15307a311990",
       "version_major": 2,
       "version_minor": 0
      },
      "text/plain": [
       "  0%|          | 0/51 [00:00<?, ?it/s]"
      ]
     },
     "metadata": {},
     "output_type": "display_data"
    },
    {
     "data": {
      "application/json": {
       "ascii": false,
       "bar_format": null,
       "colour": null,
       "elapsed": 0.01396322250366211,
       "initial": 0,
       "n": 0,
       "ncols": null,
       "nrows": 29,
       "postfix": null,
       "prefix": "",
       "rate": null,
       "total": 51,
       "unit": "it",
       "unit_divisor": 1000,
       "unit_scale": false
      },
      "application/vnd.jupyter.widget-view+json": {
       "model_id": "7156f3c5eb8147bcbfe3945ce0cac340",
       "version_major": 2,
       "version_minor": 0
      },
      "text/plain": [
       "  0%|          | 0/51 [00:00<?, ?it/s]"
      ]
     },
     "metadata": {},
     "output_type": "display_data"
    },
    {
     "data": {
      "application/json": {
       "ascii": false,
       "bar_format": null,
       "colour": null,
       "elapsed": 0.014926910400390625,
       "initial": 0,
       "n": 0,
       "ncols": null,
       "nrows": 29,
       "postfix": null,
       "prefix": "",
       "rate": null,
       "total": 51,
       "unit": "it",
       "unit_divisor": 1000,
       "unit_scale": false
      },
      "application/vnd.jupyter.widget-view+json": {
       "model_id": "ec417f5c49de4b98ad9edbf73d612f4e",
       "version_major": 2,
       "version_minor": 0
      },
      "text/plain": [
       "  0%|          | 0/51 [00:00<?, ?it/s]"
      ]
     },
     "metadata": {},
     "output_type": "display_data"
    },
    {
     "data": {
      "application/json": {
       "ascii": false,
       "bar_format": null,
       "colour": null,
       "elapsed": 0.01296544075012207,
       "initial": 0,
       "n": 0,
       "ncols": null,
       "nrows": 29,
       "postfix": null,
       "prefix": "",
       "rate": null,
       "total": 51,
       "unit": "it",
       "unit_divisor": 1000,
       "unit_scale": false
      },
      "application/vnd.jupyter.widget-view+json": {
       "model_id": "edb40dbe2a1a47d0a77f03874ef01457",
       "version_major": 2,
       "version_minor": 0
      },
      "text/plain": [
       "  0%|          | 0/51 [00:00<?, ?it/s]"
      ]
     },
     "metadata": {},
     "output_type": "display_data"
    },
    {
     "name": "stderr",
     "output_type": "stream",
     "text": [
      "Potential NSFW content was detected in one or more images. A black image will be returned instead. Try again with a different prompt and/or seed.\n"
     ]
    },
    {
     "data": {
      "application/json": {
       "ascii": false,
       "bar_format": null,
       "colour": null,
       "elapsed": 0.01396036148071289,
       "initial": 0,
       "n": 0,
       "ncols": null,
       "nrows": 29,
       "postfix": null,
       "prefix": "",
       "rate": null,
       "total": 51,
       "unit": "it",
       "unit_divisor": 1000,
       "unit_scale": false
      },
      "application/vnd.jupyter.widget-view+json": {
       "model_id": "526e6b803c244f2b99dd12f0524caed5",
       "version_major": 2,
       "version_minor": 0
      },
      "text/plain": [
       "  0%|          | 0/51 [00:00<?, ?it/s]"
      ]
     },
     "metadata": {},
     "output_type": "display_data"
    },
    {
     "data": {
      "application/json": {
       "ascii": false,
       "bar_format": null,
       "colour": null,
       "elapsed": 0.013962984085083008,
       "initial": 0,
       "n": 0,
       "ncols": null,
       "nrows": 29,
       "postfix": null,
       "prefix": "",
       "rate": null,
       "total": 51,
       "unit": "it",
       "unit_divisor": 1000,
       "unit_scale": false
      },
      "application/vnd.jupyter.widget-view+json": {
       "model_id": "e1d23c19d8304ae980e9652b8332e237",
       "version_major": 2,
       "version_minor": 0
      },
      "text/plain": [
       "  0%|          | 0/51 [00:00<?, ?it/s]"
      ]
     },
     "metadata": {},
     "output_type": "display_data"
    },
    {
     "data": {
      "application/json": {
       "ascii": false,
       "bar_format": null,
       "colour": null,
       "elapsed": 0.016954898834228516,
       "initial": 0,
       "n": 0,
       "ncols": null,
       "nrows": 29,
       "postfix": null,
       "prefix": "",
       "rate": null,
       "total": 51,
       "unit": "it",
       "unit_divisor": 1000,
       "unit_scale": false
      },
      "application/vnd.jupyter.widget-view+json": {
       "model_id": "a19711fc5eb44e459202f932da7d4958",
       "version_major": 2,
       "version_minor": 0
      },
      "text/plain": [
       "  0%|          | 0/51 [00:00<?, ?it/s]"
      ]
     },
     "metadata": {},
     "output_type": "display_data"
    },
    {
     "data": {
      "application/json": {
       "ascii": false,
       "bar_format": null,
       "colour": null,
       "elapsed": 0.014959573745727539,
       "initial": 0,
       "n": 0,
       "ncols": null,
       "nrows": 29,
       "postfix": null,
       "prefix": "",
       "rate": null,
       "total": 51,
       "unit": "it",
       "unit_divisor": 1000,
       "unit_scale": false
      },
      "application/vnd.jupyter.widget-view+json": {
       "model_id": "60b9f3129549403585494096d5b6290e",
       "version_major": 2,
       "version_minor": 0
      },
      "text/plain": [
       "  0%|          | 0/51 [00:00<?, ?it/s]"
      ]
     },
     "metadata": {},
     "output_type": "display_data"
    },
    {
     "data": {
      "application/json": {
       "ascii": false,
       "bar_format": null,
       "colour": null,
       "elapsed": 0.014959573745727539,
       "initial": 0,
       "n": 0,
       "ncols": null,
       "nrows": 29,
       "postfix": null,
       "prefix": "",
       "rate": null,
       "total": 51,
       "unit": "it",
       "unit_divisor": 1000,
       "unit_scale": false
      },
      "application/vnd.jupyter.widget-view+json": {
       "model_id": "9e5d6681e3cc4913aefe6bb44a5ab0af",
       "version_major": 2,
       "version_minor": 0
      },
      "text/plain": [
       "  0%|          | 0/51 [00:00<?, ?it/s]"
      ]
     },
     "metadata": {},
     "output_type": "display_data"
    },
    {
     "data": {
      "application/json": {
       "ascii": false,
       "bar_format": null,
       "colour": null,
       "elapsed": 0.013979196548461914,
       "initial": 0,
       "n": 0,
       "ncols": null,
       "nrows": 29,
       "postfix": null,
       "prefix": "",
       "rate": null,
       "total": 51,
       "unit": "it",
       "unit_divisor": 1000,
       "unit_scale": false
      },
      "application/vnd.jupyter.widget-view+json": {
       "model_id": "3b6c6e2f452244e69c51cb6d62da0a16",
       "version_major": 2,
       "version_minor": 0
      },
      "text/plain": [
       "  0%|          | 0/51 [00:00<?, ?it/s]"
      ]
     },
     "metadata": {},
     "output_type": "display_data"
    },
    {
     "data": {
      "application/json": {
       "ascii": false,
       "bar_format": null,
       "colour": null,
       "elapsed": 0.013977527618408203,
       "initial": 0,
       "n": 0,
       "ncols": null,
       "nrows": 29,
       "postfix": null,
       "prefix": "",
       "rate": null,
       "total": 51,
       "unit": "it",
       "unit_divisor": 1000,
       "unit_scale": false
      },
      "application/vnd.jupyter.widget-view+json": {
       "model_id": "a0803f823b6f417fb11e35eef35e396e",
       "version_major": 2,
       "version_minor": 0
      },
      "text/plain": [
       "  0%|          | 0/51 [00:00<?, ?it/s]"
      ]
     },
     "metadata": {},
     "output_type": "display_data"
    },
    {
     "data": {
      "application/json": {
       "ascii": false,
       "bar_format": null,
       "colour": null,
       "elapsed": 0.014960765838623047,
       "initial": 0,
       "n": 0,
       "ncols": null,
       "nrows": 29,
       "postfix": null,
       "prefix": "",
       "rate": null,
       "total": 51,
       "unit": "it",
       "unit_divisor": 1000,
       "unit_scale": false
      },
      "application/vnd.jupyter.widget-view+json": {
       "model_id": "0b0e1f6853d64113b7568b75b3e84003",
       "version_major": 2,
       "version_minor": 0
      },
      "text/plain": [
       "  0%|          | 0/51 [00:00<?, ?it/s]"
      ]
     },
     "metadata": {},
     "output_type": "display_data"
    },
    {
     "data": {
      "application/json": {
       "ascii": false,
       "bar_format": null,
       "colour": null,
       "elapsed": 0.012967824935913086,
       "initial": 0,
       "n": 0,
       "ncols": null,
       "nrows": 29,
       "postfix": null,
       "prefix": "",
       "rate": null,
       "total": 51,
       "unit": "it",
       "unit_divisor": 1000,
       "unit_scale": false
      },
      "application/vnd.jupyter.widget-view+json": {
       "model_id": "93dbcd4a971a419989c909f6b22a6b50",
       "version_major": 2,
       "version_minor": 0
      },
      "text/plain": [
       "  0%|          | 0/51 [00:00<?, ?it/s]"
      ]
     },
     "metadata": {},
     "output_type": "display_data"
    },
    {
     "data": {
      "application/json": {
       "ascii": false,
       "bar_format": null,
       "colour": null,
       "elapsed": 0.014959096908569336,
       "initial": 0,
       "n": 0,
       "ncols": null,
       "nrows": 29,
       "postfix": null,
       "prefix": "",
       "rate": null,
       "total": 51,
       "unit": "it",
       "unit_divisor": 1000,
       "unit_scale": false
      },
      "application/vnd.jupyter.widget-view+json": {
       "model_id": "22a29f8b50b94a73a70194155d9f986d",
       "version_major": 2,
       "version_minor": 0
      },
      "text/plain": [
       "  0%|          | 0/51 [00:00<?, ?it/s]"
      ]
     },
     "metadata": {},
     "output_type": "display_data"
    },
    {
     "data": {
      "application/json": {
       "ascii": false,
       "bar_format": null,
       "colour": null,
       "elapsed": 0.014959573745727539,
       "initial": 0,
       "n": 0,
       "ncols": null,
       "nrows": 29,
       "postfix": null,
       "prefix": "",
       "rate": null,
       "total": 51,
       "unit": "it",
       "unit_divisor": 1000,
       "unit_scale": false
      },
      "application/vnd.jupyter.widget-view+json": {
       "model_id": "e50df46ebb3b4a04abda209cfab0e770",
       "version_major": 2,
       "version_minor": 0
      },
      "text/plain": [
       "  0%|          | 0/51 [00:00<?, ?it/s]"
      ]
     },
     "metadata": {},
     "output_type": "display_data"
    },
    {
     "data": {
      "application/json": {
       "ascii": false,
       "bar_format": null,
       "colour": null,
       "elapsed": 0.014962911605834961,
       "initial": 0,
       "n": 0,
       "ncols": null,
       "nrows": 29,
       "postfix": null,
       "prefix": "",
       "rate": null,
       "total": 51,
       "unit": "it",
       "unit_divisor": 1000,
       "unit_scale": false
      },
      "application/vnd.jupyter.widget-view+json": {
       "model_id": "767c953851fb4d168a1924c31417b4e0",
       "version_major": 2,
       "version_minor": 0
      },
      "text/plain": [
       "  0%|          | 0/51 [00:00<?, ?it/s]"
      ]
     },
     "metadata": {},
     "output_type": "display_data"
    },
    {
     "data": {
      "application/json": {
       "ascii": false,
       "bar_format": null,
       "colour": null,
       "elapsed": 0.016955137252807617,
       "initial": 0,
       "n": 0,
       "ncols": null,
       "nrows": 29,
       "postfix": null,
       "prefix": "",
       "rate": null,
       "total": 51,
       "unit": "it",
       "unit_divisor": 1000,
       "unit_scale": false
      },
      "application/vnd.jupyter.widget-view+json": {
       "model_id": "eb52ad7d5128499399fd633b4af90f34",
       "version_major": 2,
       "version_minor": 0
      },
      "text/plain": [
       "  0%|          | 0/51 [00:00<?, ?it/s]"
      ]
     },
     "metadata": {},
     "output_type": "display_data"
    },
    {
     "data": {
      "application/json": {
       "ascii": false,
       "bar_format": null,
       "colour": null,
       "elapsed": 0.01795196533203125,
       "initial": 0,
       "n": 0,
       "ncols": null,
       "nrows": 29,
       "postfix": null,
       "prefix": "",
       "rate": null,
       "total": 51,
       "unit": "it",
       "unit_divisor": 1000,
       "unit_scale": false
      },
      "application/vnd.jupyter.widget-view+json": {
       "model_id": "d2a22626aa4a42ac8d4cfc9dfacde6d5",
       "version_major": 2,
       "version_minor": 0
      },
      "text/plain": [
       "  0%|          | 0/51 [00:00<?, ?it/s]"
      ]
     },
     "metadata": {},
     "output_type": "display_data"
    },
    {
     "data": {
      "application/json": {
       "ascii": false,
       "bar_format": null,
       "colour": null,
       "elapsed": 0.014992237091064453,
       "initial": 0,
       "n": 0,
       "ncols": null,
       "nrows": 29,
       "postfix": null,
       "prefix": "",
       "rate": null,
       "total": 51,
       "unit": "it",
       "unit_divisor": 1000,
       "unit_scale": false
      },
      "application/vnd.jupyter.widget-view+json": {
       "model_id": "a37fef25a77c47f8b94096ce0e79d539",
       "version_major": 2,
       "version_minor": 0
      },
      "text/plain": [
       "  0%|          | 0/51 [00:00<?, ?it/s]"
      ]
     },
     "metadata": {},
     "output_type": "display_data"
    },
    {
     "data": {
      "application/json": {
       "ascii": false,
       "bar_format": null,
       "colour": null,
       "elapsed": 0.014960050582885742,
       "initial": 0,
       "n": 0,
       "ncols": null,
       "nrows": 29,
       "postfix": null,
       "prefix": "",
       "rate": null,
       "total": 51,
       "unit": "it",
       "unit_divisor": 1000,
       "unit_scale": false
      },
      "application/vnd.jupyter.widget-view+json": {
       "model_id": "2419c009b7eb47a289712ecc3faa8402",
       "version_major": 2,
       "version_minor": 0
      },
      "text/plain": [
       "  0%|          | 0/51 [00:00<?, ?it/s]"
      ]
     },
     "metadata": {},
     "output_type": "display_data"
    },
    {
     "data": {
      "application/json": {
       "ascii": false,
       "bar_format": null,
       "colour": null,
       "elapsed": 0.012997865676879883,
       "initial": 0,
       "n": 0,
       "ncols": null,
       "nrows": 29,
       "postfix": null,
       "prefix": "",
       "rate": null,
       "total": 51,
       "unit": "it",
       "unit_divisor": 1000,
       "unit_scale": false
      },
      "application/vnd.jupyter.widget-view+json": {
       "model_id": "9c4aac8979e649f596e80e69b67ae7f4",
       "version_major": 2,
       "version_minor": 0
      },
      "text/plain": [
       "  0%|          | 0/51 [00:00<?, ?it/s]"
      ]
     },
     "metadata": {},
     "output_type": "display_data"
    },
    {
     "data": {
      "application/json": {
       "ascii": false,
       "bar_format": null,
       "colour": null,
       "elapsed": 0.012965917587280273,
       "initial": 0,
       "n": 0,
       "ncols": null,
       "nrows": 29,
       "postfix": null,
       "prefix": "",
       "rate": null,
       "total": 51,
       "unit": "it",
       "unit_divisor": 1000,
       "unit_scale": false
      },
      "application/vnd.jupyter.widget-view+json": {
       "model_id": "6cfe97931b3f4b7daf952a99772fb474",
       "version_major": 2,
       "version_minor": 0
      },
      "text/plain": [
       "  0%|          | 0/51 [00:00<?, ?it/s]"
      ]
     },
     "metadata": {},
     "output_type": "display_data"
    },
    {
     "data": {
      "application/json": {
       "ascii": false,
       "bar_format": null,
       "colour": null,
       "elapsed": 0.013949871063232422,
       "initial": 0,
       "n": 0,
       "ncols": null,
       "nrows": 29,
       "postfix": null,
       "prefix": "",
       "rate": null,
       "total": 51,
       "unit": "it",
       "unit_divisor": 1000,
       "unit_scale": false
      },
      "application/vnd.jupyter.widget-view+json": {
       "model_id": "269c492b78a84ee1800df1406c4e7f6e",
       "version_major": 2,
       "version_minor": 0
      },
      "text/plain": [
       "  0%|          | 0/51 [00:00<?, ?it/s]"
      ]
     },
     "metadata": {},
     "output_type": "display_data"
    },
    {
     "data": {
      "application/json": {
       "ascii": false,
       "bar_format": null,
       "colour": null,
       "elapsed": 0.012968063354492188,
       "initial": 0,
       "n": 0,
       "ncols": null,
       "nrows": 29,
       "postfix": null,
       "prefix": "",
       "rate": null,
       "total": 51,
       "unit": "it",
       "unit_divisor": 1000,
       "unit_scale": false
      },
      "application/vnd.jupyter.widget-view+json": {
       "model_id": "3a5922b3eec84ff1bce1a52ec026cc2d",
       "version_major": 2,
       "version_minor": 0
      },
      "text/plain": [
       "  0%|          | 0/51 [00:00<?, ?it/s]"
      ]
     },
     "metadata": {},
     "output_type": "display_data"
    },
    {
     "data": {
      "application/json": {
       "ascii": false,
       "bar_format": null,
       "colour": null,
       "elapsed": 0.014960050582885742,
       "initial": 0,
       "n": 0,
       "ncols": null,
       "nrows": 29,
       "postfix": null,
       "prefix": "",
       "rate": null,
       "total": 51,
       "unit": "it",
       "unit_divisor": 1000,
       "unit_scale": false
      },
      "application/vnd.jupyter.widget-view+json": {
       "model_id": "af1d5e82280741d18d6dad06746a14aa",
       "version_major": 2,
       "version_minor": 0
      },
      "text/plain": [
       "  0%|          | 0/51 [00:00<?, ?it/s]"
      ]
     },
     "metadata": {},
     "output_type": "display_data"
    },
    {
     "data": {
      "application/json": {
       "ascii": false,
       "bar_format": null,
       "colour": null,
       "elapsed": 0.014990806579589844,
       "initial": 0,
       "n": 0,
       "ncols": null,
       "nrows": 29,
       "postfix": null,
       "prefix": "",
       "rate": null,
       "total": 51,
       "unit": "it",
       "unit_divisor": 1000,
       "unit_scale": false
      },
      "application/vnd.jupyter.widget-view+json": {
       "model_id": "7cf1ac4efcfc4ab4ba881a77b63888d8",
       "version_major": 2,
       "version_minor": 0
      },
      "text/plain": [
       "  0%|          | 0/51 [00:00<?, ?it/s]"
      ]
     },
     "metadata": {},
     "output_type": "display_data"
    },
    {
     "data": {
      "application/json": {
       "ascii": false,
       "bar_format": null,
       "colour": null,
       "elapsed": 0.013962745666503906,
       "initial": 0,
       "n": 0,
       "ncols": null,
       "nrows": 29,
       "postfix": null,
       "prefix": "",
       "rate": null,
       "total": 51,
       "unit": "it",
       "unit_divisor": 1000,
       "unit_scale": false
      },
      "application/vnd.jupyter.widget-view+json": {
       "model_id": "fc671da98ff8417a955d9e4bc43badc2",
       "version_major": 2,
       "version_minor": 0
      },
      "text/plain": [
       "  0%|          | 0/51 [00:00<?, ?it/s]"
      ]
     },
     "metadata": {},
     "output_type": "display_data"
    },
    {
     "data": {
      "application/json": {
       "ascii": false,
       "bar_format": null,
       "colour": null,
       "elapsed": 0.014962434768676758,
       "initial": 0,
       "n": 0,
       "ncols": null,
       "nrows": 29,
       "postfix": null,
       "prefix": "",
       "rate": null,
       "total": 51,
       "unit": "it",
       "unit_divisor": 1000,
       "unit_scale": false
      },
      "application/vnd.jupyter.widget-view+json": {
       "model_id": "aa1961e709604e8990198e7c34387d83",
       "version_major": 2,
       "version_minor": 0
      },
      "text/plain": [
       "  0%|          | 0/51 [00:00<?, ?it/s]"
      ]
     },
     "metadata": {},
     "output_type": "display_data"
    },
    {
     "name": "stderr",
     "output_type": "stream",
     "text": [
      "Potential NSFW content was detected in one or more images. A black image will be returned instead. Try again with a different prompt and/or seed.\n"
     ]
    },
    {
     "data": {
      "application/json": {
       "ascii": false,
       "bar_format": null,
       "colour": null,
       "elapsed": 0.014960289001464844,
       "initial": 0,
       "n": 0,
       "ncols": null,
       "nrows": 29,
       "postfix": null,
       "prefix": "",
       "rate": null,
       "total": 51,
       "unit": "it",
       "unit_divisor": 1000,
       "unit_scale": false
      },
      "application/vnd.jupyter.widget-view+json": {
       "model_id": "c396a0cd18954a44b4da1bf9a4513aa7",
       "version_major": 2,
       "version_minor": 0
      },
      "text/plain": [
       "  0%|          | 0/51 [00:00<?, ?it/s]"
      ]
     },
     "metadata": {},
     "output_type": "display_data"
    },
    {
     "data": {
      "application/json": {
       "ascii": false,
       "bar_format": null,
       "colour": null,
       "elapsed": 0.01399540901184082,
       "initial": 0,
       "n": 0,
       "ncols": null,
       "nrows": 29,
       "postfix": null,
       "prefix": "",
       "rate": null,
       "total": 51,
       "unit": "it",
       "unit_divisor": 1000,
       "unit_scale": false
      },
      "application/vnd.jupyter.widget-view+json": {
       "model_id": "dbc406d58c4944908e074b021b466555",
       "version_major": 2,
       "version_minor": 0
      },
      "text/plain": [
       "  0%|          | 0/51 [00:00<?, ?it/s]"
      ]
     },
     "metadata": {},
     "output_type": "display_data"
    },
    {
     "data": {
      "application/json": {
       "ascii": false,
       "bar_format": null,
       "colour": null,
       "elapsed": 0.01495981216430664,
       "initial": 0,
       "n": 0,
       "ncols": null,
       "nrows": 29,
       "postfix": null,
       "prefix": "",
       "rate": null,
       "total": 51,
       "unit": "it",
       "unit_divisor": 1000,
       "unit_scale": false
      },
      "application/vnd.jupyter.widget-view+json": {
       "model_id": "815a5e2ae5b14b658603e0bff1f36585",
       "version_major": 2,
       "version_minor": 0
      },
      "text/plain": [
       "  0%|          | 0/51 [00:00<?, ?it/s]"
      ]
     },
     "metadata": {},
     "output_type": "display_data"
    },
    {
     "data": {
      "application/json": {
       "ascii": false,
       "bar_format": null,
       "colour": null,
       "elapsed": 0.013962507247924805,
       "initial": 0,
       "n": 0,
       "ncols": null,
       "nrows": 29,
       "postfix": null,
       "prefix": "",
       "rate": null,
       "total": 51,
       "unit": "it",
       "unit_divisor": 1000,
       "unit_scale": false
      },
      "application/vnd.jupyter.widget-view+json": {
       "model_id": "6b5242fb39624bab82a59648404367a1",
       "version_major": 2,
       "version_minor": 0
      },
      "text/plain": [
       "  0%|          | 0/51 [00:00<?, ?it/s]"
      ]
     },
     "metadata": {},
     "output_type": "display_data"
    },
    {
     "data": {
      "application/json": {
       "ascii": false,
       "bar_format": null,
       "colour": null,
       "elapsed": 0.013962507247924805,
       "initial": 0,
       "n": 0,
       "ncols": null,
       "nrows": 29,
       "postfix": null,
       "prefix": "",
       "rate": null,
       "total": 51,
       "unit": "it",
       "unit_divisor": 1000,
       "unit_scale": false
      },
      "application/vnd.jupyter.widget-view+json": {
       "model_id": "5b93592314544a56a49ff6704a6d4b2e",
       "version_major": 2,
       "version_minor": 0
      },
      "text/plain": [
       "  0%|          | 0/51 [00:00<?, ?it/s]"
      ]
     },
     "metadata": {},
     "output_type": "display_data"
    },
    {
     "data": {
      "application/json": {
       "ascii": false,
       "bar_format": null,
       "colour": null,
       "elapsed": 0.012996435165405273,
       "initial": 0,
       "n": 0,
       "ncols": null,
       "nrows": 29,
       "postfix": null,
       "prefix": "",
       "rate": null,
       "total": 51,
       "unit": "it",
       "unit_divisor": 1000,
       "unit_scale": false
      },
      "application/vnd.jupyter.widget-view+json": {
       "model_id": "2d23e83bc28441a49c99735d1e59aa81",
       "version_major": 2,
       "version_minor": 0
      },
      "text/plain": [
       "  0%|          | 0/51 [00:00<?, ?it/s]"
      ]
     },
     "metadata": {},
     "output_type": "display_data"
    },
    {
     "data": {
      "application/json": {
       "ascii": false,
       "bar_format": null,
       "colour": null,
       "elapsed": 0.013964653015136719,
       "initial": 0,
       "n": 0,
       "ncols": null,
       "nrows": 29,
       "postfix": null,
       "prefix": "",
       "rate": null,
       "total": 51,
       "unit": "it",
       "unit_divisor": 1000,
       "unit_scale": false
      },
      "application/vnd.jupyter.widget-view+json": {
       "model_id": "5d42579dfcf0458fba137cbd8c305e92",
       "version_major": 2,
       "version_minor": 0
      },
      "text/plain": [
       "  0%|          | 0/51 [00:00<?, ?it/s]"
      ]
     },
     "metadata": {},
     "output_type": "display_data"
    },
    {
     "data": {
      "application/json": {
       "ascii": false,
       "bar_format": null,
       "colour": null,
       "elapsed": 0.014960765838623047,
       "initial": 0,
       "n": 0,
       "ncols": null,
       "nrows": 29,
       "postfix": null,
       "prefix": "",
       "rate": null,
       "total": 51,
       "unit": "it",
       "unit_divisor": 1000,
       "unit_scale": false
      },
      "application/vnd.jupyter.widget-view+json": {
       "model_id": "ead50a58dca9433f86292202f02d1c9c",
       "version_major": 2,
       "version_minor": 0
      },
      "text/plain": [
       "  0%|          | 0/51 [00:00<?, ?it/s]"
      ]
     },
     "metadata": {},
     "output_type": "display_data"
    },
    {
     "data": {
      "application/json": {
       "ascii": false,
       "bar_format": null,
       "colour": null,
       "elapsed": 0.01495981216430664,
       "initial": 0,
       "n": 0,
       "ncols": null,
       "nrows": 29,
       "postfix": null,
       "prefix": "",
       "rate": null,
       "total": 51,
       "unit": "it",
       "unit_divisor": 1000,
       "unit_scale": false
      },
      "application/vnd.jupyter.widget-view+json": {
       "model_id": "58b9d9b9c1b248bd9eae1e88e48bc3b1",
       "version_major": 2,
       "version_minor": 0
      },
      "text/plain": [
       "  0%|          | 0/51 [00:00<?, ?it/s]"
      ]
     },
     "metadata": {},
     "output_type": "display_data"
    },
    {
     "name": "stderr",
     "output_type": "stream",
     "text": [
      "Potential NSFW content was detected in one or more images. A black image will be returned instead. Try again with a different prompt and/or seed.\n"
     ]
    },
    {
     "data": {
      "application/json": {
       "ascii": false,
       "bar_format": null,
       "colour": null,
       "elapsed": 0.014959335327148438,
       "initial": 0,
       "n": 0,
       "ncols": null,
       "nrows": 29,
       "postfix": null,
       "prefix": "",
       "rate": null,
       "total": 51,
       "unit": "it",
       "unit_divisor": 1000,
       "unit_scale": false
      },
      "application/vnd.jupyter.widget-view+json": {
       "model_id": "418dfae983b94995bf9d667731c667a0",
       "version_major": 2,
       "version_minor": 0
      },
      "text/plain": [
       "  0%|          | 0/51 [00:00<?, ?it/s]"
      ]
     },
     "metadata": {},
     "output_type": "display_data"
    },
    {
     "data": {
      "application/json": {
       "ascii": false,
       "bar_format": null,
       "colour": null,
       "elapsed": 0.014954566955566406,
       "initial": 0,
       "n": 0,
       "ncols": null,
       "nrows": 29,
       "postfix": null,
       "prefix": "",
       "rate": null,
       "total": 51,
       "unit": "it",
       "unit_divisor": 1000,
       "unit_scale": false
      },
      "application/vnd.jupyter.widget-view+json": {
       "model_id": "50d00c9ced28484f83a29b38f9cd7cf1",
       "version_major": 2,
       "version_minor": 0
      },
      "text/plain": [
       "  0%|          | 0/51 [00:00<?, ?it/s]"
      ]
     },
     "metadata": {},
     "output_type": "display_data"
    },
    {
     "data": {
      "application/json": {
       "ascii": false,
       "bar_format": null,
       "colour": null,
       "elapsed": 0.014960289001464844,
       "initial": 0,
       "n": 0,
       "ncols": null,
       "nrows": 29,
       "postfix": null,
       "prefix": "",
       "rate": null,
       "total": 51,
       "unit": "it",
       "unit_divisor": 1000,
       "unit_scale": false
      },
      "application/vnd.jupyter.widget-view+json": {
       "model_id": "307f383b50e14e059c04d34c23736b32",
       "version_major": 2,
       "version_minor": 0
      },
      "text/plain": [
       "  0%|          | 0/51 [00:00<?, ?it/s]"
      ]
     },
     "metadata": {},
     "output_type": "display_data"
    },
    {
     "data": {
      "application/json": {
       "ascii": false,
       "bar_format": null,
       "colour": null,
       "elapsed": 0.014959335327148438,
       "initial": 0,
       "n": 0,
       "ncols": null,
       "nrows": 29,
       "postfix": null,
       "prefix": "",
       "rate": null,
       "total": 51,
       "unit": "it",
       "unit_divisor": 1000,
       "unit_scale": false
      },
      "application/vnd.jupyter.widget-view+json": {
       "model_id": "63183912e9a64483966c748170860e43",
       "version_major": 2,
       "version_minor": 0
      },
      "text/plain": [
       "  0%|          | 0/51 [00:00<?, ?it/s]"
      ]
     },
     "metadata": {},
     "output_type": "display_data"
    },
    {
     "data": {
      "application/json": {
       "ascii": false,
       "bar_format": null,
       "colour": null,
       "elapsed": 0.014954090118408203,
       "initial": 0,
       "n": 0,
       "ncols": null,
       "nrows": 29,
       "postfix": null,
       "prefix": "",
       "rate": null,
       "total": 51,
       "unit": "it",
       "unit_divisor": 1000,
       "unit_scale": false
      },
      "application/vnd.jupyter.widget-view+json": {
       "model_id": "e8b49a41309d4f44a605dfbb5435ec2f",
       "version_major": 2,
       "version_minor": 0
      },
      "text/plain": [
       "  0%|          | 0/51 [00:00<?, ?it/s]"
      ]
     },
     "metadata": {},
     "output_type": "display_data"
    },
    {
     "name": "stderr",
     "output_type": "stream",
     "text": [
      "Potential NSFW content was detected in one or more images. A black image will be returned instead. Try again with a different prompt and/or seed.\n"
     ]
    },
    {
     "data": {
      "application/json": {
       "ascii": false,
       "bar_format": null,
       "colour": null,
       "elapsed": 0.01695394515991211,
       "initial": 0,
       "n": 0,
       "ncols": null,
       "nrows": 29,
       "postfix": null,
       "prefix": "",
       "rate": null,
       "total": 51,
       "unit": "it",
       "unit_divisor": 1000,
       "unit_scale": false
      },
      "application/vnd.jupyter.widget-view+json": {
       "model_id": "e11e0132c3c949e78560165f8ec2cb36",
       "version_major": 2,
       "version_minor": 0
      },
      "text/plain": [
       "  0%|          | 0/51 [00:00<?, ?it/s]"
      ]
     },
     "metadata": {},
     "output_type": "display_data"
    },
    {
     "data": {
      "application/json": {
       "ascii": false,
       "bar_format": null,
       "colour": null,
       "elapsed": 0.01595783233642578,
       "initial": 0,
       "n": 0,
       "ncols": null,
       "nrows": 29,
       "postfix": null,
       "prefix": "",
       "rate": null,
       "total": 51,
       "unit": "it",
       "unit_divisor": 1000,
       "unit_scale": false
      },
      "application/vnd.jupyter.widget-view+json": {
       "model_id": "cdc1d4116d174358aa2e2b35e09fac40",
       "version_major": 2,
       "version_minor": 0
      },
      "text/plain": [
       "  0%|          | 0/51 [00:00<?, ?it/s]"
      ]
     },
     "metadata": {},
     "output_type": "display_data"
    },
    {
     "data": {
      "application/json": {
       "ascii": false,
       "bar_format": null,
       "colour": null,
       "elapsed": 0.017952919006347656,
       "initial": 0,
       "n": 0,
       "ncols": null,
       "nrows": 29,
       "postfix": null,
       "prefix": "",
       "rate": null,
       "total": 51,
       "unit": "it",
       "unit_divisor": 1000,
       "unit_scale": false
      },
      "application/vnd.jupyter.widget-view+json": {
       "model_id": "8842d33cccac47bbaa2eeb8cf81a4483",
       "version_major": 2,
       "version_minor": 0
      },
      "text/plain": [
       "  0%|          | 0/51 [00:00<?, ?it/s]"
      ]
     },
     "metadata": {},
     "output_type": "display_data"
    },
    {
     "data": {
      "application/json": {
       "ascii": false,
       "bar_format": null,
       "colour": null,
       "elapsed": 0.015957355499267578,
       "initial": 0,
       "n": 0,
       "ncols": null,
       "nrows": 29,
       "postfix": null,
       "prefix": "",
       "rate": null,
       "total": 51,
       "unit": "it",
       "unit_divisor": 1000,
       "unit_scale": false
      },
      "application/vnd.jupyter.widget-view+json": {
       "model_id": "64c29819f53b4a2289dbd14ae1458e14",
       "version_major": 2,
       "version_minor": 0
      },
      "text/plain": [
       "  0%|          | 0/51 [00:00<?, ?it/s]"
      ]
     },
     "metadata": {},
     "output_type": "display_data"
    },
    {
     "data": {
      "application/json": {
       "ascii": false,
       "bar_format": null,
       "colour": null,
       "elapsed": 0.01495981216430664,
       "initial": 0,
       "n": 0,
       "ncols": null,
       "nrows": 29,
       "postfix": null,
       "prefix": "",
       "rate": null,
       "total": 51,
       "unit": "it",
       "unit_divisor": 1000,
       "unit_scale": false
      },
      "application/vnd.jupyter.widget-view+json": {
       "model_id": "638f43ae2a3b44129dc74b416245e5e0",
       "version_major": 2,
       "version_minor": 0
      },
      "text/plain": [
       "  0%|          | 0/51 [00:00<?, ?it/s]"
      ]
     },
     "metadata": {},
     "output_type": "display_data"
    },
    {
     "data": {
      "application/json": {
       "ascii": false,
       "bar_format": null,
       "colour": null,
       "elapsed": 0.013962984085083008,
       "initial": 0,
       "n": 0,
       "ncols": null,
       "nrows": 29,
       "postfix": null,
       "prefix": "",
       "rate": null,
       "total": 51,
       "unit": "it",
       "unit_divisor": 1000,
       "unit_scale": false
      },
      "application/vnd.jupyter.widget-view+json": {
       "model_id": "f80a6a78c612413296d39b1b9c2c59e9",
       "version_major": 2,
       "version_minor": 0
      },
      "text/plain": [
       "  0%|          | 0/51 [00:00<?, ?it/s]"
      ]
     },
     "metadata": {},
     "output_type": "display_data"
    },
    {
     "data": {
      "application/json": {
       "ascii": false,
       "bar_format": null,
       "colour": null,
       "elapsed": 0.013962745666503906,
       "initial": 0,
       "n": 0,
       "ncols": null,
       "nrows": 29,
       "postfix": null,
       "prefix": "",
       "rate": null,
       "total": 51,
       "unit": "it",
       "unit_divisor": 1000,
       "unit_scale": false
      },
      "application/vnd.jupyter.widget-view+json": {
       "model_id": "0c0ca6b1ae294ce58b280af860f32e84",
       "version_major": 2,
       "version_minor": 0
      },
      "text/plain": [
       "  0%|          | 0/51 [00:00<?, ?it/s]"
      ]
     },
     "metadata": {},
     "output_type": "display_data"
    },
    {
     "data": {
      "application/json": {
       "ascii": false,
       "bar_format": null,
       "colour": null,
       "elapsed": 0.015002250671386719,
       "initial": 0,
       "n": 0,
       "ncols": null,
       "nrows": 29,
       "postfix": null,
       "prefix": "",
       "rate": null,
       "total": 51,
       "unit": "it",
       "unit_divisor": 1000,
       "unit_scale": false
      },
      "application/vnd.jupyter.widget-view+json": {
       "model_id": "d11654fc4fc84a249a0b87a1f95c714e",
       "version_major": 2,
       "version_minor": 0
      },
      "text/plain": [
       "  0%|          | 0/51 [00:00<?, ?it/s]"
      ]
     },
     "metadata": {},
     "output_type": "display_data"
    },
    {
     "name": "stderr",
     "output_type": "stream",
     "text": [
      "\n",
      "KeyboardInterrupt\n",
      "\n"
     ]
    }
   ],
   "source": [
    "from itertools import product\n",
    "\n",
    "text='a man and a woman hugging in the sky, by Cyril Rolando, flowing blue hair, shining crescent moon, charli bowater and artgeem, standing in moonlight, libra, characters merged, dating app icon, water is made of stardust, high detailed drawing, low angel, holding gift, fairy cgsociety, desenho'\n",
    "texts=text.split(',')\n",
    "\n",
    "result=[];\n",
    "\n",
    "res = list(product(texts,texts))\n",
    "\n",
    "#二阶\n",
    "for r in res:\n",
    "    if r[0]!=r[1]:\n",
    "        result.append(\",\".join(r))\n",
    "        \n",
    "#三阶\n",
    "res = list(product(texts,texts,texts))\n",
    "for rs in res:\n",
    "    nr={}\n",
    "    for r in rs:\n",
    "        nr[r]=1\n",
    "    if len(nr.keys())==3:\n",
    "        result.append(\",\".join(rs))\n",
    "        \n",
    "import hashlib\n",
    "pn='images/'+hashlib.md5(text).hexdigest()\n",
    "os.mkdir(pn)\n",
    "for i in result:\n",
    "    images=sd_zh_pipe(i, guidance_scale=10.0,num_images_per_prompt=1).images\n",
    "    name=str(i)+'.png'\n",
    "    images[0].save(pn+'/'+name)"
   ]
  },
  {
   "cell_type": "code",
   "execution_count": 7,
   "id": "79fa7a55",
   "metadata": {},
   "outputs": [
    {
     "data": {
      "text/plain": [
       "[('a man and a woman hugging in the sky',\n",
       "  'a man and a woman hugging in the sky'),\n",
       " ('a man and a woman hugging in the sky', ' by Cyril Rolando'),\n",
       " ('a man and a woman hugging in the sky', ' flowing blue hair'),\n",
       " ('a man and a woman hugging in the sky', ' shining crescent moon'),\n",
       " ('a man and a woman hugging in the sky', ' charli bowater and artgeem'),\n",
       " ('a man and a woman hugging in the sky', ' standing in moonlight'),\n",
       " ('a man and a woman hugging in the sky', ' libra'),\n",
       " ('a man and a woman hugging in the sky', ' characters merged'),\n",
       " ('a man and a woman hugging in the sky', ' dating app icon'),\n",
       " ('a man and a woman hugging in the sky', ' water is made of stardust'),\n",
       " ('a man and a woman hugging in the sky', ' high detailed drawing'),\n",
       " ('a man and a woman hugging in the sky', ' low angel'),\n",
       " ('a man and a woman hugging in the sky', ' holding gift'),\n",
       " ('a man and a woman hugging in the sky', ' fairy cgsociety'),\n",
       " ('a man and a woman hugging in the sky', ' desenho'),\n",
       " (' by Cyril Rolando', 'a man and a woman hugging in the sky'),\n",
       " (' by Cyril Rolando', ' by Cyril Rolando'),\n",
       " (' by Cyril Rolando', ' flowing blue hair'),\n",
       " (' by Cyril Rolando', ' shining crescent moon'),\n",
       " (' by Cyril Rolando', ' charli bowater and artgeem'),\n",
       " (' by Cyril Rolando', ' standing in moonlight'),\n",
       " (' by Cyril Rolando', ' libra'),\n",
       " (' by Cyril Rolando', ' characters merged'),\n",
       " (' by Cyril Rolando', ' dating app icon'),\n",
       " (' by Cyril Rolando', ' water is made of stardust'),\n",
       " (' by Cyril Rolando', ' high detailed drawing'),\n",
       " (' by Cyril Rolando', ' low angel'),\n",
       " (' by Cyril Rolando', ' holding gift'),\n",
       " (' by Cyril Rolando', ' fairy cgsociety'),\n",
       " (' by Cyril Rolando', ' desenho'),\n",
       " (' flowing blue hair', 'a man and a woman hugging in the sky'),\n",
       " (' flowing blue hair', ' by Cyril Rolando'),\n",
       " (' flowing blue hair', ' flowing blue hair'),\n",
       " (' flowing blue hair', ' shining crescent moon'),\n",
       " (' flowing blue hair', ' charli bowater and artgeem'),\n",
       " (' flowing blue hair', ' standing in moonlight'),\n",
       " (' flowing blue hair', ' libra'),\n",
       " (' flowing blue hair', ' characters merged'),\n",
       " (' flowing blue hair', ' dating app icon'),\n",
       " (' flowing blue hair', ' water is made of stardust'),\n",
       " (' flowing blue hair', ' high detailed drawing'),\n",
       " (' flowing blue hair', ' low angel'),\n",
       " (' flowing blue hair', ' holding gift'),\n",
       " (' flowing blue hair', ' fairy cgsociety'),\n",
       " (' flowing blue hair', ' desenho'),\n",
       " (' shining crescent moon', 'a man and a woman hugging in the sky'),\n",
       " (' shining crescent moon', ' by Cyril Rolando'),\n",
       " (' shining crescent moon', ' flowing blue hair'),\n",
       " (' shining crescent moon', ' shining crescent moon'),\n",
       " (' shining crescent moon', ' charli bowater and artgeem'),\n",
       " (' shining crescent moon', ' standing in moonlight'),\n",
       " (' shining crescent moon', ' libra'),\n",
       " (' shining crescent moon', ' characters merged'),\n",
       " (' shining crescent moon', ' dating app icon'),\n",
       " (' shining crescent moon', ' water is made of stardust'),\n",
       " (' shining crescent moon', ' high detailed drawing'),\n",
       " (' shining crescent moon', ' low angel'),\n",
       " (' shining crescent moon', ' holding gift'),\n",
       " (' shining crescent moon', ' fairy cgsociety'),\n",
       " (' shining crescent moon', ' desenho'),\n",
       " (' charli bowater and artgeem', 'a man and a woman hugging in the sky'),\n",
       " (' charli bowater and artgeem', ' by Cyril Rolando'),\n",
       " (' charli bowater and artgeem', ' flowing blue hair'),\n",
       " (' charli bowater and artgeem', ' shining crescent moon'),\n",
       " (' charli bowater and artgeem', ' charli bowater and artgeem'),\n",
       " (' charli bowater and artgeem', ' standing in moonlight'),\n",
       " (' charli bowater and artgeem', ' libra'),\n",
       " (' charli bowater and artgeem', ' characters merged'),\n",
       " (' charli bowater and artgeem', ' dating app icon'),\n",
       " (' charli bowater and artgeem', ' water is made of stardust'),\n",
       " (' charli bowater and artgeem', ' high detailed drawing'),\n",
       " (' charli bowater and artgeem', ' low angel'),\n",
       " (' charli bowater and artgeem', ' holding gift'),\n",
       " (' charli bowater and artgeem', ' fairy cgsociety'),\n",
       " (' charli bowater and artgeem', ' desenho'),\n",
       " (' standing in moonlight', 'a man and a woman hugging in the sky'),\n",
       " (' standing in moonlight', ' by Cyril Rolando'),\n",
       " (' standing in moonlight', ' flowing blue hair'),\n",
       " (' standing in moonlight', ' shining crescent moon'),\n",
       " (' standing in moonlight', ' charli bowater and artgeem'),\n",
       " (' standing in moonlight', ' standing in moonlight'),\n",
       " (' standing in moonlight', ' libra'),\n",
       " (' standing in moonlight', ' characters merged'),\n",
       " (' standing in moonlight', ' dating app icon'),\n",
       " (' standing in moonlight', ' water is made of stardust'),\n",
       " (' standing in moonlight', ' high detailed drawing'),\n",
       " (' standing in moonlight', ' low angel'),\n",
       " (' standing in moonlight', ' holding gift'),\n",
       " (' standing in moonlight', ' fairy cgsociety'),\n",
       " (' standing in moonlight', ' desenho'),\n",
       " (' libra', 'a man and a woman hugging in the sky'),\n",
       " (' libra', ' by Cyril Rolando'),\n",
       " (' libra', ' flowing blue hair'),\n",
       " (' libra', ' shining crescent moon'),\n",
       " (' libra', ' charli bowater and artgeem'),\n",
       " (' libra', ' standing in moonlight'),\n",
       " (' libra', ' libra'),\n",
       " (' libra', ' characters merged'),\n",
       " (' libra', ' dating app icon'),\n",
       " (' libra', ' water is made of stardust'),\n",
       " (' libra', ' high detailed drawing'),\n",
       " (' libra', ' low angel'),\n",
       " (' libra', ' holding gift'),\n",
       " (' libra', ' fairy cgsociety'),\n",
       " (' libra', ' desenho'),\n",
       " (' characters merged', 'a man and a woman hugging in the sky'),\n",
       " (' characters merged', ' by Cyril Rolando'),\n",
       " (' characters merged', ' flowing blue hair'),\n",
       " (' characters merged', ' shining crescent moon'),\n",
       " (' characters merged', ' charli bowater and artgeem'),\n",
       " (' characters merged', ' standing in moonlight'),\n",
       " (' characters merged', ' libra'),\n",
       " (' characters merged', ' characters merged'),\n",
       " (' characters merged', ' dating app icon'),\n",
       " (' characters merged', ' water is made of stardust'),\n",
       " (' characters merged', ' high detailed drawing'),\n",
       " (' characters merged', ' low angel'),\n",
       " (' characters merged', ' holding gift'),\n",
       " (' characters merged', ' fairy cgsociety'),\n",
       " (' characters merged', ' desenho'),\n",
       " (' dating app icon', 'a man and a woman hugging in the sky'),\n",
       " (' dating app icon', ' by Cyril Rolando'),\n",
       " (' dating app icon', ' flowing blue hair'),\n",
       " (' dating app icon', ' shining crescent moon'),\n",
       " (' dating app icon', ' charli bowater and artgeem'),\n",
       " (' dating app icon', ' standing in moonlight'),\n",
       " (' dating app icon', ' libra'),\n",
       " (' dating app icon', ' characters merged'),\n",
       " (' dating app icon', ' dating app icon'),\n",
       " (' dating app icon', ' water is made of stardust'),\n",
       " (' dating app icon', ' high detailed drawing'),\n",
       " (' dating app icon', ' low angel'),\n",
       " (' dating app icon', ' holding gift'),\n",
       " (' dating app icon', ' fairy cgsociety'),\n",
       " (' dating app icon', ' desenho'),\n",
       " (' water is made of stardust', 'a man and a woman hugging in the sky'),\n",
       " (' water is made of stardust', ' by Cyril Rolando'),\n",
       " (' water is made of stardust', ' flowing blue hair'),\n",
       " (' water is made of stardust', ' shining crescent moon'),\n",
       " (' water is made of stardust', ' charli bowater and artgeem'),\n",
       " (' water is made of stardust', ' standing in moonlight'),\n",
       " (' water is made of stardust', ' libra'),\n",
       " (' water is made of stardust', ' characters merged'),\n",
       " (' water is made of stardust', ' dating app icon'),\n",
       " (' water is made of stardust', ' water is made of stardust'),\n",
       " (' water is made of stardust', ' high detailed drawing'),\n",
       " (' water is made of stardust', ' low angel'),\n",
       " (' water is made of stardust', ' holding gift'),\n",
       " (' water is made of stardust', ' fairy cgsociety'),\n",
       " (' water is made of stardust', ' desenho'),\n",
       " (' high detailed drawing', 'a man and a woman hugging in the sky'),\n",
       " (' high detailed drawing', ' by Cyril Rolando'),\n",
       " (' high detailed drawing', ' flowing blue hair'),\n",
       " (' high detailed drawing', ' shining crescent moon'),\n",
       " (' high detailed drawing', ' charli bowater and artgeem'),\n",
       " (' high detailed drawing', ' standing in moonlight'),\n",
       " (' high detailed drawing', ' libra'),\n",
       " (' high detailed drawing', ' characters merged'),\n",
       " (' high detailed drawing', ' dating app icon'),\n",
       " (' high detailed drawing', ' water is made of stardust'),\n",
       " (' high detailed drawing', ' high detailed drawing'),\n",
       " (' high detailed drawing', ' low angel'),\n",
       " (' high detailed drawing', ' holding gift'),\n",
       " (' high detailed drawing', ' fairy cgsociety'),\n",
       " (' high detailed drawing', ' desenho'),\n",
       " (' low angel', 'a man and a woman hugging in the sky'),\n",
       " (' low angel', ' by Cyril Rolando'),\n",
       " (' low angel', ' flowing blue hair'),\n",
       " (' low angel', ' shining crescent moon'),\n",
       " (' low angel', ' charli bowater and artgeem'),\n",
       " (' low angel', ' standing in moonlight'),\n",
       " (' low angel', ' libra'),\n",
       " (' low angel', ' characters merged'),\n",
       " (' low angel', ' dating app icon'),\n",
       " (' low angel', ' water is made of stardust'),\n",
       " (' low angel', ' high detailed drawing'),\n",
       " (' low angel', ' low angel'),\n",
       " (' low angel', ' holding gift'),\n",
       " (' low angel', ' fairy cgsociety'),\n",
       " (' low angel', ' desenho'),\n",
       " (' holding gift', 'a man and a woman hugging in the sky'),\n",
       " (' holding gift', ' by Cyril Rolando'),\n",
       " (' holding gift', ' flowing blue hair'),\n",
       " (' holding gift', ' shining crescent moon'),\n",
       " (' holding gift', ' charli bowater and artgeem'),\n",
       " (' holding gift', ' standing in moonlight'),\n",
       " (' holding gift', ' libra'),\n",
       " (' holding gift', ' characters merged'),\n",
       " (' holding gift', ' dating app icon'),\n",
       " (' holding gift', ' water is made of stardust'),\n",
       " (' holding gift', ' high detailed drawing'),\n",
       " (' holding gift', ' low angel'),\n",
       " (' holding gift', ' holding gift'),\n",
       " (' holding gift', ' fairy cgsociety'),\n",
       " (' holding gift', ' desenho'),\n",
       " (' fairy cgsociety', 'a man and a woman hugging in the sky'),\n",
       " (' fairy cgsociety', ' by Cyril Rolando'),\n",
       " (' fairy cgsociety', ' flowing blue hair'),\n",
       " (' fairy cgsociety', ' shining crescent moon'),\n",
       " (' fairy cgsociety', ' charli bowater and artgeem'),\n",
       " (' fairy cgsociety', ' standing in moonlight'),\n",
       " (' fairy cgsociety', ' libra'),\n",
       " (' fairy cgsociety', ' characters merged'),\n",
       " (' fairy cgsociety', ' dating app icon'),\n",
       " (' fairy cgsociety', ' water is made of stardust'),\n",
       " (' fairy cgsociety', ' high detailed drawing'),\n",
       " (' fairy cgsociety', ' low angel'),\n",
       " (' fairy cgsociety', ' holding gift'),\n",
       " (' fairy cgsociety', ' fairy cgsociety'),\n",
       " (' fairy cgsociety', ' desenho'),\n",
       " (' desenho', 'a man and a woman hugging in the sky'),\n",
       " (' desenho', ' by Cyril Rolando'),\n",
       " (' desenho', ' flowing blue hair'),\n",
       " (' desenho', ' shining crescent moon'),\n",
       " (' desenho', ' charli bowater and artgeem'),\n",
       " (' desenho', ' standing in moonlight'),\n",
       " (' desenho', ' libra'),\n",
       " (' desenho', ' characters merged'),\n",
       " (' desenho', ' dating app icon'),\n",
       " (' desenho', ' water is made of stardust'),\n",
       " (' desenho', ' high detailed drawing'),\n",
       " (' desenho', ' low angel'),\n",
       " (' desenho', ' holding gift'),\n",
       " (' desenho', ' fairy cgsociety'),\n",
       " (' desenho', ' desenho')]"
      ]
     },
     "execution_count": 7,
     "metadata": {},
     "output_type": "execute_result"
    }
   ],
   "source": []
  },
  {
   "cell_type": "code",
   "execution_count": 19,
   "id": "62158720",
   "metadata": {},
   "outputs": [],
   "source": [
    "for i in range(0,2):\n",
    "    im=images[i]\n",
    "    im.save(str(i)+'.png')"
   ]
  },
  {
   "cell_type": "code",
   "execution_count": 6,
   "id": "6c0c7fc5",
   "metadata": {},
   "outputs": [
    {
     "name": "stderr",
     "output_type": "stream",
     "text": [
      "NOTE: Redirects are currently not supported in Windows or MacOs.\n"
     ]
    },
    {
     "data": {
      "text/html": [
       "<pre style=\"white-space:pre;overflow-x:auto;line-height:normal;font-family:Menlo,'DejaVu Sans Mono',consolas,'Courier New',monospace\"><span style=\"color: #800000; text-decoration-color: #800000\">╭─────────────────────────────── </span><span style=\"color: #800000; text-decoration-color: #800000; font-weight: bold\">Traceback </span><span style=\"color: #bf7f7f; text-decoration-color: #bf7f7f; font-weight: bold\">(most recent call last)</span><span style=\"color: #800000; text-decoration-color: #800000\"> ────────────────────────────────╮</span>\n",
       "<span style=\"color: #800000; text-decoration-color: #800000\">│</span> <span style=\"color: #808000; text-decoration-color: #808000\">C:\\Users\\38957\\AppData\\Local\\Temp\\ipykernel_24512\\2249648653.py</span>:<span style=\"color: #0000ff; text-decoration-color: #0000ff\">1</span> in <span style=\"color: #00ff00; text-decoration-color: #00ff00\">&lt;module&gt;</span>                    <span style=\"color: #800000; text-decoration-color: #800000\">│</span>\n",
       "<span style=\"color: #800000; text-decoration-color: #800000\">│</span>                                                                                                  <span style=\"color: #800000; text-decoration-color: #800000\">│</span>\n",
       "<span style=\"color: #800000; text-decoration-color: #800000\">│</span> <span style=\"color: #800000; text-decoration-color: #800000; font-style: italic\">[Errno 2] No such file or directory: </span>                                                            <span style=\"color: #800000; text-decoration-color: #800000\">│</span>\n",
       "<span style=\"color: #800000; text-decoration-color: #800000\">│</span> <span style=\"color: #800000; text-decoration-color: #800000; font-style: italic\">'C:\\\\Users\\\\38957\\\\AppData\\\\Local\\\\Temp\\\\ipykernel_24512\\\\2249648653.py'</span>                         <span style=\"color: #800000; text-decoration-color: #800000\">│</span>\n",
       "<span style=\"color: #800000; text-decoration-color: #800000\">╰──────────────────────────────────────────────────────────────────────────────────────────────────╯</span>\n",
       "<span style=\"color: #ff0000; text-decoration-color: #ff0000; font-weight: bold\">ImportError: </span>cannot import name <span style=\"color: #008000; text-decoration-color: #008000\">'DPMSolverMultistepScheduler'</span> from <span style=\"color: #008000; text-decoration-color: #008000\">'diffusers'</span> \n",
       "<span style=\"font-weight: bold\">(</span>C:\\Users\\<span style=\"color: #008080; text-decoration-color: #008080; font-weight: bold\">38957</span>\\anaconda3\\envs\\sd\\lib\\site-packages\\diffusers\\__init__.py<span style=\"font-weight: bold\">)</span>\n",
       "</pre>\n"
      ],
      "text/plain": [
       "\u001b[31m╭─\u001b[0m\u001b[31m──────────────────────────────\u001b[0m\u001b[31m \u001b[0m\u001b[1;31mTraceback \u001b[0m\u001b[1;2;31m(most recent call last)\u001b[0m\u001b[31m \u001b[0m\u001b[31m───────────────────────────────\u001b[0m\u001b[31m─╮\u001b[0m\n",
       "\u001b[31m│\u001b[0m \u001b[33mC:\\Users\\38957\\AppData\\Local\\Temp\\ipykernel_24512\\2249648653.py\u001b[0m:\u001b[94m1\u001b[0m in \u001b[92m<module>\u001b[0m                    \u001b[31m│\u001b[0m\n",
       "\u001b[31m│\u001b[0m                                                                                                  \u001b[31m│\u001b[0m\n",
       "\u001b[31m│\u001b[0m \u001b[3;31m[Errno 2] No such file or directory: \u001b[0m                                                            \u001b[31m│\u001b[0m\n",
       "\u001b[31m│\u001b[0m \u001b[3;31m'C:\\\\Users\\\\38957\\\\AppData\\\\Local\\\\Temp\\\\ipykernel_24512\\\\2249648653.py'\u001b[0m                         \u001b[31m│\u001b[0m\n",
       "\u001b[31m╰──────────────────────────────────────────────────────────────────────────────────────────────────╯\u001b[0m\n",
       "\u001b[1;91mImportError: \u001b[0mcannot import name \u001b[32m'DPMSolverMultistepScheduler'\u001b[0m from \u001b[32m'diffusers'\u001b[0m \n",
       "\u001b[1m(\u001b[0mC:\\Users\\\u001b[1;36m38957\u001b[0m\\anaconda3\\envs\\sd\\lib\\site-packages\\diffusers\\__init__.py\u001b[1m)\u001b[0m\n"
      ]
     },
     "metadata": {},
     "output_type": "display_data"
    }
   ],
   "source": [
    "from diffusers import DiffusionPipeline, DPMSolverMultistepScheduler\n",
    "import torch\n",
    "\n",
    "repo_id = \"stabilityai/stable-diffusion-2\"\n",
    "pipe = DiffusionPipeline.from_pretrained(repo_id, torch_dtype=torch.float16, revision=\"fp16\")\n",
    "\n",
    "pipe.scheduler = DPMSolverMultistepScheduler.from_config(pipe.scheduler.config)\n",
    "pipe = pipe.to(\"cuda\")\n",
    "\n",
    "prompt = \"High quality photo of an astronaut riding a horse in space\"\n",
    "image = pipe(prompt, guidance_scale=9, num_inference_steps=25).images[0]\n",
    "image.save(\"astronaut.png\")"
   ]
  },
  {
   "cell_type": "code",
   "execution_count": 1,
   "id": "08f2e8ba",
   "metadata": {},
   "outputs": [],
   "source": [
    "from transformers import pipeline, set_seed"
   ]
  },
  {
   "cell_type": "code",
   "execution_count": 2,
   "id": "39f4ba0b",
   "metadata": {},
   "outputs": [],
   "source": [
    "import random,re"
   ]
  },
  {
   "cell_type": "code",
   "execution_count": 4,
   "id": "2de4617a",
   "metadata": {},
   "outputs": [
    {
     "data": {
      "application/vnd.jupyter.widget-view+json": {
       "model_id": "a440c43276a84d068a5147613c1057d8",
       "version_major": 2,
       "version_minor": 0
      },
      "text/plain": [
       "Downloading:   0%|          | 0.00/510M [00:00<?, ?B/s]"
      ]
     },
     "metadata": {},
     "output_type": "display_data"
    },
    {
     "data": {
      "application/vnd.jupyter.widget-view+json": {
       "model_id": "bbef6be518e84865b2bc413f144f8564",
       "version_major": 2,
       "version_minor": 0
      },
      "text/plain": [
       "Downloading:   0%|          | 0.00/665 [00:00<?, ?B/s]"
      ]
     },
     "metadata": {},
     "output_type": "display_data"
    },
    {
     "data": {
      "application/vnd.jupyter.widget-view+json": {
       "model_id": "9190d973c413443ebd3afdfae0626626",
       "version_major": 2,
       "version_minor": 0
      },
      "text/plain": [
       "Downloading:   0%|          | 0.00/1.04M [00:00<?, ?B/s]"
      ]
     },
     "metadata": {},
     "output_type": "display_data"
    },
    {
     "data": {
      "application/vnd.jupyter.widget-view+json": {
       "model_id": "cc87318014c44985baf2f0a7846eb113",
       "version_major": 2,
       "version_minor": 0
      },
      "text/plain": [
       "Downloading:   0%|          | 0.00/456k [00:00<?, ?B/s]"
      ]
     },
     "metadata": {},
     "output_type": "display_data"
    },
    {
     "data": {
      "application/vnd.jupyter.widget-view+json": {
       "model_id": "e1223fd85c1d424aad068ebd75760614",
       "version_major": 2,
       "version_minor": 0
      },
      "text/plain": [
       "Downloading:   0%|          | 0.00/1.36M [00:00<?, ?B/s]"
      ]
     },
     "metadata": {},
     "output_type": "display_data"
    }
   ],
   "source": [
    "gpt2_pipe = pipeline('text-generation', model='Gustavosta/MagicPrompt-Stable-Diffusion', tokenizer='gpt2')"
   ]
  },
  {
   "cell_type": "code",
   "execution_count": 5,
   "id": "78bfc700",
   "metadata": {},
   "outputs": [],
   "source": [
    "with open(\"ideas.txt\", \"r\") as f:\n",
    "    line = f.readlines()"
   ]
  },
  {
   "cell_type": "code",
   "execution_count": 15,
   "id": "8c1d78ed",
   "metadata": {},
   "outputs": [],
   "source": [
    "def generate(starting_text):\n",
    "    seed = random.randint(100, 1000000)\n",
    "    set_seed(seed)\n",
    "\n",
    "    if starting_text == \"\":\n",
    "        starting_text: str = line[random.randrange(0, len(line))].replace(\"\\n\", \"\").lower().capitalize()\n",
    "        starting_text: str = re.sub(r\"[,:\\-–.!;?_]\", '', starting_text)\n",
    "\n",
    "    response = gpt2_pipe(starting_text, max_length=(len(starting_text) + random.randint(60, 90)), num_return_sequences=4)\n",
    "    response_list = []\n",
    "    for x in response:\n",
    "        resp = x['generated_text'].strip()\n",
    "        if resp != starting_text and len(resp) > (len(starting_text) + 4) and resp.endswith((\":\", \"-\", \"—\")) is False:\n",
    "            resp = re.sub('[^ ]+\\.[^ ]+','', resp)\n",
    "            resp = resp.replace(\"<\", \"\").replace(\">\", \"\")\n",
    "            response_list.append(resp)\n",
    "\n",
    "   \n",
    "    return response_list\n",
    "\n",
    "\n",
    "\n",
    "examples = []\n",
    "for x in range(8):\n",
    "    examples.append(line[random.randrange(0, len(line))].replace(\"\\n\", \"\").lower().capitalize())\n",
    "\n"
   ]
  },
  {
   "cell_type": "code",
   "execution_count": 3,
   "id": "149df981",
   "metadata": {},
   "outputs": [
    {
     "name": "stderr",
     "output_type": "stream",
     "text": [
      "NOTE: Redirects are currently not supported in Windows or MacOs.\n"
     ]
    }
   ],
   "source": [
    "from diffusers import StableDiffusionPipeline\n",
    "import torch"
   ]
  },
  {
   "cell_type": "code",
   "execution_count": 45,
   "id": "2316a991",
   "metadata": {
    "scrolled": false
   },
   "outputs": [
    {
     "name": "stderr",
     "output_type": "stream",
     "text": [
      "Setting `pad_token_id` to `eos_token_id`:50256 for open-end generation.\n"
     ]
    },
    {
     "data": {
      "text/plain": [
       "['the poster style, by guweiz and stanley artgerm and makoto shinkai',\n",
       " 'the poster style of the rockers ( 2 0 1 8 ), highly detailed, digital painting, artstation, concept art, smooth, sharp focus, illustration, dark fantasy art, concept art by caravaggio and daniel zrom and even amundsen and alphonse mucha',\n",
       " 'the poster style, by ilya kuvshinov katsuhiro villeneuve, magali villeneuve, artgerm, jeremy lipkin and michael garmash and rob rey, pascal blanche, riot games',\n",
       " 'the poster style of frank miller comic cover art, artgerm, joshua middleton, purple color scheme, Frank Miller, colored pencil, intricate,']"
      ]
     },
     "execution_count": 45,
     "metadata": {},
     "output_type": "execute_result"
    }
   ],
   "source": [
    "generate('the poster style')"
   ]
  },
  {
   "cell_type": "code",
   "execution_count": 4,
   "id": "dda58a50",
   "metadata": {},
   "outputs": [
    {
     "data": {
      "application/vnd.jupyter.widget-view+json": {
       "model_id": "0a61f595959c426d805d4677643c6134",
       "version_major": 2,
       "version_minor": 0
      },
      "text/plain": [
       "Fetching 15 files:   0%|          | 0/15 [00:00<?, ?it/s]"
      ]
     },
     "metadata": {},
     "output_type": "display_data"
    },
    {
     "name": "stderr",
     "output_type": "stream",
     "text": [
      "You have passed `None` for safety_checker to disable its functionality in <class 'diffusers.pipelines.stable_diffusion.pipeline_stable_diffusion.StableDiffusionPipeline'>. Note that this might lead to problems when using <class 'diffusers.pipelines.stable_diffusion.pipeline_stable_diffusion.StableDiffusionPipeline'> and is not recommended.\n",
      "You have disabled the safety checker for <class 'diffusers.pipelines.stable_diffusion.pipeline_stable_diffusion.StableDiffusionPipeline'> by passing `safety_checker=None`. Ensure that you abide to the conditions of the Stable Diffusion license and do not expose unfiltered results in services or applications open to the public. Both the diffusers team and Hugging Face strongly recommend to keep the safety filter enabled in all public facing circumstances, disabling it only for use-cases that involve analyzing network behavior or auditing its results. For more information, please have a look at https://github.com/huggingface/diffusers/pull/254 .\n"
     ]
    }
   ],
   "source": [
    "sd_zh_pipe = StableDiffusionPipeline.from_pretrained(\"IDEA-CCNL/Taiyi-Stable-Diffusion-1B-Chinese-EN-v0.1\",safety_checker=None).to(\"cuda\")"
   ]
  },
  {
   "cell_type": "code",
   "execution_count": 124,
   "id": "b30afd51",
   "metadata": {},
   "outputs": [],
   "source": [
    "prompt = 'digital art,tech art,art style,code,ai art,gan art,'\n",
    "# image = sd_zh_pipe(prompt, guidance_scale=10.0,num_images_per_prompt=3).images[0]  \n",
    "# image.save(\"小桥.png\")"
   ]
  },
  {
   "cell_type": "code",
   "execution_count": 125,
   "id": "9cfc7a3a",
   "metadata": {},
   "outputs": [
    {
     "data": {
      "application/vnd.jupyter.widget-view+json": {
       "model_id": "bbbb82aedbd04d60ac898be8a0bbdedf",
       "version_major": 2,
       "version_minor": 0
      },
      "text/plain": [
       "  0%|          | 0/51 [00:00<?, ?it/s]"
      ]
     },
     "metadata": {},
     "output_type": "display_data"
    }
   ],
   "source": [
    "images=sd_zh_pipe(prompt, guidance_scale=10.0,num_images_per_prompt=1).images"
   ]
  },
  {
   "cell_type": "code",
   "execution_count": 126,
   "id": "025f08c8",
   "metadata": {},
   "outputs": [
    {
     "data": {
      "image/png": "[encoded data removed]",
      "text/plain": [
       "<PIL.Image.Image image mode=RGB size=512x512>"
      ]
     },
     "execution_count": 126,
     "metadata": {},
     "output_type": "execute_result"
    }
   ],
   "source": [
    "images[0]"
   ]
  },
  {
   "cell_type": "code",
   "execution_count": 103,
   "id": "64ff8894",
   "metadata": {},
   "outputs": [
    {
     "data": {
      "application/vnd.jupyter.widget-view+json": {
       "model_id": "755423191c5249549ca55ad35166739b",
       "version_major": 2,
       "version_minor": 0
      },
      "text/plain": [
       "  0%|          | 0/51 [00:00<?, ?it/s]"
      ]
     },
     "metadata": {},
     "output_type": "display_data"
    },
    {
     "data": {
      "application/vnd.jupyter.widget-view+json": {
       "model_id": "83ab8d1cffc54cf681b777e7e771f18e",
       "version_major": 2,
       "version_minor": 0
      },
      "text/plain": [
       "  0%|          | 0/51 [00:00<?, ?it/s]"
      ]
     },
     "metadata": {},
     "output_type": "display_data"
    },
    {
     "data": {
      "application/vnd.jupyter.widget-view+json": {
       "model_id": "a9e04826abdd40029a34931b3074099d",
       "version_major": 2,
       "version_minor": 0
      },
      "text/plain": [
       "  0%|          | 0/51 [00:00<?, ?it/s]"
      ]
     },
     "metadata": {},
     "output_type": "display_data"
    },
    {
     "data": {
      "application/vnd.jupyter.widget-view+json": {
       "model_id": "f987739c1d714d74b8b8c1ac470131f6",
       "version_major": 2,
       "version_minor": 0
      },
      "text/plain": [
       "  0%|          | 0/51 [00:00<?, ?it/s]"
      ]
     },
     "metadata": {},
     "output_type": "display_data"
    },
    {
     "data": {
      "application/vnd.jupyter.widget-view+json": {
       "model_id": "6c0e3ab8c7fa4b10b2e6af38e9e5c536",
       "version_major": 2,
       "version_minor": 0
      },
      "text/plain": [
       "  0%|          | 0/51 [00:00<?, ?it/s]"
      ]
     },
     "metadata": {},
     "output_type": "display_data"
    },
    {
     "data": {
      "application/vnd.jupyter.widget-view+json": {
       "model_id": "f3c5c98b98584aa896844b36f8fc463a",
       "version_major": 2,
       "version_minor": 0
      },
      "text/plain": [
       "  0%|          | 0/51 [00:00<?, ?it/s]"
      ]
     },
     "metadata": {},
     "output_type": "display_data"
    },
    {
     "data": {
      "application/vnd.jupyter.widget-view+json": {
       "model_id": "80e24dd224fb47728b59a864837cb322",
       "version_major": 2,
       "version_minor": 0
      },
      "text/plain": [
       "  0%|          | 0/51 [00:00<?, ?it/s]"
      ]
     },
     "metadata": {},
     "output_type": "display_data"
    },
    {
     "data": {
      "application/vnd.jupyter.widget-view+json": {
       "model_id": "2fe108e6a03244dcbb26f62e56b989f5",
       "version_major": 2,
       "version_minor": 0
      },
      "text/plain": [
       "  0%|          | 0/51 [00:00<?, ?it/s]"
      ]
     },
     "metadata": {},
     "output_type": "display_data"
    },
    {
     "data": {
      "application/vnd.jupyter.widget-view+json": {
       "model_id": "7993829f7dce4bf29dc8a340c7345b77",
       "version_major": 2,
       "version_minor": 0
      },
      "text/plain": [
       "  0%|          | 0/51 [00:00<?, ?it/s]"
      ]
     },
     "metadata": {},
     "output_type": "display_data"
    },
    {
     "data": {
      "application/vnd.jupyter.widget-view+json": {
       "model_id": "54154a74a7214e7495fc89f973202133",
       "version_major": 2,
       "version_minor": 0
      },
      "text/plain": [
       "  0%|          | 0/51 [00:00<?, ?it/s]"
      ]
     },
     "metadata": {},
     "output_type": "display_data"
    }
   ],
   "source": [
    "for i in range(10):\n",
    "    images=sd_zh_pipe(prompt, guidance_scale=10.0,num_images_per_prompt=1).images\n",
    "    images[0].save('1114_'+str(i)+\".png\")"
   ]
  },
  {
   "cell_type": "code",
   "execution_count": 22,
   "id": "8200abb9",
   "metadata": {},
   "outputs": [
    {
     "name": "stderr",
     "output_type": "stream",
     "text": [
      "C:\\Users\\38957\\anaconda3\\envs\\sd\\lib\\site-packages\\transformers\\models\\marian\\tokenization_marian.py:194: UserWarning: Recommended: pip install sacremoses.\n",
      "  warnings.warn(\"Recommended: pip install sacremoses.\")\n"
     ]
    }
   ],
   "source": [
    "en_zh_pipe = pipeline(\"text2text-generation\",model=\"Helsinki-NLP/opus-mt-en-zh\")"
   ]
  },
  {
   "cell_type": "code",
   "execution_count": 75,
   "id": "63875a7c",
   "metadata": {},
   "outputs": [
    {
     "data": {
      "text/plain": [
       "'图片1024px, 对其存在感到羞愧, 支柱,幽闭恐惧症'"
      ]
     },
     "execution_count": 75,
     "metadata": {},
     "output_type": "execute_result"
    }
   ],
   "source": [
    "title_zh=en_zh_pipe('a drawing of a man sitting on a set of stairs, a storybook illustration,by Miltos Manetas, featured on instagram, mannerism, emerging from the darkness, okay one fear, profile picture 1024px ')\n",
    "title_zh[0]['generated_text']"
   ]
  },
  {
   "cell_type": "code",
   "execution_count": 5,
   "id": "a80ff917",
   "metadata": {},
   "outputs": [],
   "source": [
    "# huggingface的sd库\n",
    "from diffusers import (\n",
    "    StableDiffusionPipeline,\n",
    "    StableDiffusionImg2ImgPipeline,\n",
    "    StableDiffusionInpaintPipeline,\n",
    ")\n",
    "import torch\n",
    "\n",
    "device=\"cuda\"\n",
    "model_id = \"IDEA-CCNL/Taiyi-Stable-Diffusion-1B-Chinese-EN-v0.1\"\n",
    "\n",
    "def init_sd():\n",
    "    global pipe_text2img\n",
    "    global pipe_img2img\n",
    "    \n",
    "    # 是否过滤黄暴图 ,safety_checker=None\n",
    "    # torch.backends.cudnn.benchmark = True\n",
    "    # global sd_zh_pipe\n",
    "    # sd_zh_pipe = StableDiffusionPipeline.from_pretrained(model_id, torch_dtype=torch.float16).to(device)\n",
    "    # sd_zh_pipe = StableDiffusionPipeline.from_pretrained(\"IDEA-CCNL/Taiyi-Stable-Diffusion-1B-Chinese-EN-v0.1\").to(\"cuda\")\n",
    "    pipe_text2img = StableDiffusionPipeline.from_pretrained(model_id, torch_dtype=torch.float16).to(device)\n",
    "    pipe_img2img = StableDiffusionImg2ImgPipeline(**pipe_text2img.components).to(device)"
   ]
  },
  {
   "cell_type": "code",
   "execution_count": 6,
   "id": "7fd3de40",
   "metadata": {},
   "outputs": [
    {
     "data": {
      "application/json": {
       "ascii": false,
       "bar_format": null,
       "colour": null,
       "elapsed": 0.014930248260498047,
       "initial": 0,
       "n": 0,
       "ncols": null,
       "nrows": 28,
       "postfix": null,
       "prefix": "Fetching 15 files",
       "rate": null,
       "total": 15,
       "unit": "it",
       "unit_divisor": 1000,
       "unit_scale": false
      },
      "application/vnd.jupyter.widget-view+json": {
       "model_id": "abc3604c5138435ca5e17e31c94cfeb1",
       "version_major": 2,
       "version_minor": 0
      },
      "text/plain": [
       "Fetching 15 files:   0%|          | 0/15 [00:00<?, ?it/s]"
      ]
     },
     "metadata": {},
     "output_type": "display_data"
    },
    {
     "data": {
      "text/html": [
       "<pre style=\"white-space:pre;overflow-x:auto;line-height:normal;font-family:Menlo,'DejaVu Sans Mono',consolas,'Courier New',monospace\"><span style=\"color: #800000; text-decoration-color: #800000\">╭─────────────────────────────── </span><span style=\"color: #800000; text-decoration-color: #800000; font-weight: bold\">Traceback </span><span style=\"color: #bf7f7f; text-decoration-color: #bf7f7f; font-weight: bold\">(most recent call last)</span><span style=\"color: #800000; text-decoration-color: #800000\"> ────────────────────────────────╮</span>\n",
       "<span style=\"color: #800000; text-decoration-color: #800000\">│</span> <span style=\"color: #808000; text-decoration-color: #808000\">C:\\Users\\38957\\AppData\\Local\\Temp\\ipykernel_330836\\413134403.py</span>:<span style=\"color: #0000ff; text-decoration-color: #0000ff\">1</span> in <span style=\"color: #00ff00; text-decoration-color: #00ff00\">&lt;module&gt;</span>                    <span style=\"color: #800000; text-decoration-color: #800000\">│</span>\n",
       "<span style=\"color: #800000; text-decoration-color: #800000\">│</span>                                                                                                  <span style=\"color: #800000; text-decoration-color: #800000\">│</span>\n",
       "<span style=\"color: #800000; text-decoration-color: #800000\">│</span> <span style=\"color: #800000; text-decoration-color: #800000; font-style: italic\">[Errno 2] No such file or directory: </span>                                                            <span style=\"color: #800000; text-decoration-color: #800000\">│</span>\n",
       "<span style=\"color: #800000; text-decoration-color: #800000\">│</span> <span style=\"color: #800000; text-decoration-color: #800000; font-style: italic\">'C:\\\\Users\\\\38957\\\\AppData\\\\Local\\\\Temp\\\\ipykernel_330836\\\\413134403.py'</span>                         <span style=\"color: #800000; text-decoration-color: #800000\">│</span>\n",
       "<span style=\"color: #800000; text-decoration-color: #800000\">│</span>                                                                                                  <span style=\"color: #800000; text-decoration-color: #800000\">│</span>\n",
       "<span style=\"color: #800000; text-decoration-color: #800000\">│</span> <span style=\"color: #808000; text-decoration-color: #808000\">C:\\Users\\38957\\AppData\\Local\\Temp\\ipykernel_330836\\4001061428.py</span>:<span style=\"color: #0000ff; text-decoration-color: #0000ff\">22</span> in <span style=\"color: #00ff00; text-decoration-color: #00ff00\">init_sd</span>                   <span style=\"color: #800000; text-decoration-color: #800000\">│</span>\n",
       "<span style=\"color: #800000; text-decoration-color: #800000\">│</span>                                                                                                  <span style=\"color: #800000; text-decoration-color: #800000\">│</span>\n",
       "<span style=\"color: #800000; text-decoration-color: #800000\">│</span> <span style=\"color: #800000; text-decoration-color: #800000; font-style: italic\">[Errno 2] No such file or directory: </span>                                                            <span style=\"color: #800000; text-decoration-color: #800000\">│</span>\n",
       "<span style=\"color: #800000; text-decoration-color: #800000\">│</span> <span style=\"color: #800000; text-decoration-color: #800000; font-style: italic\">'C:\\\\Users\\\\38957\\\\AppData\\\\Local\\\\Temp\\\\ipykernel_330836\\\\4001061428.py'</span>                        <span style=\"color: #800000; text-decoration-color: #800000\">│</span>\n",
       "<span style=\"color: #800000; text-decoration-color: #800000\">╰──────────────────────────────────────────────────────────────────────────────────────────────────╯</span>\n",
       "<span style=\"color: #ff0000; text-decoration-color: #ff0000; font-weight: bold\">AttributeError: </span><span style=\"color: #008000; text-decoration-color: #008000\">'StableDiffusionPipeline'</span> object has no attribute <span style=\"color: #008000; text-decoration-color: #008000\">'components'</span>\n",
       "</pre>\n"
      ],
      "text/plain": [
       "\u001b[31m╭─\u001b[0m\u001b[31m──────────────────────────────\u001b[0m\u001b[31m \u001b[0m\u001b[1;31mTraceback \u001b[0m\u001b[1;2;31m(most recent call last)\u001b[0m\u001b[31m \u001b[0m\u001b[31m───────────────────────────────\u001b[0m\u001b[31m─╮\u001b[0m\n",
       "\u001b[31m│\u001b[0m \u001b[33mC:\\Users\\38957\\AppData\\Local\\Temp\\ipykernel_330836\\413134403.py\u001b[0m:\u001b[94m1\u001b[0m in \u001b[92m<module>\u001b[0m                    \u001b[31m│\u001b[0m\n",
       "\u001b[31m│\u001b[0m                                                                                                  \u001b[31m│\u001b[0m\n",
       "\u001b[31m│\u001b[0m \u001b[3;31m[Errno 2] No such file or directory: \u001b[0m                                                            \u001b[31m│\u001b[0m\n",
       "\u001b[31m│\u001b[0m \u001b[3;31m'C:\\\\Users\\\\38957\\\\AppData\\\\Local\\\\Temp\\\\ipykernel_330836\\\\413134403.py'\u001b[0m                         \u001b[31m│\u001b[0m\n",
       "\u001b[31m│\u001b[0m                                                                                                  \u001b[31m│\u001b[0m\n",
       "\u001b[31m│\u001b[0m \u001b[33mC:\\Users\\38957\\AppData\\Local\\Temp\\ipykernel_330836\\4001061428.py\u001b[0m:\u001b[94m22\u001b[0m in \u001b[92minit_sd\u001b[0m                   \u001b[31m│\u001b[0m\n",
       "\u001b[31m│\u001b[0m                                                                                                  \u001b[31m│\u001b[0m\n",
       "\u001b[31m│\u001b[0m \u001b[3;31m[Errno 2] No such file or directory: \u001b[0m                                                            \u001b[31m│\u001b[0m\n",
       "\u001b[31m│\u001b[0m \u001b[3;31m'C:\\\\Users\\\\38957\\\\AppData\\\\Local\\\\Temp\\\\ipykernel_330836\\\\4001061428.py'\u001b[0m                        \u001b[31m│\u001b[0m\n",
       "\u001b[31m╰──────────────────────────────────────────────────────────────────────────────────────────────────╯\u001b[0m\n",
       "\u001b[1;91mAttributeError: \u001b[0m\u001b[32m'StableDiffusionPipeline'\u001b[0m object has no attribute \u001b[32m'components'\u001b[0m\n"
      ]
     },
     "metadata": {},
     "output_type": "display_data"
    }
   ],
   "source": [
    "init_sd()"
   ]
  },
  {
   "cell_type": "code",
   "execution_count": 7,
   "id": "b77d297c",
   "metadata": {},
   "outputs": [
    {
     "data": {
      "text/plain": [
       "StableDiffusionPipeline {\n",
       "  \"_class_name\": \"StableDiffusionPipeline\",\n",
       "  \"_diffusers_version\": \"0.6.0\",\n",
       "  \"feature_extractor\": [\n",
       "    \"transformers\",\n",
       "    \"CLIPFeatureExtractor\"\n",
       "  ],\n",
       "  \"safety_checker\": [\n",
       "    \"stable_diffusion\",\n",
       "    \"StableDiffusionSafetyChecker\"\n",
       "  ],\n",
       "  \"scheduler\": [\n",
       "    \"diffusers\",\n",
       "    \"PNDMScheduler\"\n",
       "  ],\n",
       "  \"text_encoder\": [\n",
       "    \"transformers\",\n",
       "    \"CLIPTextModel\"\n",
       "  ],\n",
       "  \"tokenizer\": [\n",
       "    \"transformers\",\n",
       "    \"CLIPTokenizer\"\n",
       "  ],\n",
       "  \"unet\": [\n",
       "    \"diffusers\",\n",
       "    \"UNet2DConditionModel\"\n",
       "  ],\n",
       "  \"vae\": [\n",
       "    \"diffusers\",\n",
       "    \"AutoencoderKL\"\n",
       "  ]\n",
       "}"
      ]
     },
     "execution_count": 7,
     "metadata": {},
     "output_type": "execute_result"
    }
   ],
   "source": [
    "pipe_text2img"
   ]
  },
  {
   "cell_type": "code",
   "execution_count": null,
   "id": "e8a77feb",
   "metadata": {},
   "outputs": [],
   "source": []
  }
 ],
 "metadata": {
  "kernelspec": {
   "display_name": "Python 3 (ipykernel)",
   "language": "python",
   "name": "python3"
  },
  "language_info": {
   "codemirror_mode": {
    "name": "ipython",
    "version": 3
   },
   "file_extension": ".py",
   "mimetype": "text/x-python",
   "name": "python",
   "nbconvert_exporter": "python",
   "pygments_lexer": "ipython3",
   "version": "3.8.15"
  }
 },
 "nbformat": 4,
 "nbformat_minor": 5
}
